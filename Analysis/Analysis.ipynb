{
 "cells": [
  {
   "cell_type": "markdown",
   "metadata": {},
   "source": [
    "## Analysis of Initial Model on Audio Data and Comparison of outputs from different Dataset(Youtube, CSC, Trial, Bag of Lies)\n",
    "\n",
    "Analysis is done on the behaviour of initial and final model. The Data corresponding to the different classes are studied\n",
    "\n",
    "\n",
    "### Import necessary packages"
   ]
  },
  {
   "cell_type": "code",
   "execution_count": 5,
   "metadata": {},
   "outputs": [],
   "source": [
    "import os, sys, glob, csv, numpy as np, pandas as pd, matplotlib.pyplot as plt, tensorflow as tf, IPython.display as ipd, keras\n",
    "from sklearn import model_selection, preprocessing\n",
    "import sklearn\n",
    "from os import walk, path\n",
    "from keras import models, layers, optimizers, preprocessing as KRSpreps, utils as KRSutils"
   ]
  },
  {
   "cell_type": "markdown",
   "metadata": {},
   "source": [
    "### Path of the frame wise Audio Data(from all data sources)"
   ]
  },
  {
   "cell_type": "code",
   "execution_count": 6,
   "metadata": {},
   "outputs": [],
   "source": [
    "direc = \"/home/adrikamukherjee/csv_frame_wise_fulldata\""
   ]
  },
  {
   "cell_type": "markdown",
   "metadata": {},
   "source": [
    "### Preparing data for processing\n",
    "\n",
    "Dropping unnecessary columns. Seperating labels and training data"
   ]
  },
  {
   "cell_type": "code",
   "execution_count": 7,
   "metadata": {},
   "outputs": [],
   "source": [
    "df_list, label_list = [], []\n",
    "for filename in glob.glob(os.path.join(direc, '*.csv')):\n",
    "            df_individualfile = pd.read_csv(filename)\n",
    "            count = len(df_individualfile.index)\n",
    "            if(count>0):\n",
    "                label = df_individualfile.loc[:, \"label\"].unique()[0]\n",
    "                df_individualfile.drop([\"name\", \"frameTime\", \"Unnamed: 0\", \"label\"], axis = 1, inplace = True)\n",
    "                df_individualfile.set_index(pd.date_range(start='2000-01-01', end='2020-01-12', \n",
    "                                                          periods = df_individualfile.shape[0]), inplace = True)\n",
    "                df_individualfile.drop_duplicates(inplace = True)\n",
    "                df_list.append(df_individualfile)\n",
    "                label_list.append(label)"
   ]
  },
  {
   "cell_type": "markdown",
   "metadata": {},
   "source": [
    "### Histogram of number of frame per audio\n",
    "\n",
    "Finding Statistical measures for number of frames obtained for each audio file; then plotting the distribution of frames across available data"
   ]
  },
  {
   "cell_type": "code",
   "execution_count": 8,
   "metadata": {},
   "outputs": [
    {
     "name": "stdout",
     "output_type": "stream",
     "text": [
      "count     8886.000000\n",
      "mean      1280.166329\n",
      "std       1040.589240\n",
      "min         69.000000\n",
      "25%        695.000000\n",
      "50%       1000.000000\n",
      "75%       1599.000000\n",
      "max      24400.000000\n",
      "dtype: float64\n",
      "[300.0, 400.0, 500.0, 599.0, 695.0, 700.0, 799.0, 899.0, 900.0, 1000.0, 1100.0, 1200.0, 1300.0, 1400.0, 1599.0, 1799.0, 2000.0, 2400.0, 3100.0]\n"
     ]
    },
    {
     "data": {
      "text/plain": [
       "<matplotlib.axes._subplots.AxesSubplot at 0x1ec1c6ba4c8>"
      ]
     },
     "execution_count": 8,
     "metadata": {},
     "output_type": "execute_result"
    },
    {
     "data": {
      "image/png": "[encoded data removed]",
      "text/plain": [
       "<Figure size 432x288 with 1 Axes>"
      ]
     },
     "metadata": {
      "needs_background": "light"
     },
     "output_type": "display_data"
    }
   ],
   "source": [
    "len_sequences = []\n",
    "for one_seq in df_list:\n",
    "    len_sequences.append(len(one_seq))\n",
    "len_sequences = pd.Series(len_sequences)\n",
    "print(len_sequences.describe())\n",
    "print([val for val in [len_sequences.quantile(q = qtl) for qtl in np.arange(0.05, 1, 0.05)]])\n",
    "len_sequences.hist(bins = 100)"
   ]
  },
  {
   "cell_type": "markdown",
   "metadata": {},
   "source": [
    "### Upsample data to 1600 frames(since 75% Audio files has 1600 frames)"
   ]
  },
  {
   "cell_type": "code",
   "execution_count": 9,
   "metadata": {},
   "outputs": [
    {
     "data": {
      "text/plain": [
       "Timedelta('4 days 13:48:31.069418')"
      ]
     },
     "execution_count": 9,
     "metadata": {},
     "output_type": "execute_result"
    }
   ],
   "source": [
    "import datetime\n",
    "deltatime = (pd.to_datetime(\"2020-01-12\") - pd.to_datetime(\"2000-01-01\"))/1599\n",
    "deltatime"
   ]
  },
  {
   "cell_type": "code",
   "execution_count": 10,
   "metadata": {},
   "outputs": [],
   "source": [
    "df_list_interpolated = []\n",
    "for df in df_list:\n",
    "    upsampled = df.resample(deltatime)\n",
    "    df_interpolated = upsampled.interpolate(method = 'linear')\n",
    "    #break\n",
    "    df_list_interpolated.append(df_interpolated)"
   ]
  },
  {
   "cell_type": "markdown",
   "metadata": {},
   "source": [
    "### Displaying data that could not be upsampled to 1600 frames && Removing them from list"
   ]
  },
  {
   "cell_type": "code",
   "execution_count": 15,
   "metadata": {},
   "outputs": [
    {
     "name": "stdout",
     "output_type": "stream",
     "text": [
      "(1541, 26) 8780\n"
     ]
    }
   ],
   "source": [
    "for i, df in zip(np.arange(len(df_list_interpolated)), df_list_interpolated):\n",
    "    if df.shape[0] != 1600:\n",
    "        print(df.shape, i)"
   ]
  },
  {
   "cell_type": "code",
   "execution_count": 16,
   "metadata": {},
   "outputs": [
    {
     "data": {
      "text/plain": [
       "'Truthful'"
      ]
     },
     "execution_count": 16,
     "metadata": {},
     "output_type": "execute_result"
    }
   ],
   "source": [
    "df_list_interpolated.pop(8780)\n",
    "label_list.pop(8780)"
   ]
  },
  {
   "cell_type": "markdown",
   "metadata": {},
   "source": [
    "### Confirming that all data with less than or greater than 1600 frames is removed"
   ]
  },
  {
   "cell_type": "code",
   "execution_count": 17,
   "metadata": {},
   "outputs": [],
   "source": [
    "for i, df in zip(np.arange(len(df_list_interpolated)), df_list_interpolated):\n",
    "    if df.shape[0] != 1600:\n",
    "        print(df.shape, i)"
   ]
  },
  {
   "cell_type": "markdown",
   "metadata": {},
   "source": [
    "### Converting data to numpy array && Reshaping data"
   ]
  },
  {
   "cell_type": "code",
   "execution_count": 18,
   "metadata": {},
   "outputs": [
    {
     "data": {
      "text/plain": [
       "(8883, 1600, 26)"
      ]
     },
     "execution_count": 18,
     "metadata": {},
     "output_type": "execute_result"
    }
   ],
   "source": [
    "data_X = np.array(pd.concat(df_list_interpolated, axis = 0)).reshape(-1, 1600, 26)\n",
    "data_X.shape"
   ]
  },
  {
   "cell_type": "markdown",
   "metadata": {},
   "source": [
    "### Converting ground_truth to numpy array"
   ]
  },
  {
   "cell_type": "code",
   "execution_count": 19,
   "metadata": {},
   "outputs": [
    {
     "data": {
      "text/plain": [
       "numpy.ndarray"
      ]
     },
     "execution_count": 19,
     "metadata": {},
     "output_type": "execute_result"
    }
   ],
   "source": [
    "data_y = pd.Series(label_list).apply(lambda y: 1 if y == \"Truthful\" else 0)\n",
    "data_y=data_y.to_numpy()\n",
    "type(data_y)"
   ]
  },
  {
   "cell_type": "markdown",
   "metadata": {},
   "source": [
    "### Spliting data into train and test sets for Analysis"
   ]
  },
  {
   "cell_type": "code",
   "execution_count": 20,
   "metadata": {},
   "outputs": [
    {
     "data": {
      "text/plain": [
       "(7994, 1600, 26)"
      ]
     },
     "execution_count": 20,
     "metadata": {},
     "output_type": "execute_result"
    }
   ],
   "source": [
    "X_train, X_test, y_train, y_test = model_selection.train_test_split(data_X, data_y, test_size=0.1, random_state=1)\n",
    "X_train.shape"
   ]
  },
  {
   "cell_type": "markdown",
   "metadata": {},
   "source": [
    "### Import old model and display Confusion Matrix\n",
    "\n",
    "Old model is the initial model that was built on Audio Data where deep learning technique was implemented"
   ]
  },
  {
   "cell_type": "code",
   "execution_count": 21,
   "metadata": {
    "scrolled": true
   },
   "outputs": [
    {
     "name": "stdout",
     "output_type": "stream",
     "text": [
      "889/889 [==============================] - 38s 43ms/sample - loss: 0.7504 - acc: 0.6400\n",
      "test loss, test acc: [0.7503658606847843, 0.640045]\n",
      "[[  3 318]\n",
      " [  2 566]]\n"
     ]
    }
   ],
   "source": [
    "from keras.models import load_model\n",
    "model = tf.keras.models.load_model('best_model_old.h5')\n",
    "y_true = preprocessing.label_binarize(y_test, classes = [0, 1])\n",
    "y_pred = model.predict(X_test)\n",
    "results = model.evaluate(X_test, y_test)\n",
    "print('test loss, test acc:', results)\n",
    "y_pred_det = preprocessing.label_binarize(pd.Series(y_pred[:, 0]).apply(lambda y: 0 if y<0.5 else 1), classes = [0, 1])\n",
    "\n",
    "conf = sklearn.metrics.confusion_matrix\n",
    "print(conf(y_true, y_pred_det))\n",
    "target_names = ['0', '1']"
   ]
  },
  {
   "cell_type": "markdown",
   "metadata": {},
   "source": [
    "### Import new model and display Confusion Matrix\n",
    "\n",
    "New model is the latest model which was finalized after reducing the variance in the model"
   ]
  },
  {
   "cell_type": "code",
   "execution_count": 22,
   "metadata": {},
   "outputs": [
    {
     "name": "stdout",
     "output_type": "stream",
     "text": [
      "889/889 [==============================] - 28s 32ms/sample - loss: 0.8212 - acc: 0.6682\n",
      "test loss, test acc: [0.8211638433324473, 0.66816646]\n",
      "[[ 44 277]\n",
      " [ 18 550]]\n"
     ]
    }
   ],
   "source": [
    "from keras.models import load_model\n",
    "model = tf.keras.models.load_model('best_model_new.h5')\n",
    "y_true_old = preprocessing.label_binarize(y_test, classes = [0, 1])\n",
    "y_pred_old= model.predict(X_test)\n",
    "results = model.evaluate(X_test, y_test)\n",
    "print('test loss, test acc:', results)\n",
    "y_pred_det_old = preprocessing.label_binarize(pd.Series(y_pred_old[:, 0]).apply(lambda y: 0 if y<0.5 else 1), classes = [0, 1])\n",
    "\n",
    "conf = sklearn.metrics.confusion_matrix\n",
    "print(conf(y_true_old, y_pred_det_old))\n",
    "target_names = ['0', '1']"
   ]
  },
  {
   "cell_type": "markdown",
   "metadata": {},
   "source": [
    "### Chisquare test on old and new model(using true positive, false positive, true negative, false negative)\n",
    "\n",
    "Low p_value indicates experimental changes done on new model are not random"
   ]
  },
  {
   "cell_type": "code",
   "execution_count": 23,
   "metadata": {},
   "outputs": [
    {
     "name": "stdout",
     "output_type": "stream",
     "text": [
      "9.800102489674618e-13\n"
     ]
    }
   ],
   "source": [
    "from scipy.stats import chisquare\n",
    "t,p=chisquare([3,318,2,566], f_exp=[44,277,18,550])\n",
    "print(p)"
   ]
  },
  {
   "cell_type": "markdown",
   "metadata": {},
   "source": [
    "### Loading the current best Model available, predicting output on test data\n",
    "### Calculate TP, FP, TN, FN\n",
    "True Positive = true_pred_true; False Positive = dec_pred_tru;True Negative= dec_pred_dec ; False Negative= true_pred_dec"
   ]
  },
  {
   "cell_type": "code",
   "execution_count": 24,
   "metadata": {},
   "outputs": [],
   "source": [
    "## Stores mean of all audio data meant for testing\n",
    "fl=[]\n",
    "model = tf.keras.models.load_model('best_model_new.h5')\n",
    "dec_pred_dec={}\n",
    "tru_pred_dec={}\n",
    "tru_pred_tru={}\n",
    "dec_pred_tru={}\n",
    "y_true = preprocessing.label_binarize(y_test, classes = [0, 1])\n",
    "y_pred = model.predict(X_test)\n",
    "for elem in X_test:\n",
    "    m=elem.mean(axis=0)\n",
    "    fl.append(m)\n",
    "y_pred_det = preprocessing.label_binarize(pd.Series(y_pred[:, 0]).apply(lambda y: 0 if y<0.5 else 1), classes = [0, 1])\n",
    "i=0\n",
    "for i in range(len(y_true)):\n",
    "    if((y_true[i][0]==0)and(y_pred_det[i][0]==0)):\n",
    "        dec_pred_dec[i]=fl[i]\n",
    "    if((y_true[i][0]==0)and(y_pred_det[i][0]==1)):\n",
    "        dec_pred_tru[i]=fl[i]\n",
    "    if((y_true[i][0]==1)and(y_pred_det[i][0]==0)):\n",
    "        tru_pred_dec[i]=fl[i]\n",
    "    if((y_true[i][0]==1)and(y_pred_det[i][0]==1)):\n",
    "        tru_pred_tru[i]=fl[i]\n",
    "    i+=1"
   ]
  },
  {
   "cell_type": "markdown",
   "metadata": {},
   "source": [
    "### Finding Cosine Similarity between pairwise data that yeild true positive and false positive values\n",
    "\n",
    "Printing maximum and minimum similarity"
   ]
  },
  {
   "cell_type": "code",
   "execution_count": 25,
   "metadata": {},
   "outputs": [
    {
     "name": "stdout",
     "output_type": "stream",
     "text": [
      "1.0 -0.8849088464763695\n"
     ]
    },
    {
     "data": {
      "image/png": "[encoded data removed]",
      "text/plain": [
       "<Figure size 432x288 with 1 Axes>"
      ]
     },
     "metadata": {
      "needs_background": "light"
     },
     "output_type": "display_data"
    }
   ],
   "source": [
    "from mpl_toolkits.mplot3d import Axes3D\n",
    "from scipy import spatial\n",
    "import numpy as np\n",
    "import pandas as pd\n",
    "import seaborn as sns\n",
    "import matplotlib.pyplot as plt\n",
    "from scipy import stats\n",
    "\n",
    "list_c=[]\n",
    "for k in tru_pred_tru.keys():\n",
    "    for k1 in dec_pred_tru.keys():\n",
    "        result = 1 - spatial.distance.cosine(tru_pred_tru[k], dec_pred_tru[k1])\n",
    "        list_c.append(result)\n",
    "       \n",
    "sns.distplot(list_c)\n",
    "max=list_c[0]\n",
    "min=list_c[0]\n",
    "for val in list_c:\n",
    "    if(val>max):\n",
    "        max=val\n",
    "    if(val<min):\n",
    "        min=val\n",
    "\n",
    "\n",
    "print(max,min)"
   ]
  },
  {
   "cell_type": "markdown",
   "metadata": {},
   "source": [
    "### Finding Cosine Similarity between pairwise data that yeild true positive and false negative values"
   ]
  },
  {
   "cell_type": "code",
   "execution_count": 27,
   "metadata": {},
   "outputs": [
    {
     "name": "stdout",
     "output_type": "stream",
     "text": [
      "0.9048966277889382 -0.8479326502949416\n"
     ]
    },
    {
     "data": {
      "image/png": "[encoded data removed]",
      "text/plain": [
       "<Figure size 432x288 with 1 Axes>"
      ]
     },
     "metadata": {
      "needs_background": "light"
     },
     "output_type": "display_data"
    }
   ],
   "source": [
    "from mpl_toolkits.mplot3d import Axes3D\n",
    "from scipy import spatial\n",
    "import numpy as np\n",
    "import pandas as pd\n",
    "import seaborn as sns\n",
    "import matplotlib.pyplot as plt\n",
    "from scipy import stats\n",
    "\n",
    "list_c=[]\n",
    "for k in tru_pred_tru.keys():\n",
    "    for k1 in tru_pred_dec.keys():\n",
    "        result = 1 - spatial.distance.cosine(tru_pred_tru[k], tru_pred_dec[k1])\n",
    "        list_c.append(result)\n",
    "       \n",
    "sns.distplot(list_c)\n",
    "max=list_c[0]\n",
    "min=list_c[0]\n",
    "for val in list_c:\n",
    "    if(val>max):\n",
    "        max=val\n",
    "    if(val<min):\n",
    "        min=val\n",
    "\n",
    "\n",
    "print(max,min)"
   ]
  },
  {
   "cell_type": "markdown",
   "metadata": {},
   "source": [
    "### FInding Cosine Similarity between pairwise data that yeild false negative and true negative values"
   ]
  },
  {
   "cell_type": "code",
   "execution_count": 28,
   "metadata": {},
   "outputs": [
    {
     "name": "stdout",
     "output_type": "stream",
     "text": [
      "0.9009442872383342 -0.7523691156503096\n"
     ]
    },
    {
     "data": {
      "image/png": "[encoded data removed]",
      "text/plain": [
       "<Figure size 432x288 with 1 Axes>"
      ]
     },
     "metadata": {
      "needs_background": "light"
     },
     "output_type": "display_data"
    }
   ],
   "source": [
    "from mpl_toolkits.mplot3d import Axes3D\n",
    "from scipy import spatial\n",
    "import numpy as np\n",
    "import pandas as pd\n",
    "import seaborn as sns\n",
    "import matplotlib.pyplot as plt\n",
    "from scipy import stats\n",
    "\n",
    "list_c=[]\n",
    "for k in dec_pred_dec.keys():\n",
    "    for k1 in tru_pred_dec.keys():\n",
    "        result = 1 - spatial.distance.cosine(dec_pred_dec[k], tru_pred_dec[k1])\n",
    "        list_c.append(result)\n",
    "       \n",
    "sns.distplot(list_c)\n",
    "max=list_c[0]\n",
    "min=list_c[0]\n",
    "for val in list_c:\n",
    "    if(val>max):\n",
    "        max=val\n",
    "    if(val<min):\n",
    "        min=val\n",
    "\n",
    "\n",
    "print(max,min)"
   ]
  },
  {
   "cell_type": "markdown",
   "metadata": {},
   "source": [
    "### Finding Cosine Similarity between pairwise data that yeild true negative and false positive data"
   ]
  },
  {
   "cell_type": "code",
   "execution_count": 29,
   "metadata": {},
   "outputs": [
    {
     "name": "stdout",
     "output_type": "stream",
     "text": [
      "0.9857908137761888 -0.8142453740402182\n"
     ]
    },
    {
     "data": {
      "image/png": "[encoded data removed]",
      "text/plain": [
       "<Figure size 432x288 with 1 Axes>"
      ]
     },
     "metadata": {
      "needs_background": "light"
     },
     "output_type": "display_data"
    }
   ],
   "source": [
    "from mpl_toolkits.mplot3d import Axes3D\n",
    "from scipy import spatial\n",
    "import numpy as np\n",
    "import pandas as pd\n",
    "import seaborn as sns\n",
    "import matplotlib.pyplot as plt\n",
    "from scipy import stats\n",
    "\n",
    "list_c=[]\n",
    "for k in dec_pred_dec.keys():\n",
    "    for k1 in dec_pred_tru.keys():\n",
    "        result = 1 - spatial.distance.cosine(dec_pred_dec[k], dec_pred_tru[k1])\n",
    "        list_c.append(result)\n",
    "       \n",
    "sns.distplot(list_c)\n",
    "max=list_c[0]\n",
    "min=list_c[0]\n",
    "for val in list_c:\n",
    "    if(val>max):\n",
    "        max=val\n",
    "    if(val<min):\n",
    "        min=val\n",
    "\n",
    "\n",
    "print(max,min)"
   ]
  },
  {
   "cell_type": "markdown",
   "metadata": {},
   "source": [
    "## Combined; Are data picked up from the same sample?? \n",
    "### All data predicted as true are they picked from same sample?\n",
    "    \n",
    "Finding Relation between data that is truthful,predicted as truthful and deceptive but predicted as truthful:(tru_pred_tru,dec_pred_tru)"
   ]
  },
  {
   "cell_type": "code",
   "execution_count": 31,
   "metadata": {},
   "outputs": [],
   "source": [
    "# All data predicted as truthful are stored in tru\n",
    "tru={}\n",
    "k=0\n",
    "for elem in tru_pred_tru.values():\n",
    "    tru[k]=elem\n",
    "    k +=1\n",
    "for elem1 in dec_pred_tru.values():\n",
    "    tru[k]=elem1\n",
    "    k +=1"
   ]
  },
  {
   "cell_type": "code",
   "execution_count": 32,
   "metadata": {},
   "outputs": [
    {
     "data": {
      "text/plain": [
       "0.13720839921527586"
      ]
     },
     "execution_count": 32,
     "metadata": {},
     "output_type": "execute_result"
    }
   ],
   "source": [
    "from scipy.stats import f_oneway\n",
    "t, p =  f_oneway(*tru.values())\n",
    "p"
   ]
  },
  {
   "cell_type": "markdown",
   "metadata": {},
   "source": [
    "Well, the p value suggest they are indeed picked from same space"
   ]
  },
  {
   "cell_type": "markdown",
   "metadata": {},
   "source": [
    "### All data predicted as deceptive are they picked from same sample?\n",
    "\n",
    "Finding Relation between data that is deceptive,predicted as deceptive and truthful but predicted as deceptive: (dec_pred_dec,tru_pred_dec)"
   ]
  },
  {
   "cell_type": "code",
   "execution_count": 33,
   "metadata": {},
   "outputs": [],
   "source": [
    "# All data predicted as truthful are stored in tru\n",
    "dec={}\n",
    "k=0\n",
    "for elem in dec_pred_dec.values():\n",
    "    dec[k]=elem\n",
    "    k +=1\n",
    "for elem1 in tru_pred_dec.values():\n",
    "    dec[k]=elem1\n",
    "    k +=1"
   ]
  },
  {
   "cell_type": "code",
   "execution_count": 34,
   "metadata": {},
   "outputs": [
    {
     "data": {
      "text/plain": [
       "0.8544341150083619"
      ]
     },
     "execution_count": 34,
     "metadata": {},
     "output_type": "execute_result"
    }
   ],
   "source": [
    "from scipy.stats import f_oneway\n",
    "t, p =  f_oneway(*dec.values())\n",
    "p"
   ]
  },
  {
   "cell_type": "markdown",
   "metadata": {},
   "source": [
    "Well, the p value suggest they are indeed picked from same space; also data predicted as deceptive(TN and FN) is more similar to each other than those predicted as truthful(TP and FP)"
   ]
  },
  {
   "cell_type": "markdown",
   "metadata": {},
   "source": [
    "## Compare Metrics from individual datasets"
   ]
  },
  {
   "cell_type": "code",
   "execution_count": 36,
   "metadata": {},
   "outputs": [],
   "source": [
    "### Empty list that will hold different metric values from different data sources\n",
    "Acc, Pre, Re, Auc=[],[],[],[]"
   ]
  },
  {
   "cell_type": "markdown",
   "metadata": {},
   "source": [
    "### Testing Model on Youtube data\n",
    "Preprocessing are performed on data collected from youtube"
   ]
  },
  {
   "cell_type": "code",
   "execution_count": 37,
   "metadata": {},
   "outputs": [
    {
     "name": "stdout",
     "output_type": "stream",
     "text": [
      "(1541, 26) 107\n"
     ]
    }
   ],
   "source": [
    "df_list, label_list = [], []\n",
    "for filename in glob.glob(os.path.join(direc, '*.csv')):\n",
    "    if \"Youtube\" in filename:\n",
    "            df_individualfile = pd.read_csv(filename)\n",
    "            count = len(df_individualfile.index)\n",
    "            if(count>0):\n",
    "                label = df_individualfile.loc[:, \"label\"].unique()[0]\n",
    "                df_individualfile.drop([\"name\", \"frameTime\", \"Unnamed: 0\", \"label\"], axis = 1, inplace = True)\n",
    "                df_individualfile.set_index(pd.date_range(start='2000-01-01', end='2020-01-12', \n",
    "                                                          periods = df_individualfile.shape[0]), inplace = True)\n",
    "                df_individualfile.drop_duplicates(inplace = True)\n",
    "                df_list.append(df_individualfile)\n",
    "                label_list.append(label)\n",
    "\n",
    "import datetime\n",
    "deltatime = (pd.to_datetime(\"2020-01-12\") - pd.to_datetime(\"2000-01-01\"))/1599\n",
    "deltatime\n",
    "\n",
    "df_list_interpolated = []\n",
    "for df in df_list:\n",
    "    upsampled = df.resample(deltatime)\n",
    "    df_interpolated = upsampled.interpolate(method = 'linear')\n",
    "    #break\n",
    "    df_list_interpolated.append(df_interpolated)\n",
    "\n",
    "for i, df in zip(np.arange(len(df_list_interpolated)), df_list_interpolated):\n",
    "    if df.shape[0] != 1600:\n",
    "        print(df.shape, i)\n"
   ]
  },
  {
   "cell_type": "markdown",
   "metadata": {},
   "source": [
    "### Remove data that does not have 1600 frames"
   ]
  },
  {
   "cell_type": "code",
   "execution_count": 38,
   "metadata": {},
   "outputs": [
    {
     "data": {
      "text/plain": [
       "numpy.ndarray"
      ]
     },
     "execution_count": 38,
     "metadata": {},
     "output_type": "execute_result"
    }
   ],
   "source": [
    "df_list_interpolated.pop(107)\n",
    "label_list.pop(107)\n",
    "\n",
    "X_test = np.array(pd.concat(df_list_interpolated, axis = 0)).reshape(-1, 1600, 26)\n",
    "X_test.shape\n",
    "\n",
    "y_test = pd.Series(label_list).apply(lambda y: 1 if y == \"Truthful\" else 0)\n",
    "y_test=y_test.to_numpy()\n",
    "type(y_test)"
   ]
  },
  {
   "cell_type": "markdown",
   "metadata": {},
   "source": [
    "### Loading Model && Calculating the Metrics for Youtube data"
   ]
  },
  {
   "cell_type": "code",
   "execution_count": 39,
   "metadata": {},
   "outputs": [
    {
     "name": "stdout",
     "output_type": "stream",
     "text": [
      "210/210 [==============================] - 8s 40ms/sample - loss: 0.8690 - acc: 0.5286\n",
      "Cohens kappa: 0.139562\n",
      "ROC AUC: 0.581108\n"
     ]
    }
   ],
   "source": [
    "model = tf.keras.models.load_model('best_model_new.h5')\n",
    "y_true = preprocessing.label_binarize(y_test, classes = [0, 1])\n",
    "results = model.evaluate(X_test, y_test)\n",
    "y_pred = model.predict(X_test)\n",
    "for elem in X_test:\n",
    "    m=elem.mean(axis=0)\n",
    "    fl.append(m)\n",
    "y_pred_det = preprocessing.label_binarize(pd.Series(y_pred[:, 0]).apply(lambda y: 0 if y<0.6 else 1), classes = [0, 1])\n",
    "\n",
    "\n",
    "from sklearn.metrics import f1_score, precision_score, recall_score, confusion_matrix,cohen_kappa_score,roc_auc_score, accuracy_score\n",
    "y_pred1 = model.predict(X_test)\n",
    "y_pred = np.argmax(y_pred1, axis=1)\n",
    "\n",
    "# Print f1, precision, and recall scores\n",
    "prec = precision_score(y_test, y_pred_det , average=\"macro\")\n",
    "rec = recall_score(y_test, y_pred_det , average=\"macro\")\n",
    "fsc= f1_score(y_test, y_pred_det , average=\"macro\")\n",
    "# kappa\n",
    "kappa = cohen_kappa_score(y_test, y_pred_det)\n",
    "print('Cohens kappa: %f' % kappa)\n",
    "# ROC AUC\n",
    "auc = roc_auc_score(y_test, y_pred_det)\n",
    "print('ROC AUC: %f' % auc)\n",
    "accu = accuracy_score(y_test, y_pred_det)\n",
    "\n",
    "Acc.append(accu)\n",
    "Pre.append(prec)\n",
    "Re.append(rec)\n",
    "Auc.append(auc)"
   ]
  },
  {
   "cell_type": "markdown",
   "metadata": {},
   "source": [
    "## Test Model on Bag of lies data\n",
    "Preprocessing steps are performed on data collected from Bag of lies"
   ]
  },
  {
   "cell_type": "code",
   "execution_count": 40,
   "metadata": {},
   "outputs": [
    {
     "data": {
      "text/plain": [
       "numpy.ndarray"
      ]
     },
     "execution_count": 40,
     "metadata": {},
     "output_type": "execute_result"
    }
   ],
   "source": [
    "df_list, label_list = [], []\n",
    "for filename in glob.glob(os.path.join(direc, '*.csv')):\n",
    "    if \"BagOfLies\" in filename:\n",
    "            df_individualfile = pd.read_csv(filename)\n",
    "            count = len(df_individualfile.index)\n",
    "            if(count>0):\n",
    "                label = df_individualfile.loc[:, \"label\"].unique()[0]\n",
    "                df_individualfile.drop([\"name\", \"frameTime\", \"Unnamed: 0\", \"label\"], axis = 1, inplace = True)\n",
    "                df_individualfile.set_index(pd.date_range(start='2000-01-01', end='2020-01-12', \n",
    "                                                          periods = df_individualfile.shape[0]), inplace = True)\n",
    "                df_individualfile.drop_duplicates(inplace = True)\n",
    "                df_list.append(df_individualfile)\n",
    "                label_list.append(label)\n",
    "\n",
    "import datetime\n",
    "deltatime = (pd.to_datetime(\"2020-01-12\") - pd.to_datetime(\"2000-01-01\"))/1599\n",
    "deltatime\n",
    "\n",
    "df_list_interpolated = []\n",
    "for df in df_list:\n",
    "    upsampled = df.resample(deltatime)\n",
    "    df_interpolated = upsampled.interpolate(method = 'linear')\n",
    "    #break\n",
    "    df_list_interpolated.append(df_interpolated)\n",
    "\n",
    "for i, df in zip(np.arange(len(df_list_interpolated)), df_list_interpolated):\n",
    "    if df.shape[0] != 1600:\n",
    "        print(df.shape, i)\n",
    "\n",
    "X_test = np.array(pd.concat(df_list_interpolated, axis = 0)).reshape(-1, 1600, 26)\n",
    "X_test.shape\n",
    "\n",
    "y_test = pd.Series(label_list).apply(lambda y: 1 if y == \"Truthful\" else 0)\n",
    "y_test=y_test.to_numpy()\n",
    "type(y_test)"
   ]
  },
  {
   "cell_type": "markdown",
   "metadata": {},
   "source": [
    "### Loading Model && Calculating the Metrics for Bag of lies data"
   ]
  },
  {
   "cell_type": "code",
   "execution_count": 41,
   "metadata": {},
   "outputs": [
    {
     "name": "stdout",
     "output_type": "stream",
     "text": [
      "325/325 [==============================] - 16s 50ms/sample - loss: 0.8909 - acc: 0.5231\n",
      "Cohens kappa: -0.018578\n",
      "ROC AUC: 0.490684\n"
     ]
    }
   ],
   "source": [
    "model = tf.keras.models.load_model('best_model_new.h5')\n",
    "y_true = preprocessing.label_binarize(y_test, classes = [0, 1])\n",
    "results = model.evaluate(X_test, y_test)\n",
    "y_pred = model.predict(X_test)\n",
    "for elem in X_test:\n",
    "    m=elem.mean(axis=0)\n",
    "    fl.append(m)\n",
    "y_pred_det = preprocessing.label_binarize(pd.Series(y_pred[:, 0]).apply(lambda y: 0 if y<0.6 else 1), classes = [0, 1])\n",
    "\n",
    "from sklearn.metrics import f1_score, precision_score, recall_score, confusion_matrix,cohen_kappa_score,roc_auc_score, accuracy_score\n",
    "y_pred1 = model.predict(X_test)\n",
    "y_pred = np.argmax(y_pred1, axis=1)\n",
    "\n",
    "# Print f1, precision, and recall scores\n",
    "prec = precision_score(y_test, y_pred_det , average=\"macro\")\n",
    "rec = recall_score(y_test, y_pred_det , average=\"macro\")\n",
    "fsc= f1_score(y_test, y_pred_det , average=\"macro\")\n",
    "# kappa\n",
    "kappa = cohen_kappa_score(y_test, y_pred_det)\n",
    "print('Cohens kappa: %f' % kappa)\n",
    "# ROC AUC\n",
    "auc = roc_auc_score(y_test, y_pred_det)\n",
    "print('ROC AUC: %f' % auc)\n",
    "accu = accuracy_score(y_test, y_pred_det)\n",
    "\n",
    "Acc.append(accu)\n",
    "Pre.append(prec)\n",
    "Re.append(rec)\n",
    "Auc.append(auc)\n"
   ]
  },
  {
   "cell_type": "markdown",
   "metadata": {},
   "source": [
    "## Test Model on CSC data\n",
    "Preprocessing steps are performed on data collected from CSC dataset"
   ]
  },
  {
   "cell_type": "code",
   "execution_count": 42,
   "metadata": {},
   "outputs": [
    {
     "data": {
      "text/plain": [
       "numpy.ndarray"
      ]
     },
     "execution_count": 42,
     "metadata": {},
     "output_type": "execute_result"
    }
   ],
   "source": [
    "df_list, label_list = [], []\n",
    "count =0 \n",
    "for filename in glob.glob(os.path.join(direc, '*.csv')):\n",
    "    if \"CSC\" in filename:\n",
    "        if(len(df_list)<300):\n",
    "            df_individualfile = pd.read_csv(filename)\n",
    "            count = len(df_individualfile.index)\n",
    "            if(count>0):\n",
    "                label = df_individualfile.loc[:, \"label\"].unique()[0]\n",
    "                df_individualfile.drop([\"name\", \"frameTime\", \"Unnamed: 0\", \"label\"], axis = 1, inplace = True)\n",
    "                df_individualfile.set_index(pd.date_range(start='2000-01-01', end='2020-01-12', \n",
    "                                                          periods = df_individualfile.shape[0]), inplace = True)\n",
    "                df_individualfile.drop_duplicates(inplace = True)\n",
    "                df_list.append(df_individualfile)\n",
    "                label_list.append(label)\n",
    "\n",
    "\n",
    "import datetime\n",
    "deltatime = (pd.to_datetime(\"2020-01-12\") - pd.to_datetime(\"2000-01-01\"))/1599\n",
    "deltatime\n",
    "\n",
    "df_list_interpolated = []\n",
    "for df in df_list:\n",
    "    upsampled = df.resample(deltatime)\n",
    "    df_interpolated = upsampled.interpolate(method = 'linear')\n",
    "    #break\n",
    "    df_list_interpolated.append(df_interpolated)\n",
    "\n",
    "for i, df in zip(np.arange(len(df_list_interpolated)), df_list_interpolated):\n",
    "    if df.shape[0] != 1600:\n",
    "        print(df.shape, i)\n",
    "\n",
    "X_test = np.array(pd.concat(df_list_interpolated, axis = 0)).reshape(-1, 1600, 26)\n",
    "X_test.shape\n",
    "\n",
    "y_test = pd.Series(label_list).apply(lambda y: 1 if y == \"Truthful\" else 0)\n",
    "y_test=y_test.to_numpy()\n",
    "type(y_test)"
   ]
  },
  {
   "cell_type": "markdown",
   "metadata": {},
   "source": [
    "### Loading Model && Calculating the Metrics for CSC data"
   ]
  },
  {
   "cell_type": "code",
   "execution_count": 43,
   "metadata": {},
   "outputs": [
    {
     "name": "stdout",
     "output_type": "stream",
     "text": [
      "300/300 [==============================] - 13s 45ms/sample - loss: 0.8373 - acc: 0.6033\n",
      "Cohens kappa: 0.297331\n",
      "ROC AUC: 0.651232\n"
     ]
    }
   ],
   "source": [
    "model = tf.keras.models.load_model('best_model_new.h5')\n",
    "y_true = preprocessing.label_binarize(y_test, classes = [0, 1])\n",
    "results = model.evaluate(X_test, y_test)\n",
    "y_pred = model.predict(X_test)\n",
    "for elem in X_test:\n",
    "    m=elem.mean(axis=0)\n",
    "    fl.append(m)\n",
    "y_pred_det = preprocessing.label_binarize(pd.Series(y_pred[:, 0]).apply(lambda y: 0 if y<0.6 else 1), classes = [0, 1])\n",
    "\n",
    "from sklearn.metrics import f1_score, precision_score, recall_score, confusion_matrix,cohen_kappa_score,roc_auc_score, accuracy_score\n",
    "y_pred1 = model.predict(X_test)\n",
    "y_pred = np.argmax(y_pred1, axis=1)\n",
    "\n",
    "# Print f1, precision, and recall scores\n",
    "prec = precision_score(y_test, y_pred_det , average=\"macro\")\n",
    "rec = recall_score(y_test, y_pred_det , average=\"macro\")\n",
    "fsc= f1_score(y_test, y_pred_det , average=\"macro\")\n",
    "# kappa\n",
    "kappa = cohen_kappa_score(y_test, y_pred_det)\n",
    "print('Cohens kappa: %f' % kappa)\n",
    "# ROC AUC\n",
    "auc = roc_auc_score(y_test, y_pred_det)\n",
    "print('ROC AUC: %f' % auc)\n",
    "accu = accuracy_score(y_test, y_pred_det)\n",
    "\n",
    "Acc.append(accu)\n",
    "Pre.append(prec)\n",
    "Re.append(rec)\n",
    "Auc.append(auc)"
   ]
  },
  {
   "cell_type": "markdown",
   "metadata": {},
   "source": [
    "## Test Model on Trial data\n",
    "Preprocessing steps are performed on data collected from trial dataset"
   ]
  },
  {
   "cell_type": "code",
   "execution_count": 44,
   "metadata": {},
   "outputs": [
    {
     "data": {
      "text/plain": [
       "numpy.ndarray"
      ]
     },
     "execution_count": 44,
     "metadata": {},
     "output_type": "execute_result"
    }
   ],
   "source": [
    "df_list, label_list = [], []\n",
    "for filename in glob.glob(os.path.join(direc, '*.csv')):\n",
    "    if \"trial\" in filename:\n",
    "            df_individualfile = pd.read_csv(filename)\n",
    "            count = len(df_individualfile.index)\n",
    "            if(count>0):\n",
    "                label = df_individualfile.loc[:, \"label\"].unique()[0]\n",
    "                df_individualfile.drop([\"name\", \"frameTime\", \"Unnamed: 0\", \"label\"], axis = 1, inplace = True)\n",
    "                df_individualfile.set_index(pd.date_range(start='2000-01-01', end='2020-01-12', \n",
    "                                                          periods = df_individualfile.shape[0]), inplace = True)\n",
    "                df_individualfile.drop_duplicates(inplace = True)\n",
    "                df_list.append(df_individualfile)\n",
    "                label_list.append(label)\n",
    "\n",
    "import datetime\n",
    "deltatime = (pd.to_datetime(\"2020-01-12\") - pd.to_datetime(\"2000-01-01\"))/1599\n",
    "deltatime\n",
    "\n",
    "df_list_interpolated = []\n",
    "for df in df_list:\n",
    "    upsampled = df.resample(deltatime)\n",
    "    df_interpolated = upsampled.interpolate(method = 'linear')\n",
    "    #break\n",
    "    df_list_interpolated.append(df_interpolated)\n",
    "\n",
    "for i, df in zip(np.arange(len(df_list_interpolated)), df_list_interpolated):\n",
    "    if df.shape[0] != 1600:\n",
    "        print(df.shape, i)\n",
    "        \n",
    "X_test = np.array(pd.concat(df_list_interpolated, axis = 0)).reshape(-1, 1600, 26)\n",
    "X_test.shape\n",
    "\n",
    "y_test = pd.Series(label_list).apply(lambda y: 1 if y == \"Truthful\" else 0)\n",
    "y_test=y_test.to_numpy()\n",
    "type(y_test)"
   ]
  },
  {
   "cell_type": "markdown",
   "metadata": {},
   "source": [
    "### Loading Model && Calculating the Metrics for trial data"
   ]
  },
  {
   "cell_type": "code",
   "execution_count": 45,
   "metadata": {},
   "outputs": [
    {
     "name": "stdout",
     "output_type": "stream",
     "text": [
      "121/121 [==============================] - 10s 81ms/sample - loss: 0.8500 - acc: 0.5620\n",
      "Cohens kappa: 0.337712\n",
      "ROC AUC: 0.668579\n"
     ]
    }
   ],
   "source": [
    "model = tf.keras.models.load_model('best_model_new.h5')\n",
    "y_true = preprocessing.label_binarize(y_test, classes = [0, 1])\n",
    "results = model.evaluate(X_test, y_test)\n",
    "y_pred = model.predict(X_test)\n",
    "for elem in X_test:\n",
    "    m=elem.mean(axis=0)\n",
    "    fl.append(m)\n",
    "y_pred_det = preprocessing.label_binarize(pd.Series(y_pred[:, 0]).apply(lambda y: 0 if y<0.6 else 1), classes = [0, 1])\n",
    "\n",
    "from sklearn.metrics import f1_score, precision_score, recall_score, confusion_matrix,cohen_kappa_score,roc_auc_score, accuracy_score\n",
    "y_pred1 = model.predict(X_test)\n",
    "y_pred = np.argmax(y_pred1, axis=1)\n",
    "\n",
    "# Print f1, precision, and recall scores\n",
    "prec = precision_score(y_test, y_pred_det , average=\"macro\")\n",
    "rec = recall_score(y_test, y_pred_det , average=\"macro\")\n",
    "fsc= f1_score(y_test, y_pred_det , average=\"macro\")\n",
    "# kappa\n",
    "kappa = cohen_kappa_score(y_test, y_pred_det)\n",
    "print('Cohens kappa: %f' % kappa)\n",
    "# ROC AUC\n",
    "auc = roc_auc_score(y_test, y_pred_det)\n",
    "print('ROC AUC: %f' % auc)\n",
    "accu = accuracy_score(y_test, y_pred_det)\n",
    "\n",
    "Acc.append(accu)\n",
    "Pre.append(prec)\n",
    "Re.append(rec)\n",
    "Auc.append(auc)"
   ]
  },
  {
   "cell_type": "markdown",
   "metadata": {},
   "source": [
    "### Store all values from Accuracy, Precision, Recall, Area Under Curve lists to their respective data source"
   ]
  },
  {
   "cell_type": "code",
   "execution_count": 46,
   "metadata": {},
   "outputs": [],
   "source": [
    "you=[Acc[0],Pre[0],Re[0],Auc[0]]\n",
    "bg=[Acc[1],Pre[1],Re[1],Auc[1]]\n",
    "cs=[Acc[2],Pre[2],Re[2],Auc[2]]\n",
    "tr=[Acc[3],Pre[3],Re[3],Auc[3]]"
   ]
  },
  {
   "cell_type": "markdown",
   "metadata": {},
   "source": [
    "### Generating bar plot for different Metric scores obtained when testing the model on different datasets."
   ]
  },
  {
   "cell_type": "code",
   "execution_count": 47,
   "metadata": {},
   "outputs": [
    {
     "data": {
      "image/png": "[encoded data removed]",
      "text/plain": [
       "<Figure size 720x720 with 1 Axes>"
      ]
     },
     "metadata": {
      "needs_background": "light"
     },
     "output_type": "display_data"
    }
   ],
   "source": [
    "# create plot\n",
    "labels=[\"Accuracy\",\"Precision\",\"Recall\",\"Auc\"]\n",
    "fig = plt.figure(figsize=(10,10))\n",
    "#fig, ax = plt.subplots()\n",
    "index = np.arange(len(labels))\n",
    "bar_width = 0.1\n",
    "opacity = 0.8\n",
    "\n",
    "rects1 = plt.bar(index, you, bar_width,\n",
    "alpha=opacity,\n",
    "color='b',\n",
    "label='Youtube')\n",
    "\n",
    "rects2 = plt.bar(index + bar_width, bg, bar_width,\n",
    "alpha=opacity,\n",
    "color='g',\n",
    "label='BagofLies')\n",
    "\n",
    "rects2 = plt.bar(index + 2*bar_width, cs, bar_width,\n",
    "alpha=opacity,\n",
    "color='c',\n",
    "label='CSC')\n",
    "\n",
    "rects2 = plt.bar(index + 3*bar_width, tr, bar_width,\n",
    "alpha=opacity,\n",
    "color='r',\n",
    "label='Trial')\n",
    "\n",
    "plt.xlabel('Metric',fontsize=15)\n",
    "plt.ylabel('Scores',fontsize=15)\n",
    "plt.title('Evaluation for different dataset',fontsize=15)\n",
    "plt.xticks(index + bar_width, (\"Accuracy\",\"Precision\",\"Recall\",\"Auc\"),fontsize=15)\n",
    "plt.legend(bbox_to_anchor=(1.4, 1.05),fontsize=15)\n",
    "\n",
    "plt.tight_layout()\n",
    "plt.show()"
   ]
  },
  {
   "cell_type": "code",
   "execution_count": null,
   "metadata": {},
   "outputs": [],
   "source": []
  }
 ],
 "metadata": {
  "kernelspec": {
   "display_name": "Python 3",
   "language": "python",
   "name": "python3"
  },
  "language_info": {
   "codemirror_mode": {
    "name": "ipython",
    "version": 3
   },
   "file_extension": ".py",
   "mimetype": "text/x-python",
   "name": "python",
   "nbconvert_exporter": "python",
   "pygments_lexer": "ipython3",
   "version": "3.7.5"
  }
 },
 "nbformat": 4,
 "nbformat_minor": 4
}
