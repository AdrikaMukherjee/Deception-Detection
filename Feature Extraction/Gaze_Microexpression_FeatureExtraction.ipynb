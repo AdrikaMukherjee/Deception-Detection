{
 "cells": [
  {
   "cell_type": "markdown",
   "metadata": {},
   "source": [
    "## This module extracts Gaze and Micro-Expression features using OpenFace\n",
    "\n",
    "Static gaze features and facial action features are extracted using OpenFace\n",
    "\n",
    "Import necessary Packages"
   ]
  },
  {
   "cell_type": "code",
   "execution_count": 1,
   "metadata": {},
   "outputs": [],
   "source": [
    "import os\n",
    "import sys\n",
    "import glob\n",
    "import csv\n",
    "import numpy as np\n",
    "import pandas as pd\n",
    "import matplotlib.pyplot as plt\n",
    "from os import walk\n",
    "from os.path import splitext\n",
    "from os.path import join"
   ]
  },
  {
   "cell_type": "markdown",
   "metadata": {},
   "source": [
    "### Count the number of videos of BagOfLies and add them to a list"
   ]
  },
  {
   "cell_type": "code",
   "execution_count": 3,
   "metadata": {},
   "outputs": [
    {
     "name": "stdout",
     "output_type": "stream",
     "text": [
      "number of videos from bag of lies\n",
      "325\n"
     ]
    }
   ],
   "source": [
    "foodir = r'D:/hci lab/BagOfLies/Finalised/'\n",
    "videolist = list()\n",
    "count_bagoflies=0\n",
    "for root, dirs, files in walk(foodir):\n",
    "  for f in files:\n",
    "    if splitext(f)[1].lower() == \".mp4\":\n",
    "      videolist.append(join(root, f))\n",
    "      count_bagoflies +=1\n",
    "print(\"number of videos from bag of lies\")\n",
    "print(count_bagoflies)"
   ]
  },
  {
   "cell_type": "markdown",
   "metadata": {},
   "source": [
    "### Count the number of videos collected from youtube and add them to a list"
   ]
  },
  {
   "cell_type": "code",
   "execution_count": 4,
   "metadata": {},
   "outputs": [
    {
     "name": "stdout",
     "output_type": "stream",
     "text": [
      "number of videos from splitsteal youtube\n",
      "48\n",
      "number of videos from 6people youtube\n",
      "146\n",
      "number of videos from fallon youtube\n",
      "18\n"
     ]
    }
   ],
   "source": [
    "foodir = r'D:/hci lab/Youtube/splitsteal'\n",
    "count_youtube=0\n",
    "for root, dirs, files in walk(foodir):\n",
    "  for f in files:\n",
    "    if splitext(f)[1].lower() == \".mp4\":\n",
    "      videolist.append(join(root, f))\n",
    "      count_youtube +=1\n",
    "print(\"number of videos from splitsteal youtube\")\n",
    "print(count_youtube)\n",
    "foodir = r'D:/hci lab/Youtube/6people'\n",
    "count_youtube=0\n",
    "for root, dirs, files in walk(foodir):\n",
    "  for f in files:\n",
    "    if splitext(f)[1].lower() == \".mp4\":\n",
    "      videolist.append(join(root, f))\n",
    "      count_youtube +=1\n",
    "print(\"number of videos from 6people youtube\")\n",
    "print(count_youtube)\n",
    "foodir = r'D:/hci lab/Youtube/fallon'\n",
    "count_youtube=0\n",
    "for root, dirs, files in walk(foodir):\n",
    "  for f in files:\n",
    "    if splitext(f)[1].lower() == \".mp4\":\n",
    "      videolist.append(join(root, f))\n",
    "      count_youtube +=1\n",
    "print(\"number of videos from fallon youtube\")\n",
    "print(count_youtube)"
   ]
  },
  {
   "cell_type": "markdown",
   "metadata": {},
   "source": [
    "### Count the number of videos from Trial dataset and add them to a list"
   ]
  },
  {
   "cell_type": "code",
   "execution_count": 6,
   "metadata": {},
   "outputs": [
    {
     "name": "stdout",
     "output_type": "stream",
     "text": [
      "number of videos from trial data\n",
      "121\n"
     ]
    }
   ],
   "source": [
    "#Execute from commandline\n",
    "#dir_list contains path of all files which contains the audio \n",
    "\n",
    "dir_list=[\"D:/hci lab/Real-life_Deception_Detection_2016/Real-life_Deception_Detection_2016/Clips/Deceptive\"\n",
    "          ,\"D:/hci lab/Real-life_Deception_Detection_2016/Real-life_Deception_Detection_2016/Clips/Truthful\"]\n",
    "count_trial=0\n",
    "for dir in dir_list:\n",
    "    for filename in glob.glob(os.path.join(dir, '*.mp4')):\n",
    "        videolist.append(filename)\n",
    "        count_trial +=1\n",
    "print(\"number of videos from trial data\")\n",
    "print(count_trial)"
   ]
  },
  {
   "cell_type": "markdown",
   "metadata": {},
   "source": [
    "### Extract Gaze Features from Openface and store in a folder"
   ]
  },
  {
   "cell_type": "code",
   "execution_count": null,
   "metadata": {},
   "outputs": [],
   "source": [
    "cmd1 =r\"cd C:\\Users\\Adrika\\Desktop\\PGDBA\\OpenFace_2.2.0_win_x64\"\n",
    "dict_input_output={}\n",
    "output_filename_list=list()\n",
    "gaze_bagoflies=0\n",
    "gaze_youtube=0\n",
    "gaze_trial=0\n",
    "for filename in videolist:\n",
    "    output_filename=\"\"\n",
    "    ip=filename\n",
    "    if \"BagOfLies\" in filename:\n",
    "        cmd2=\"\"\n",
    "        x=os.path.split(filename)[0]\n",
    "        x1=os.path.split(filename)[-1]\n",
    "        y=os.path.split(x)[0]\n",
    "        y1=os.path.split(x)[-1]\n",
    "        z1=os.path.split(y)[-1]\n",
    "        output_filename=\"Gaze_BagOfLies_\"+z1+\"_\"+y1+\"_\"+x1\n",
    "        output_filename=output_filename.replace(\".mp4\",\".csv\")\n",
    "        op = \"D:/hci lab/Gaze_Features/\"+output_filename\n",
    "        cmd2=\"FeatureExtraction.exe -f \"+ \"\\\"\" + ip + \"\\\"\" + \" -of \" + \"\\\"\" + op +\"\\\"\"+ \" -gaze\"\n",
    "        o1=os.system(cmd1 +\"&&\"+ cmd2)\n",
    "        if(o1==0):\n",
    "            gaze_bagoflies +=1\n",
    "            dict_input_output[filename]=op\n",
    "            output_filename_list.append(op)\n",
    "    if \"Youtube\" in filename:\n",
    "        cmd2=\"\"\n",
    "        x=os.path.split(filename)[0]\n",
    "        x1=os.path.split(filename)[-1]\n",
    "        y=os.path.split(x)[0]\n",
    "        y1=os.path.split(x)[-1]\n",
    "        z1=os.path.split(y)[-1]\n",
    "        output_filename=\"Gaze_Youtube_\"+z1+\"_\"+y1+\"_\"+x1\n",
    "        output_filename=output_filename.replace(\".mp4\",\".csv\")\n",
    "        op = \"D:/hci lab/Gaze_Features/\"+output_filename\n",
    "        cmd2=\"FeatureExtraction.exe -f \"+ \"\\\"\" + ip + \"\\\"\" + \" -of \" + \"\\\"\" + op +\"\\\"\"+ \" -gaze\"\n",
    "        o1=os.system(cmd1 +\"&&\"+ cmd2)\n",
    "        if(o1==0):\n",
    "            gaze_youtube +=1\n",
    "            dict_input_output[filename]=op\n",
    "            output_filename_list.append(op)\n",
    "    if \"Real-life_Deception_Detection_2016\" in filename:\n",
    "        cmd2=\"\"\n",
    "        x=os.path.split(filename)[0]\n",
    "        x1=os.path.split(filename)[-1]\n",
    "        y=os.path.split(x)[0]\n",
    "        y1=os.path.split(x)[-1]\n",
    "        output_filename=\"Gaze_reallifedeception_\"+x1\n",
    "        output_filename=output_filename.replace(\".mp4\",\".csv\")\n",
    "        op = \"D:/hci lab/Gaze_Features/\"+output_filename\n",
    "        cmd2=\"FeatureExtraction.exe -f \"+ \"\\\"\" + ip + \"\\\"\" + \" -of \" + \"\\\"\" + op +\"\\\"\"+ \" -gaze\"\n",
    "        o1=os.system(cmd1 +\"&&\"+ cmd2)\n",
    "        if(o1==0):\n",
    "            gaze_trial +=1\n",
    "            dict_input_output[filename]=op\n",
    "            output_filename_list.append(op)\n",
    "print(\"converted wav files counts are:\")\n",
    "print(\"Bagoflies =\"+str(gaze_bagoflies))\n",
    "print(\"youtube = \"+str(gaze_youtube))\n",
    "print(\"Trail = \"+str(gaze_trial))\n",
    "    "
   ]
  },
  {
   "cell_type": "markdown",
   "metadata": {},
   "source": [
    "### Generate a .csv file with annotations and file names for gaze data"
   ]
  },
  {
   "cell_type": "code",
   "execution_count": null,
   "metadata": {},
   "outputs": [],
   "source": [
    "head=[]\n",
    "head.append(\"Path_for_mp4_video\")\n",
    "head.append(\"csv_file_name\")\n",
    "head.append(\"csv_file_name_path_gaze_data\")\n",
    "head.append(\"label\")\n",
    "\n",
    "indexi=0\n",
    "df_input_output=pd.DataFrame(columns = head)\n",
    "for key,value in dict_input_output.items():\n",
    "    df_input_output = df_input_output.append(pd.Series(np.nan, index = head),ignore_index=True)\n",
    "    df_input_output.iloc[indexi, head.index('Path_for_mp4_video')] =  key\n",
    "    df_input_output.iloc[indexi, head.index('csv_file_name_path_gaze_data')] =  value\n",
    "    csv_file_name = os.path.basename(value)\n",
    "    df_input_output.iloc[indexi, head.index('csv_file_name')] =  csv_file_name\n",
    "    annotation_path = \"D:/hci lab/BagOfLies/Annotations.csv\"\n",
    "    df_bagoflies=pd.read_csv(annotation_path)\n",
    "    if \"Youtube\" in value:\n",
    "        if \"deception\" in value:\n",
    "            df_input_output.iloc[indexi, head.index('label')]=\"Deceptive\"\n",
    "        if \"truth\" in value:\n",
    "            df_input_output.iloc[indexi, head.index('label')]=\"Truthful\"\n",
    "    if \"reallifedeception\" in value:\n",
    "        if \"lie\" in value:\n",
    "            df_input_output.iloc[indexi, head.index('label')]=\"Deceptive\"\n",
    "        if \"truth\" in value:\n",
    "            df_input_output.iloc[indexi, head.index('label')]=\"Truthful\"\n",
    "    if \"BagOfLies\" in value:\n",
    "        x=os.path.split(key)[0]\n",
    "        x1=os.path.split(key)[-1]\n",
    "        y=os.path.split(x)[0]\n",
    "        y1=os.path.split(x)[-1]\n",
    "        z1=os.path.split(y)[-1]\n",
    "        output_filename=\"./Finalised/\"+z1+\"/\"+y1+\"/\"+x1\n",
    "        for index, row in df_bagoflies.iterrows():\n",
    "            if(row[\"video\"]==output_filename):\n",
    "                val=row[\"truth\"]\n",
    "        if(val==0):\n",
    "            df_input_output.iloc[indexi, head.index('label')]=\"Deceptive\"\n",
    "        if(val==1):\n",
    "            df_input_output.iloc[indexi, head.index('label')]=\"Truthful\"\n",
    "    \n",
    "    \n",
    "    indexi +=1  \n",
    "    \n",
    "print(len(df_input_output.index))\n",
    "df_input_output.to_csv(\"D:/hci lab/Gaze_Features/Annotation_gaze_features.csv\",index=False) "
   ]
  },
  {
   "cell_type": "markdown",
   "metadata": {},
   "source": [
    "### Finally Annotate the gaze data extracted using OpenFace with the csv file generated in the previous step"
   ]
  },
  {
   "cell_type": "code",
   "execution_count": null,
   "metadata": {},
   "outputs": [],
   "source": [
    "df_readannotation=pd.read_csv(\"D:/hci lab/Gaze_Features/Annotation_gaze_features.csv\")\n",
    "dir=\"D:/hci lab/Gaze_Features\"\n",
    "for filename in glob.glob(os.path.join(dir, '*.csv')):\n",
    "    file=os.path.basename(filename)\n",
    "    df_readindividual=pd.read_csv(filename)\n",
    "    for index, row in df_readannotation.iterrows():\n",
    "            if(row[\"csv_file_name\"]==file):\n",
    "                val=row[\"label\"]\n",
    "                outputpath=row[\"csv_file_name_path_gaze_data\"]\n",
    "    df_readindividual[\"label\"]=val\n",
    "    df_readindividual.to_csv(outputpath)"
   ]
  },
  {
   "cell_type": "markdown",
   "metadata": {},
   "source": [
    "### Extract Head_pose and facial action(Micro-expression) Features from Openface and store in a folder"
   ]
  },
  {
   "cell_type": "code",
   "execution_count": null,
   "metadata": {},
   "outputs": [],
   "source": [
    "cmd1 =r\"cd C:\\Users\\Adrika\\Desktop\\PGDBA\\OpenFace_2.2.0_win_x64\"\n",
    "dict_input_output={}\n",
    "output_filename_list=list()\n",
    "Mexp_bagoflies=0\n",
    "Mexp_youtube=0\n",
    "Mexp_trial=0\n",
    "for filename in videolist:\n",
    "    output_filename=\"\"\n",
    "    ip=filename\n",
    "    if \"BagOfLies\" in filename:\n",
    "        cmd2=\"\"\n",
    "        x=os.path.split(filename)[0]\n",
    "        x1=os.path.split(filename)[-1]\n",
    "        y=os.path.split(x)[0]\n",
    "        y1=os.path.split(x)[-1]\n",
    "        z1=os.path.split(y)[-1]\n",
    "        output_filename=\"Mexp_BagOfLies_\"+z1+\"_\"+y1+\"_\"+x1\n",
    "        output_filename=output_filename.replace(\".mp4\",\".csv\")\n",
    "        op = \"D:/hci lab/Mexp_Features/\"+output_filename\n",
    "        cmd2=\"FeatureExtraction.exe -f \"+ \"\\\"\" + ip + \"\\\"\" + \" -of \" + \"\\\"\" + op +\"\\\"\"+ \" -gaze\"\n",
    "        o1=os.system(cmd1 +\"&&\"+ cmd2)\n",
    "        if(o1==0):\n",
    "            Mexp_bagoflies +=1\n",
    "            dict_input_output[filename]=outpath\n",
    "            output_filename_list.append(outpath)\n",
    "    if \"Youtube\" in filename:\n",
    "        cmd2=\"\"\n",
    "        x=os.path.split(filename)[0]\n",
    "        x1=os.path.split(filename)[-1]\n",
    "        y=os.path.split(x)[0]\n",
    "        y1=os.path.split(x)[-1]\n",
    "        z1=os.path.split(y)[-1]\n",
    "        output_filename=\"Mexp_Youtube_\"+z1+\"_\"+y1+\"_\"+x1\n",
    "        output_filename=output_filename.replace(\".mp4\",\".csv\")\n",
    "        op = \"D:/hci lab/Mexp_Features/\"+output_filename\n",
    "        cmd2=\"FeatureExtraction.exe -f \"+ \"\\\"\" + ip + \"\\\"\" + \" -of \" + \"\\\"\" + op +\"\\\"\"+ \" -gaze\"\n",
    "        o1=os.system(cmd1 +\"&&\"+ cmd2)\n",
    "        if(o1==0):\n",
    "            Mexp_youtube +=1\n",
    "            dict_input_output[filename]=outpath\n",
    "            output_filename_list.append(outpath)\n",
    "    if \"Real-life_Deception_Detection_2016\" in filename:\n",
    "        cmd2=\"\"\n",
    "        x=os.path.split(filename)[0]\n",
    "        x1=os.path.split(filename)[-1]\n",
    "        y=os.path.split(x)[0]\n",
    "        y1=os.path.split(x)[-1]\n",
    "        output_filename=\"Mexp_reallifedeception_\"+x1\n",
    "        output_filename=output_filename.replace(\".mp4\",\".csv\")\n",
    "        op = \"D:/hci lab/Mexp_Features/\"+output_filename\n",
    "        cmd2=\"FeatureExtraction.exe -f \"+ \"\\\"\" + ip + \"\\\"\" + \" -of \" + \"\\\"\" + op +\"\\\"\"+ \" -pose -aus\"\n",
    "        o1=os.system(cmd1 +\"&&\"+ cmd2)\n",
    "        if(o1==0):\n",
    "            Mexp_trial +=1\n",
    "            dict_input_output[filename]=outpath\n",
    "            output_filename_list.append(outpath)\n",
    "print(\"converted wav files counts are:\")\n",
    "print(\"Bagoflies =\"+str(Mexp_bagoflies))\n",
    "print(\"youtube = \"+str(Mexp_youtube))\n",
    "print(\"Trail = \"+str(Mexp_trial))\n",
    "    "
   ]
  },
  {
   "cell_type": "markdown",
   "metadata": {},
   "source": [
    "### Generate a csv file with annotations and file names for Micro-Expression data"
   ]
  },
  {
   "cell_type": "code",
   "execution_count": null,
   "metadata": {},
   "outputs": [],
   "source": [
    "head=[]\n",
    "head.append(\"Path_for_mp4_video\")\n",
    "head.append(\"csv_file_name\")\n",
    "head.append(\"csv_file_name_path_mexp_data\")\n",
    "head.append(\"label\")\n",
    "\n",
    "indexi=0\n",
    "df_input_output=pd.DataFrame(columns = head)\n",
    "for key,value in dict_input_output.items():\n",
    "    df_input_output = df_input_output.append(pd.Series(np.nan, index = head),ignore_index=True)\n",
    "    df_input_output.iloc[indexi, head.index('Path_for_mp4_video')] =  key\n",
    "    df_input_output.iloc[indexi, head.index('csv_file_name_path_mexp_data')] =  value\n",
    "    csv_file_name = os.path.basename(value)\n",
    "    df_input_output.iloc[indexi, head.index('csv_file_name')] =  csv_file_name\n",
    "    annotation_path = \"D:/hci lab/BagOfLies/Annotations.csv\"\n",
    "    df_bagoflies=pd.read_csv(annotation_path)\n",
    "    if \"Youtube\" in value:\n",
    "        if \"deception\" in value:\n",
    "            df_input_output.iloc[indexi, head.index('label')]=\"Deceptive\"\n",
    "        if \"truth\" in value:\n",
    "            df_input_output.iloc[indexi, head.index('label')]=\"Truthful\"\n",
    "    if \"reallifedeception\" in value:\n",
    "        if \"lie\" in value:\n",
    "            df_input_output.iloc[indexi, head.index('label')]=\"Deceptive\"\n",
    "        if \"truth\" in value:\n",
    "            df_input_output.iloc[indexi, head.index('label')]=\"Truthful\"\n",
    "    if \"BagOfLies\" in value:\n",
    "        x=os.path.split(key)[0]\n",
    "        x1=os.path.split(key)[-1]\n",
    "        y=os.path.split(x)[0]\n",
    "        y1=os.path.split(x)[-1]\n",
    "        z1=os.path.split(y)[-1]\n",
    "        output_filename=\"./Finalised/\"+z1+\"/\"+y1+\"/\"+x1\n",
    "        for index, row in df_bagoflies.iterrows():\n",
    "            if(row[\"video\"]==output_filename):\n",
    "                val=row[\"truth\"]\n",
    "        if(val==0):\n",
    "            df_input_output.iloc[indexi, head.index('label')]=\"Deceptive\"\n",
    "        if(val==1):\n",
    "            df_input_output.iloc[indexi, head.index('label')]=\"Truthful\"\n",
    "    \n",
    "    \n",
    "    indexi +=1  \n",
    "    \n",
    "print(len(df_input_output.index))\n",
    "df_input_output.to_csv(\"D:/hci lab/Mexp_Features/Annotation_mexp_features.csv\",index=False) "
   ]
  },
  {
   "cell_type": "markdown",
   "metadata": {},
   "source": [
    "### Finally Annotate the Micro-Expression data extracted using Openface with the csv file generated in the previous step"
   ]
  },
  {
   "cell_type": "code",
   "execution_count": null,
   "metadata": {},
   "outputs": [],
   "source": [
    "df_readannotation=pd.read_csv(\"D:/hci lab/Mexp_Features/Annotation_mexp_features.csv\")\n",
    "dir=\"D:/hci lab/Mexp_Features\"\n",
    "for filename in glob.glob(os.path.join(dir, '*.csv')):\n",
    "    file=os.path.basename(filename)\n",
    "    df_readindividual=pd.read_csv(filename)\n",
    "    for index, row in df_readannotation.iterrows():\n",
    "            if(row[\"csv_file_name\"]==file):\n",
    "                val=row[\"label\"]\n",
    "                outputpath=row[\"csv_file_name_path_mexp_data\"]\n",
    "    df_readindividual[\"label\"]=val\n",
    "    df_readindividual.to_csv(outputpath)"
   ]
  }
 ],
 "metadata": {
  "kernelspec": {
   "display_name": "Python 3",
   "language": "python",
   "name": "python3"
  },
  "language_info": {
   "codemirror_mode": {
    "name": "ipython",
    "version": 3
   },
   "file_extension": ".py",
   "mimetype": "text/x-python",
   "name": "python",
   "nbconvert_exporter": "python",
   "pygments_lexer": "ipython3",
   "version": "3.7.5"
  }
 },
 "nbformat": 4,
 "nbformat_minor": 2
}
