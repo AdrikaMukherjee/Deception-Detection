{
 "cells": [
  {
   "cell_type": "code",
   "execution_count": 2,
   "metadata": {},
   "outputs": [],
   "source": [
    "#Import necessary modules\n",
    "import os\n",
    "import sys\n",
    "import glob\n",
    "import csv\n",
    "import numpy as np\n",
    "import pandas as pd\n",
    "import matplotlib.pyplot as plt\n",
    "from os import walk\n",
    "from os.path import splitext\n",
    "from os.path import join\n",
    "from sklearn.model_selection import train_test_split\n",
    "from sklearn import preprocessing\n",
    "import tensorflow as tf\n",
    "from sklearn import preprocessing\n",
    "from sklearn.ensemble import RandomForestClassifier\n",
    "from sklearn.ensemble import RandomForestRegressor\n",
    "from sklearn import metrics\n",
    "from sklearn.model_selection import cross_val_score\n",
    "from sklearn.model_selection import cross_validate\n",
    "from sklearn.metrics import make_scorer\n",
    "from sklearn.metrics import confusion_matrix\n",
    "from sklearn.metrics import classification_report, confusion_matrix\n",
    "from imblearn.over_sampling import SMOTE\n",
    "import xgboost as xgb\n",
    "from xgboost import XGBClassifier\n",
    "import graphviz\n",
    "from sklearn.metrics import plot_roc_curve\n",
    "from sklearn.metrics import precision_recall_curve"
   ]
  },
  {
   "cell_type": "markdown",
   "metadata": {},
   "source": [
    "The function below gets the data for single Modalities and concatenates them to a dataframe"
   ]
  },
  {
   "cell_type": "code",
   "execution_count": 1,
   "metadata": {},
   "outputs": [],
   "source": [
    "def get_Data(feature):\n",
    "    data = \"C:/Users/Jad Maaloulz/data/\" + feature\n",
    "    li = []\n",
    "    #Extract feature and target np arrays (inputs for placeholders)\n",
    "    for root, dirs, files in walk(data):\n",
    "        for f in files:\n",
    "            if splitext(f)[1].lower() == \".csv\":\n",
    "                if(os.path.exists(data+'/'+f)):\n",
    "                    df = pd.read_csv(data+'/'+f, index_col=None, header=0)\n",
    "                    temp = df['label'].iloc[0]\n",
    "                    df = df.mean(axis = 0).to_frame().transpose()\n",
    "                    df['label'] = temp\n",
    "                    li.append(df)\n",
    "\n",
    "\n",
    "    frame = pd.concat(li, axis=0, ignore_index=True)\n",
    "    return frame"
   ]
  },
  {
   "cell_type": "code",
   "execution_count": null,
   "metadata": {},
   "outputs": [],
   "source": []
  },
  {
   "cell_type": "markdown",
   "metadata": {},
   "source": [
    "This function gets the Data for all Modalities and concatenates them in a single dataframe"
   ]
  },
  {
   "cell_type": "code",
   "execution_count": 2,
   "metadata": {},
   "outputs": [],
   "source": [
    "def get_All_Data():\n",
    "    data_gaze = \"C:/Users/Jad Maaloulz/data/Gaze_Features\"\n",
    "    data_mexp = \"C:/Users/Jad Maaloulz/data/Mexp_Features\"\n",
    "    data_audio = \"C:/Users/Jad Maaloulz/data/Audio_Features/csv_framewise_audio\"\n",
    "    li_gaze = []\n",
    "    li_mexp = []\n",
    "    li_audio = []\n",
    "    #Extract feature and target np arrays (inputs for placeholders)\n",
    "    for root, dirs, files in walk(data_gaze):\n",
    "        for f in files:\n",
    "            if splitext(f)[1].lower() == \".csv\":\n",
    "                if(os.path.exists(data_gaze+'/'+f)):\n",
    "                    df_gaze = pd.read_csv(data_gaze+'/'+f, index_col=None, header=0)\n",
    "                    df_mexp = pd.read_csv(data_mexp+'/Mexp_'+f.split('_', 1)[1], index_col=None, header=0)\n",
    "                    df_audio = pd.read_csv(data_audio+'/Audio_'+f.split('_', 1)[1], index_col=None, header=0)\n",
    "\n",
    "                    temp = df_audio['label'].iloc[0]\n",
    "\n",
    "                    df_gaze = df_gaze.mean(axis = 0).to_frame().transpose()\n",
    "                    df_mexp = df_mexp.mean(axis = 0).to_frame().transpose()\n",
    "                    df_audio = df_audio.mean(axis = 0).to_frame().transpose()\n",
    "\n",
    "                    df_audio['label'] = temp\n",
    "                    li_gaze.append(df_gaze)\n",
    "                    li_mexp.append(df_mexp)\n",
    "                    li_audio.append(df_audio)\n",
    "\n",
    "\n",
    "\n",
    "    frame_gaze = pd.concat(li_gaze, axis=0, ignore_index=True)\n",
    "    frame_mexp = pd.concat(li_mexp, axis=0, ignore_index=True)\n",
    "    frame_audio = pd.concat(li_audio, axis=0, ignore_index=True)\n",
    "    return pd.concat([frame_gaze.iloc[:,6:14],frame_mexp.iloc[:,6:47],frame_audio.iloc[:,2:28],frame_audio.iloc[:,28]] , axis=1)"
   ]
  },
  {
   "cell_type": "markdown",
   "metadata": {},
   "source": [
    "This function normalizes our data"
   ]
  },
  {
   "cell_type": "code",
   "execution_count": 3,
   "metadata": {},
   "outputs": [],
   "source": [
    "def normalize(x):\n",
    "    min_max_scaler = preprocessing.MinMaxScaler()\n",
    "    x_scaled = min_max_scaler.fit_transform(x)\n",
    "    X_norm = pd.DataFrame(x_scaled)\n",
    "    return X_norm"
   ]
  },
  {
   "cell_type": "markdown",
   "metadata": {},
   "source": [
    "This function will encode our labels to 0 for deceptive and 1 Truthful"
   ]
  },
  {
   "cell_type": "code",
   "execution_count": 34,
   "metadata": {},
   "outputs": [],
   "source": [
    "def encoder(x):\n",
    "    le = preprocessing.LabelEncoder()\n",
    "    le.fit([\"Truthful\", \"Deceptive\"])\n",
    "    list(le.classes_)\n",
    "    return le.transform(x)\n"
   ]
  },
  {
   "cell_type": "markdown",
   "metadata": {},
   "source": [
    "This function takes care of splitting the data into trainin sets and test sets while also using smote for oversampling"
   ]
  },
  {
   "cell_type": "code",
   "execution_count": 35,
   "metadata": {},
   "outputs": [],
   "source": [
    "def data_Split(X_norm,Y):\n",
    "    X_train, X_test, Y_train, Y_test = train_test_split(X_norm, Y, test_size=0.2, random_state=0)\n",
    "    sm = SMOTE(random_state=42)\n",
    "    X_train_res, Y_train_res = sm.fit_sample(X_train, Y_train)\n",
    "    return X_train_res, X_test, Y_train_res, Y_test"
   ]
  },
  {
   "cell_type": "markdown",
   "metadata": {},
   "source": [
    "__#################################################__"
   ]
  },
  {
   "cell_type": "markdown",
   "metadata": {},
   "source": [
    "# Gaze Model"
   ]
  },
  {
   "cell_type": "markdown",
   "metadata": {},
   "source": [
    "__#################################################__"
   ]
  },
  {
   "cell_type": "code",
   "execution_count": 14,
   "metadata": {},
   "outputs": [],
   "source": [
    "frame_gaze = get_Data('Gaze_Features') #Fetches our data specifically for gaze"
   ]
  },
  {
   "cell_type": "code",
   "execution_count": 15,
   "metadata": {},
   "outputs": [
    {
     "data": {
      "text/html": [
       "<div>\n",
       "<style scoped>\n",
       "    .dataframe tbody tr th:only-of-type {\n",
       "        vertical-align: middle;\n",
       "    }\n",
       "\n",
       "    .dataframe tbody tr th {\n",
       "        vertical-align: top;\n",
       "    }\n",
       "\n",
       "    .dataframe thead th {\n",
       "        text-align: right;\n",
       "    }\n",
       "</style>\n",
       "<table border=\"1\" class=\"dataframe\">\n",
       "  <thead>\n",
       "    <tr style=\"text-align: right;\">\n",
       "      <th></th>\n",
       "      <th>0</th>\n",
       "      <th>1</th>\n",
       "      <th>2</th>\n",
       "      <th>3</th>\n",
       "      <th>4</th>\n",
       "      <th>5</th>\n",
       "      <th>6</th>\n",
       "      <th>7</th>\n",
       "    </tr>\n",
       "  </thead>\n",
       "  <tbody>\n",
       "    <tr>\n",
       "      <th>0</th>\n",
       "      <td>0.645981</td>\n",
       "      <td>0.833377</td>\n",
       "      <td>0.147518</td>\n",
       "      <td>0.484168</td>\n",
       "      <td>0.828999</td>\n",
       "      <td>0.151599</td>\n",
       "      <td>0.562146</td>\n",
       "      <td>0.810759</td>\n",
       "    </tr>\n",
       "    <tr>\n",
       "      <th>1</th>\n",
       "      <td>0.640654</td>\n",
       "      <td>0.839265</td>\n",
       "      <td>0.148651</td>\n",
       "      <td>0.473654</td>\n",
       "      <td>0.829310</td>\n",
       "      <td>0.154038</td>\n",
       "      <td>0.553946</td>\n",
       "      <td>0.814694</td>\n",
       "    </tr>\n",
       "    <tr>\n",
       "      <th>2</th>\n",
       "      <td>0.626557</td>\n",
       "      <td>0.778500</td>\n",
       "      <td>0.123944</td>\n",
       "      <td>0.480465</td>\n",
       "      <td>0.773122</td>\n",
       "      <td>0.131945</td>\n",
       "      <td>0.550101</td>\n",
       "      <td>0.748673</td>\n",
       "    </tr>\n",
       "    <tr>\n",
       "      <th>3</th>\n",
       "      <td>0.644823</td>\n",
       "      <td>0.813580</td>\n",
       "      <td>0.140539</td>\n",
       "      <td>0.490275</td>\n",
       "      <td>0.803699</td>\n",
       "      <td>0.141933</td>\n",
       "      <td>0.564455</td>\n",
       "      <td>0.785835</td>\n",
       "    </tr>\n",
       "    <tr>\n",
       "      <th>4</th>\n",
       "      <td>0.622857</td>\n",
       "      <td>0.799721</td>\n",
       "      <td>0.131182</td>\n",
       "      <td>0.468474</td>\n",
       "      <td>0.795251</td>\n",
       "      <td>0.143994</td>\n",
       "      <td>0.542067</td>\n",
       "      <td>0.773802</td>\n",
       "    </tr>\n",
       "  </tbody>\n",
       "</table>\n",
       "</div>"
      ],
      "text/plain": [
       "          0         1         2         3         4         5         6  \\\n",
       "0  0.645981  0.833377  0.147518  0.484168  0.828999  0.151599  0.562146   \n",
       "1  0.640654  0.839265  0.148651  0.473654  0.829310  0.154038  0.553946   \n",
       "2  0.626557  0.778500  0.123944  0.480465  0.773122  0.131945  0.550101   \n",
       "3  0.644823  0.813580  0.140539  0.490275  0.803699  0.141933  0.564455   \n",
       "4  0.622857  0.799721  0.131182  0.468474  0.795251  0.143994  0.542067   \n",
       "\n",
       "          7  \n",
       "0  0.810759  \n",
       "1  0.814694  \n",
       "2  0.748673  \n",
       "3  0.785835  \n",
       "4  0.773802  "
      ]
     },
     "execution_count": 15,
     "metadata": {},
     "output_type": "execute_result"
    }
   ],
   "source": [
    "X_gaze_norm = normalize(frame_gaze.iloc[:,6:14].values) #normalization\n",
    "X_gaze_norm.head()"
   ]
  },
  {
   "cell_type": "markdown",
   "metadata": {},
   "source": [
    "Applying RandomForestClassifier"
   ]
  },
  {
   "cell_type": "code",
   "execution_count": 18,
   "metadata": {},
   "outputs": [
    {
     "data": {
      "text/plain": [
       "RandomForestClassifier(bootstrap=True, ccp_alpha=0.0, class_weight=None,\n",
       "                       criterion='gini', max_depth=4, max_features='auto',\n",
       "                       max_leaf_nodes=None, max_samples=None,\n",
       "                       min_impurity_decrease=0.0, min_impurity_split=None,\n",
       "                       min_samples_leaf=1, min_samples_split=2,\n",
       "                       min_weight_fraction_leaf=0.0, n_estimators=100,\n",
       "                       n_jobs=None, oob_score=False, random_state=0, verbose=0,\n",
       "                       warm_start=False)"
      ]
     },
     "execution_count": 18,
     "metadata": {},
     "output_type": "execute_result"
    }
   ],
   "source": [
    "Y_gaze = encoder(frame_gaze.iloc[:,294].values)\n",
    "X_train_gaze, X_test_gaze, Y_train_gaze, Y_test_gaze = data_Split(X_gaze_norm, Y_gaze)\n",
    "regressor_gaze = RandomForestClassifier(n_estimators = 100 , max_depth = 4 , random_state=0)\n",
    "regresor_score_gaze = cross_validate(regressor_gaze, X_gaze_norm, Y_gaze, cv=5 , scoring=('accuracy', 'roc_auc','f1')) # crossvalidation used with 5 folds\n",
    "regressor_gaze.fit(X_train_gaze, Y_train_gaze) "
   ]
  },
  {
   "cell_type": "code",
   "execution_count": 19,
   "metadata": {},
   "outputs": [
    {
     "name": "stdout",
     "output_type": "stream",
     "text": [
      "Mean Absolute Error: 0.33 degrees.\n",
      "0.6692015209125475\n"
     ]
    },
    {
     "data": {
      "image/png": "[encoded data removed]",
      "text/plain": [
       "<Figure size 432x288 with 1 Axes>"
      ]
     },
     "metadata": {
      "needs_background": "light"
     },
     "output_type": "display_data"
    }
   ],
   "source": [
    "y_pred_gaze = regressor_gaze.predict(X_test_gaze)\n",
    "errors = abs(y_pred_gaze - Y_test_gaze)\n",
    "print('Mean Absolute Error:', round(np.mean(errors), 2), 'degrees.')\n",
    "print(regressor_gaze.score(X_test_gaze, Y_test_gaze))\n",
    "\n",
    "ax = plt.gca()\n",
    "gaze_disp = plot_roc_curve(regressor_gaze, X_test_gaze, Y_test_gaze, ax=ax, alpha=1)\n",
    "\n",
    "#precision_recall_curve(Y_test_gaze, y_pred_gaze)\n",
    "\n"
   ]
  },
  {
   "cell_type": "code",
   "execution_count": 20,
   "metadata": {},
   "outputs": [
    {
     "name": "stdout",
     "output_type": "stream",
     "text": [
      "=== Confusion Matrix ===\n",
      "[[ 45  33]\n",
      " [ 54 131]]\n",
      "\n",
      "\n",
      "=== Mean Accuracy Score ===\n",
      "Mean Acc Score - Random Forest:  0.619092676980234\n",
      "\n",
      "\n",
      "=== Mean AUC Score ===\n",
      "Mean AUC Score - Random Forest:  0.6428230103230103\n",
      "\n",
      "\n",
      "=== Mean F1 Score ===\n",
      "Mean f1 Score - Random Forest:  0.7164657020282512\n"
     ]
    }
   ],
   "source": [
    "print(\"=== Confusion Matrix ===\")\n",
    "print(confusion_matrix(y_pred_gaze, Y_test_gaze))\n",
    "print('\\n')\n",
    "print(\"=== Mean Accuracy Score ===\")\n",
    "print(\"Mean Acc Score - Random Forest: \", regresor_score_gaze['test_accuracy'].mean())\n",
    "print('\\n')\n",
    "print(\"=== Mean AUC Score ===\")\n",
    "print(\"Mean AUC Score - Random Forest: \", regresor_score_gaze['test_roc_auc'].mean())\n",
    "print('\\n')\n",
    "print(\"=== Mean F1 Score ===\")\n",
    "print(\"Mean f1 Score - Random Forest: \", regresor_score_gaze['test_f1'].mean())"
   ]
  },
  {
   "cell_type": "markdown",
   "metadata": {},
   "source": [
    "__#################################################__"
   ]
  },
  {
   "cell_type": "markdown",
   "metadata": {},
   "source": [
    "# MExp model"
   ]
  },
  {
   "cell_type": "markdown",
   "metadata": {},
   "source": [
    "__#################################################__"
   ]
  },
  {
   "cell_type": "code",
   "execution_count": 13,
   "metadata": {},
   "outputs": [],
   "source": [
    "frame_mexp = get_Data('Mexp_Features') #Fetches our data for the mexp"
   ]
  },
  {
   "cell_type": "code",
   "execution_count": 14,
   "metadata": {},
   "outputs": [
    {
     "data": {
      "text/html": [
       "<div>\n",
       "<style scoped>\n",
       "    .dataframe tbody tr th:only-of-type {\n",
       "        vertical-align: middle;\n",
       "    }\n",
       "\n",
       "    .dataframe tbody tr th {\n",
       "        vertical-align: top;\n",
       "    }\n",
       "\n",
       "    .dataframe thead th {\n",
       "        text-align: right;\n",
       "    }\n",
       "</style>\n",
       "<table border=\"1\" class=\"dataframe\">\n",
       "  <thead>\n",
       "    <tr style=\"text-align: right;\">\n",
       "      <th></th>\n",
       "      <th>0</th>\n",
       "      <th>1</th>\n",
       "      <th>2</th>\n",
       "      <th>3</th>\n",
       "      <th>4</th>\n",
       "      <th>5</th>\n",
       "      <th>6</th>\n",
       "      <th>7</th>\n",
       "      <th>8</th>\n",
       "      <th>9</th>\n",
       "      <th>...</th>\n",
       "      <th>31</th>\n",
       "      <th>32</th>\n",
       "      <th>33</th>\n",
       "      <th>34</th>\n",
       "      <th>35</th>\n",
       "      <th>36</th>\n",
       "      <th>37</th>\n",
       "      <th>38</th>\n",
       "      <th>39</th>\n",
       "      <th>40</th>\n",
       "    </tr>\n",
       "  </thead>\n",
       "  <tbody>\n",
       "    <tr>\n",
       "      <th>0</th>\n",
       "      <td>0.999973</td>\n",
       "      <td>0.999986</td>\n",
       "      <td>0.000006</td>\n",
       "      <td>0.660474</td>\n",
       "      <td>0.414960</td>\n",
       "      <td>0.452860</td>\n",
       "      <td>0.033702</td>\n",
       "      <td>0.053215</td>\n",
       "      <td>0.161948</td>\n",
       "      <td>0.092264</td>\n",
       "      <td>...</td>\n",
       "      <td>0.375510</td>\n",
       "      <td>1.0</td>\n",
       "      <td>0.000000</td>\n",
       "      <td>0.030252</td>\n",
       "      <td>0.000000</td>\n",
       "      <td>0.085714</td>\n",
       "      <td>0.518316</td>\n",
       "      <td>0.177837</td>\n",
       "      <td>0.0</td>\n",
       "      <td>0.227947</td>\n",
       "    </tr>\n",
       "    <tr>\n",
       "      <th>1</th>\n",
       "      <td>0.999974</td>\n",
       "      <td>0.999986</td>\n",
       "      <td>0.000006</td>\n",
       "      <td>0.668103</td>\n",
       "      <td>0.431913</td>\n",
       "      <td>0.430737</td>\n",
       "      <td>0.056577</td>\n",
       "      <td>0.102579</td>\n",
       "      <td>0.097703</td>\n",
       "      <td>0.149650</td>\n",
       "      <td>...</td>\n",
       "      <td>0.872038</td>\n",
       "      <td>1.0</td>\n",
       "      <td>0.084016</td>\n",
       "      <td>0.250906</td>\n",
       "      <td>0.075829</td>\n",
       "      <td>0.180095</td>\n",
       "      <td>0.633511</td>\n",
       "      <td>0.363822</td>\n",
       "      <td>0.0</td>\n",
       "      <td>0.264678</td>\n",
       "    </tr>\n",
       "    <tr>\n",
       "      <th>2</th>\n",
       "      <td>0.999974</td>\n",
       "      <td>0.999985</td>\n",
       "      <td>0.000006</td>\n",
       "      <td>0.623989</td>\n",
       "      <td>0.435274</td>\n",
       "      <td>0.448571</td>\n",
       "      <td>0.030251</td>\n",
       "      <td>0.048255</td>\n",
       "      <td>0.121823</td>\n",
       "      <td>0.077485</td>\n",
       "      <td>...</td>\n",
       "      <td>0.779221</td>\n",
       "      <td>1.0</td>\n",
       "      <td>0.000000</td>\n",
       "      <td>0.279603</td>\n",
       "      <td>0.000000</td>\n",
       "      <td>0.000000</td>\n",
       "      <td>0.643761</td>\n",
       "      <td>0.458065</td>\n",
       "      <td>0.0</td>\n",
       "      <td>0.224493</td>\n",
       "    </tr>\n",
       "    <tr>\n",
       "      <th>3</th>\n",
       "      <td>0.999973</td>\n",
       "      <td>0.999985</td>\n",
       "      <td>0.000006</td>\n",
       "      <td>0.636384</td>\n",
       "      <td>0.447401</td>\n",
       "      <td>0.453576</td>\n",
       "      <td>0.043123</td>\n",
       "      <td>0.051018</td>\n",
       "      <td>0.093482</td>\n",
       "      <td>0.113505</td>\n",
       "      <td>...</td>\n",
       "      <td>0.914286</td>\n",
       "      <td>1.0</td>\n",
       "      <td>0.000000</td>\n",
       "      <td>0.191597</td>\n",
       "      <td>0.000000</td>\n",
       "      <td>0.071429</td>\n",
       "      <td>0.302351</td>\n",
       "      <td>0.207477</td>\n",
       "      <td>0.0</td>\n",
       "      <td>0.332423</td>\n",
       "    </tr>\n",
       "    <tr>\n",
       "      <th>4</th>\n",
       "      <td>0.999974</td>\n",
       "      <td>0.999985</td>\n",
       "      <td>0.000006</td>\n",
       "      <td>0.630775</td>\n",
       "      <td>0.420291</td>\n",
       "      <td>0.414108</td>\n",
       "      <td>0.041531</td>\n",
       "      <td>0.060616</td>\n",
       "      <td>0.097485</td>\n",
       "      <td>0.087166</td>\n",
       "      <td>...</td>\n",
       "      <td>0.856287</td>\n",
       "      <td>1.0</td>\n",
       "      <td>0.000000</td>\n",
       "      <td>0.234590</td>\n",
       "      <td>0.000000</td>\n",
       "      <td>0.155689</td>\n",
       "      <td>0.640340</td>\n",
       "      <td>0.223628</td>\n",
       "      <td>0.0</td>\n",
       "      <td>0.382186</td>\n",
       "    </tr>\n",
       "  </tbody>\n",
       "</table>\n",
       "<p>5 rows × 41 columns</p>\n",
       "</div>"
      ],
      "text/plain": [
       "         0         1         2         3         4         5         6   \\\n",
       "0  0.999973  0.999986  0.000006  0.660474  0.414960  0.452860  0.033702   \n",
       "1  0.999974  0.999986  0.000006  0.668103  0.431913  0.430737  0.056577   \n",
       "2  0.999974  0.999985  0.000006  0.623989  0.435274  0.448571  0.030251   \n",
       "3  0.999973  0.999985  0.000006  0.636384  0.447401  0.453576  0.043123   \n",
       "4  0.999974  0.999985  0.000006  0.630775  0.420291  0.414108  0.041531   \n",
       "\n",
       "         7         8         9   ...        31   32        33        34  \\\n",
       "0  0.053215  0.161948  0.092264  ...  0.375510  1.0  0.000000  0.030252   \n",
       "1  0.102579  0.097703  0.149650  ...  0.872038  1.0  0.084016  0.250906   \n",
       "2  0.048255  0.121823  0.077485  ...  0.779221  1.0  0.000000  0.279603   \n",
       "3  0.051018  0.093482  0.113505  ...  0.914286  1.0  0.000000  0.191597   \n",
       "4  0.060616  0.097485  0.087166  ...  0.856287  1.0  0.000000  0.234590   \n",
       "\n",
       "         35        36        37        38   39        40  \n",
       "0  0.000000  0.085714  0.518316  0.177837  0.0  0.227947  \n",
       "1  0.075829  0.180095  0.633511  0.363822  0.0  0.264678  \n",
       "2  0.000000  0.000000  0.643761  0.458065  0.0  0.224493  \n",
       "3  0.000000  0.071429  0.302351  0.207477  0.0  0.332423  \n",
       "4  0.000000  0.155689  0.640340  0.223628  0.0  0.382186  \n",
       "\n",
       "[5 rows x 41 columns]"
      ]
     },
     "execution_count": 14,
     "metadata": {},
     "output_type": "execute_result"
    }
   ],
   "source": [
    "X_mexp_norm = normalize(frame_mexp.iloc[:,6:47].values) #normalization of the data\n",
    "X_mexp_norm.head()"
   ]
  },
  {
   "cell_type": "markdown",
   "metadata": {},
   "source": [
    "Applying RandomForestClassifier"
   ]
  },
  {
   "cell_type": "code",
   "execution_count": 113,
   "metadata": {},
   "outputs": [
    {
     "data": {
      "text/plain": [
       "RandomForestClassifier(bootstrap=True, ccp_alpha=0.0, class_weight=None,\n",
       "                       criterion='gini', max_depth=4, max_features='auto',\n",
       "                       max_leaf_nodes=None, max_samples=None,\n",
       "                       min_impurity_decrease=0.0, min_impurity_split=None,\n",
       "                       min_samples_leaf=1, min_samples_split=2,\n",
       "                       min_weight_fraction_leaf=0.0, n_estimators=100,\n",
       "                       n_jobs=None, oob_score=False, random_state=0, verbose=0,\n",
       "                       warm_start=False)"
      ]
     },
     "execution_count": 113,
     "metadata": {},
     "output_type": "execute_result"
    }
   ],
   "source": [
    "Y_mexp = encoder(frame_mexp.iloc[:,47].values)\n",
    "X_train_mexp, X_test_mexp, Y_train_mexp, Y_test_mexp = data_Split(X_mexp_norm, Y_mexp) \n",
    "regressor_mexp = RandomForestClassifier(n_estimators = 100 , max_depth = 4 , random_state=0)\n",
    "regresor_score_mexp = cross_validate(regressor_mexp, X_mexp_norm, Y_mexp, cv=7 , scoring=('accuracy', 'roc_auc','f1')) # crossvalidation used with 7 folds\n",
    "regressor_mexp.fit(X_train_mexp, Y_train_mexp) \n"
   ]
  },
  {
   "cell_type": "code",
   "execution_count": 114,
   "metadata": {},
   "outputs": [
    {
     "name": "stdout",
     "output_type": "stream",
     "text": [
      "Mean Absolute Error: 0.34 degrees.\n",
      "0.6590909090909091\n"
     ]
    },
    {
     "data": {
      "image/png": "[encoded data removed]",
      "text/plain": [
       "<Figure size 432x288 with 1 Axes>"
      ]
     },
     "metadata": {
      "needs_background": "light"
     },
     "output_type": "display_data"
    }
   ],
   "source": [
    "y_pred_mexp = regressor_mexp.predict(X_test_mexp)\n",
    "\n",
    "errors = abs(y_pred_mexp - Y_test_mexp)\n",
    "# Print out the mean absolute error (mae)\n",
    "print('Mean Absolute Error:', round(np.mean(errors), 2), 'degrees.')\n",
    "print(regressor_mexp.score(X_test_mexp, Y_test_mexp))\n",
    "\n",
    "\n",
    "ax = plt.gca()\n",
    "mexp_disp = plot_roc_curve(regressor_mexp, X_test_mexp, Y_test_mexp, ax=ax, alpha=1)\n",
    "gaze_disp.plot(ax=ax, alpha=0.8)\n",
    "plt.show()\n",
    "\n",
    "#svc_disp.plot(ax=ax, alpha=0.8)\n",
    "#plt.show()\n"
   ]
  },
  {
   "cell_type": "code",
   "execution_count": 115,
   "metadata": {},
   "outputs": [
    {
     "name": "stdout",
     "output_type": "stream",
     "text": [
      "=== Confusion Matrix ===\n",
      "[[40 28]\n",
      " [17 47]]\n",
      "\n",
      "\n",
      "=== Mean Accuracy Score ===\n",
      "Mean AUC Score - Random Forest:  0.5238095238095238\n",
      "\n",
      "\n",
      "=== Mean AUC Score ===\n",
      "Mean AUC Score - Random Forest:  0.5554527117943182\n",
      "\n",
      "\n",
      "=== Mean F1 Score ===\n",
      "Mean AUC Score - Random Forest:  0.5817884108290742\n"
     ]
    }
   ],
   "source": [
    "print(\"=== Confusion Matrix ===\")\n",
    "print(confusion_matrix(y_pred_mexp, Y_test_mexp))\n",
    "print('\\n')\n",
    "print(\"=== Mean Accuracy Score ===\")\n",
    "print(\"Mean AUC Score - Random Forest: \", regresor_score_mexp['test_accuracy'].mean())\n",
    "print('\\n')\n",
    "print(\"=== Mean AUC Score ===\")\n",
    "print(\"Mean AUC Score - Random Forest: \", regresor_score_mexp['test_roc_auc'].mean())\n",
    "print('\\n')\n",
    "print(\"=== Mean F1 Score ===\")\n",
    "print(\"Mean AUC Score - Random Forest: \", regresor_score_mexp['test_f1'].mean())"
   ]
  },
  {
   "cell_type": "markdown",
   "metadata": {},
   "source": [
    "__#################################################__"
   ]
  },
  {
   "cell_type": "markdown",
   "metadata": {},
   "source": [
    "# Audio model"
   ]
  },
  {
   "cell_type": "markdown",
   "metadata": {},
   "source": [
    "__#################################################__"
   ]
  },
  {
   "cell_type": "code",
   "execution_count": 18,
   "metadata": {},
   "outputs": [],
   "source": [
    "frame_audio = get_Data('Audio_Features/csv_framewise_audio') #Fetches audio data"
   ]
  },
  {
   "cell_type": "code",
   "execution_count": 19,
   "metadata": {},
   "outputs": [
    {
     "data": {
      "text/html": [
       "<div>\n",
       "<style scoped>\n",
       "    .dataframe tbody tr th:only-of-type {\n",
       "        vertical-align: middle;\n",
       "    }\n",
       "\n",
       "    .dataframe tbody tr th {\n",
       "        vertical-align: top;\n",
       "    }\n",
       "\n",
       "    .dataframe thead th {\n",
       "        text-align: right;\n",
       "    }\n",
       "</style>\n",
       "<table border=\"1\" class=\"dataframe\">\n",
       "  <thead>\n",
       "    <tr style=\"text-align: right;\">\n",
       "      <th></th>\n",
       "      <th>0</th>\n",
       "      <th>1</th>\n",
       "      <th>2</th>\n",
       "      <th>3</th>\n",
       "      <th>4</th>\n",
       "      <th>5</th>\n",
       "      <th>6</th>\n",
       "      <th>7</th>\n",
       "      <th>8</th>\n",
       "      <th>9</th>\n",
       "      <th>...</th>\n",
       "      <th>16</th>\n",
       "      <th>17</th>\n",
       "      <th>18</th>\n",
       "      <th>19</th>\n",
       "      <th>20</th>\n",
       "      <th>21</th>\n",
       "      <th>22</th>\n",
       "      <th>23</th>\n",
       "      <th>24</th>\n",
       "      <th>25</th>\n",
       "    </tr>\n",
       "  </thead>\n",
       "  <tbody>\n",
       "    <tr>\n",
       "      <th>0</th>\n",
       "      <td>0.000892</td>\n",
       "      <td>0.089964</td>\n",
       "      <td>0.706160</td>\n",
       "      <td>0.596271</td>\n",
       "      <td>0.548759</td>\n",
       "      <td>0.673054</td>\n",
       "      <td>0.507692</td>\n",
       "      <td>0.603958</td>\n",
       "      <td>0.296251</td>\n",
       "      <td>0.656157</td>\n",
       "      <td>...</td>\n",
       "      <td>0.229517</td>\n",
       "      <td>0.780941</td>\n",
       "      <td>0.549016</td>\n",
       "      <td>0.598014</td>\n",
       "      <td>0.376694</td>\n",
       "      <td>0.284306</td>\n",
       "      <td>0.152088</td>\n",
       "      <td>0.502426</td>\n",
       "      <td>0.477369</td>\n",
       "      <td>0.971072</td>\n",
       "    </tr>\n",
       "    <tr>\n",
       "      <th>1</th>\n",
       "      <td>0.000764</td>\n",
       "      <td>0.089242</td>\n",
       "      <td>0.666658</td>\n",
       "      <td>0.556063</td>\n",
       "      <td>0.528282</td>\n",
       "      <td>0.651599</td>\n",
       "      <td>0.528910</td>\n",
       "      <td>0.609678</td>\n",
       "      <td>0.275653</td>\n",
       "      <td>0.704502</td>\n",
       "      <td>...</td>\n",
       "      <td>0.250192</td>\n",
       "      <td>0.806479</td>\n",
       "      <td>0.526130</td>\n",
       "      <td>0.571989</td>\n",
       "      <td>0.370488</td>\n",
       "      <td>0.270194</td>\n",
       "      <td>0.196848</td>\n",
       "      <td>0.422436</td>\n",
       "      <td>0.255733</td>\n",
       "      <td>0.995823</td>\n",
       "    </tr>\n",
       "    <tr>\n",
       "      <th>2</th>\n",
       "      <td>0.014504</td>\n",
       "      <td>0.126318</td>\n",
       "      <td>0.681346</td>\n",
       "      <td>0.640214</td>\n",
       "      <td>0.573712</td>\n",
       "      <td>0.642483</td>\n",
       "      <td>0.498018</td>\n",
       "      <td>0.681848</td>\n",
       "      <td>0.269396</td>\n",
       "      <td>0.632868</td>\n",
       "      <td>...</td>\n",
       "      <td>0.267362</td>\n",
       "      <td>0.776339</td>\n",
       "      <td>0.546303</td>\n",
       "      <td>0.590342</td>\n",
       "      <td>0.414493</td>\n",
       "      <td>0.320672</td>\n",
       "      <td>0.167681</td>\n",
       "      <td>0.584247</td>\n",
       "      <td>0.495970</td>\n",
       "      <td>0.944239</td>\n",
       "    </tr>\n",
       "    <tr>\n",
       "      <th>3</th>\n",
       "      <td>0.001560</td>\n",
       "      <td>0.107648</td>\n",
       "      <td>0.652631</td>\n",
       "      <td>0.569034</td>\n",
       "      <td>0.534966</td>\n",
       "      <td>0.668106</td>\n",
       "      <td>0.495606</td>\n",
       "      <td>0.643365</td>\n",
       "      <td>0.294134</td>\n",
       "      <td>0.658395</td>\n",
       "      <td>...</td>\n",
       "      <td>0.183446</td>\n",
       "      <td>0.636962</td>\n",
       "      <td>0.450524</td>\n",
       "      <td>0.380403</td>\n",
       "      <td>0.181875</td>\n",
       "      <td>0.651546</td>\n",
       "      <td>0.198044</td>\n",
       "      <td>0.495306</td>\n",
       "      <td>0.460519</td>\n",
       "      <td>0.941602</td>\n",
       "    </tr>\n",
       "    <tr>\n",
       "      <th>4</th>\n",
       "      <td>0.001090</td>\n",
       "      <td>0.097025</td>\n",
       "      <td>0.637400</td>\n",
       "      <td>0.593191</td>\n",
       "      <td>0.518515</td>\n",
       "      <td>0.626322</td>\n",
       "      <td>0.465158</td>\n",
       "      <td>0.627648</td>\n",
       "      <td>0.313894</td>\n",
       "      <td>0.651563</td>\n",
       "      <td>...</td>\n",
       "      <td>0.243746</td>\n",
       "      <td>0.711678</td>\n",
       "      <td>0.483809</td>\n",
       "      <td>0.486708</td>\n",
       "      <td>0.260180</td>\n",
       "      <td>0.471683</td>\n",
       "      <td>0.233580</td>\n",
       "      <td>0.508367</td>\n",
       "      <td>0.500297</td>\n",
       "      <td>0.982786</td>\n",
       "    </tr>\n",
       "  </tbody>\n",
       "</table>\n",
       "<p>5 rows × 26 columns</p>\n",
       "</div>"
      ],
      "text/plain": [
       "         0         1         2         3         4         5         6   \\\n",
       "0  0.000892  0.089964  0.706160  0.596271  0.548759  0.673054  0.507692   \n",
       "1  0.000764  0.089242  0.666658  0.556063  0.528282  0.651599  0.528910   \n",
       "2  0.014504  0.126318  0.681346  0.640214  0.573712  0.642483  0.498018   \n",
       "3  0.001560  0.107648  0.652631  0.569034  0.534966  0.668106  0.495606   \n",
       "4  0.001090  0.097025  0.637400  0.593191  0.518515  0.626322  0.465158   \n",
       "\n",
       "         7         8         9   ...        16        17        18        19  \\\n",
       "0  0.603958  0.296251  0.656157  ...  0.229517  0.780941  0.549016  0.598014   \n",
       "1  0.609678  0.275653  0.704502  ...  0.250192  0.806479  0.526130  0.571989   \n",
       "2  0.681848  0.269396  0.632868  ...  0.267362  0.776339  0.546303  0.590342   \n",
       "3  0.643365  0.294134  0.658395  ...  0.183446  0.636962  0.450524  0.380403   \n",
       "4  0.627648  0.313894  0.651563  ...  0.243746  0.711678  0.483809  0.486708   \n",
       "\n",
       "         20        21        22        23        24        25  \n",
       "0  0.376694  0.284306  0.152088  0.502426  0.477369  0.971072  \n",
       "1  0.370488  0.270194  0.196848  0.422436  0.255733  0.995823  \n",
       "2  0.414493  0.320672  0.167681  0.584247  0.495970  0.944239  \n",
       "3  0.181875  0.651546  0.198044  0.495306  0.460519  0.941602  \n",
       "4  0.260180  0.471683  0.233580  0.508367  0.500297  0.982786  \n",
       "\n",
       "[5 rows x 26 columns]"
      ]
     },
     "execution_count": 19,
     "metadata": {},
     "output_type": "execute_result"
    }
   ],
   "source": [
    "X_audio_norm = normalize(frame_audio.iloc[:,2:28].values) #normalization\n",
    "X_audio_norm.head()"
   ]
  },
  {
   "cell_type": "markdown",
   "metadata": {},
   "source": [
    "Applying xgclassifier"
   ]
  },
  {
   "cell_type": "code",
   "execution_count": 20,
   "metadata": {},
   "outputs": [
    {
     "data": {
      "text/plain": [
       "XGBClassifier(base_score=0.5, booster='gbtree', colsample_bylevel=1,\n",
       "              colsample_bynode=1, colsample_bytree=1, gamma=0,\n",
       "              learning_rate=0.1, max_delta_step=0, max_depth=4,\n",
       "              min_child_weight=1, missing=None, n_estimators=100, n_jobs=1,\n",
       "              nthread=None, objective='binary:logistic', random_state=0,\n",
       "              reg_alpha=0, reg_lambda=1, scale_pos_weight=1, seed=None,\n",
       "              silent=None, subsample=1, verbosity=1)"
      ]
     },
     "execution_count": 20,
     "metadata": {},
     "output_type": "execute_result"
    }
   ],
   "source": [
    "Y_audio = encoder(frame_audio.iloc[:,28].values)\n",
    "X_train_audio, X_test_audio, Y_train_audio, Y_test_audio = data_Split(X_audio_norm, Y_audio)\n",
    "\n",
    "#dtest = xgb.DMatrix(X_test_audio, label=Y_test_audio)\n",
    "#dtrain = xgb.DMatrix(X_train_audio, label=Y_train_audio)\n",
    "\n",
    "#param = {'max_depth': 2, 'eta': 1, 'objective': 'binary:logistic'}\n",
    "#param['nthread'] = 4\n",
    "#param['eval_metric'] = 'auc'\n",
    "\n",
    "#evallist = [(dtest, 'eval'), (dtrain, 'train')]\n",
    "regressor_audio = XGBClassifier(n_estimators = 100 , max_depth = 4 , random_state=0)\n",
    "regresor_score_audio = cross_validate(regressor_audio, X_audio_norm, Y_audio, cv=5 , scoring=('accuracy', 'roc_auc','f1')) # crossvalidation used with 5\n",
    "regressor_audio.fit(X_train_audio, Y_train_audio)\n",
    "#bst = xgb.train(param, dtrain, 100, evallist)\n"
   ]
  },
  {
   "cell_type": "code",
   "execution_count": 116,
   "metadata": {},
   "outputs": [
    {
     "name": "stdout",
     "output_type": "stream",
     "text": [
      "Mean Absolute Error: 0.38 degrees.\n",
      "0.6212121212121212\n"
     ]
    },
    {
     "data": {
      "image/png": "[encoded data removed]",
      "text/plain": [
       "<Figure size 432x288 with 1 Axes>"
      ]
     },
     "metadata": {
      "needs_background": "light"
     },
     "output_type": "display_data"
    }
   ],
   "source": [
    "y_pred_audio = regressor_audio.predict(X_test_audio)\n",
    "\n",
    "errors = abs(y_pred_audio - Y_test_audio)\n",
    "# Print out the mean absolute error (mae)\n",
    "print('Mean Absolute Error:', round(np.mean(errors), 2), 'degrees.')\n",
    "print(regressor_audio.score(X_test_audio, Y_test_audio))\n",
    "\n",
    "\n",
    "\n",
    "ax = plt.gca()\n",
    "audio_disp = plot_roc_curve(regressor_audio, X_test_audio, Y_test_audio, ax=ax, alpha=1)\n",
    "mexp_disp = plot_roc_curve(regressor_mexp, X_test_mexp, Y_test_mexp, ax=ax, alpha=1)\n",
    "gaze_disp.plot(ax=ax, alpha=1)\n",
    "plt.show()"
   ]
  },
  {
   "cell_type": "code",
   "execution_count": 22,
   "metadata": {},
   "outputs": [
    {
     "name": "stdout",
     "output_type": "stream",
     "text": [
      "=== Confusion Matrix ===\n",
      "[[31 24]\n",
      " [26 51]]\n",
      "\n",
      "\n",
      "=== Mean Accuracy Score ===\n",
      "Mean AUC Score - XGB:  0.5586513994910941\n",
      "\n",
      "\n",
      "=== Mean AUC Score ===\n",
      "Mean AUC Score - XGB:  0.5244041272114799\n",
      "\n",
      "\n",
      "=== Mean F1 Score ===\n",
      "Mean AUC Score - XGB:  0.5974018303377086\n"
     ]
    }
   ],
   "source": [
    "print(\"=== Confusion Matrix ===\")\n",
    "print(confusion_matrix(y_pred_audio, Y_test_audio))\n",
    "print('\\n')\n",
    "print(\"=== Mean Accuracy Score ===\")\n",
    "print(\"Mean AUC Score - XGB: \", regresor_score_audio['test_accuracy'].mean())\n",
    "print('\\n')\n",
    "print(\"=== Mean AUC Score ===\")\n",
    "print(\"Mean AUC Score - XGB: \", regresor_score_audio['test_roc_auc'].mean())\n",
    "print('\\n')\n",
    "print(\"=== Mean F1 Score ===\")\n",
    "print(\"Mean AUC Score - XGB: \", regresor_score_audio['test_f1'].mean())"
   ]
  },
  {
   "cell_type": "markdown",
   "metadata": {},
   "source": [
    "__#################################################__"
   ]
  },
  {
   "cell_type": "markdown",
   "metadata": {},
   "source": [
    "# Audio + Gaze + mexp"
   ]
  },
  {
   "cell_type": "markdown",
   "metadata": {},
   "source": [
    "__#################################################__"
   ]
  },
  {
   "cell_type": "code",
   "execution_count": 46,
   "metadata": {},
   "outputs": [],
   "source": [
    "frame_mod = get_All_Data() # fetching all data"
   ]
  },
  {
   "cell_type": "code",
   "execution_count": 47,
   "metadata": {},
   "outputs": [
    {
     "data": {
      "text/html": [
       "<div>\n",
       "<style scoped>\n",
       "    .dataframe tbody tr th:only-of-type {\n",
       "        vertical-align: middle;\n",
       "    }\n",
       "\n",
       "    .dataframe tbody tr th {\n",
       "        vertical-align: top;\n",
       "    }\n",
       "\n",
       "    .dataframe thead th {\n",
       "        text-align: right;\n",
       "    }\n",
       "</style>\n",
       "<table border=\"1\" class=\"dataframe\">\n",
       "  <thead>\n",
       "    <tr style=\"text-align: right;\">\n",
       "      <th></th>\n",
       "      <th>0</th>\n",
       "      <th>1</th>\n",
       "      <th>2</th>\n",
       "      <th>3</th>\n",
       "      <th>4</th>\n",
       "      <th>5</th>\n",
       "      <th>6</th>\n",
       "      <th>7</th>\n",
       "      <th>8</th>\n",
       "      <th>9</th>\n",
       "      <th>...</th>\n",
       "      <th>65</th>\n",
       "      <th>66</th>\n",
       "      <th>67</th>\n",
       "      <th>68</th>\n",
       "      <th>69</th>\n",
       "      <th>70</th>\n",
       "      <th>71</th>\n",
       "      <th>72</th>\n",
       "      <th>73</th>\n",
       "      <th>74</th>\n",
       "    </tr>\n",
       "  </thead>\n",
       "  <tbody>\n",
       "    <tr>\n",
       "      <th>0</th>\n",
       "      <td>0.645981</td>\n",
       "      <td>0.833377</td>\n",
       "      <td>0.147518</td>\n",
       "      <td>0.484168</td>\n",
       "      <td>0.828999</td>\n",
       "      <td>0.151599</td>\n",
       "      <td>0.562146</td>\n",
       "      <td>0.810759</td>\n",
       "      <td>0.999973</td>\n",
       "      <td>0.999986</td>\n",
       "      <td>...</td>\n",
       "      <td>0.229517</td>\n",
       "      <td>0.780941</td>\n",
       "      <td>0.549016</td>\n",
       "      <td>0.598014</td>\n",
       "      <td>0.376694</td>\n",
       "      <td>0.284306</td>\n",
       "      <td>0.152088</td>\n",
       "      <td>0.502426</td>\n",
       "      <td>0.477369</td>\n",
       "      <td>0.971072</td>\n",
       "    </tr>\n",
       "    <tr>\n",
       "      <th>1</th>\n",
       "      <td>0.640654</td>\n",
       "      <td>0.839265</td>\n",
       "      <td>0.148651</td>\n",
       "      <td>0.473654</td>\n",
       "      <td>0.829310</td>\n",
       "      <td>0.154038</td>\n",
       "      <td>0.553946</td>\n",
       "      <td>0.814694</td>\n",
       "      <td>0.999974</td>\n",
       "      <td>0.999986</td>\n",
       "      <td>...</td>\n",
       "      <td>0.250192</td>\n",
       "      <td>0.806479</td>\n",
       "      <td>0.526130</td>\n",
       "      <td>0.571989</td>\n",
       "      <td>0.370488</td>\n",
       "      <td>0.270194</td>\n",
       "      <td>0.196848</td>\n",
       "      <td>0.422436</td>\n",
       "      <td>0.255733</td>\n",
       "      <td>0.995823</td>\n",
       "    </tr>\n",
       "    <tr>\n",
       "      <th>2</th>\n",
       "      <td>0.626557</td>\n",
       "      <td>0.778500</td>\n",
       "      <td>0.123944</td>\n",
       "      <td>0.480465</td>\n",
       "      <td>0.773122</td>\n",
       "      <td>0.131945</td>\n",
       "      <td>0.550101</td>\n",
       "      <td>0.748673</td>\n",
       "      <td>0.999974</td>\n",
       "      <td>0.999985</td>\n",
       "      <td>...</td>\n",
       "      <td>0.267362</td>\n",
       "      <td>0.776339</td>\n",
       "      <td>0.546303</td>\n",
       "      <td>0.590342</td>\n",
       "      <td>0.414493</td>\n",
       "      <td>0.320672</td>\n",
       "      <td>0.167681</td>\n",
       "      <td>0.584247</td>\n",
       "      <td>0.495970</td>\n",
       "      <td>0.944239</td>\n",
       "    </tr>\n",
       "    <tr>\n",
       "      <th>3</th>\n",
       "      <td>0.644823</td>\n",
       "      <td>0.813580</td>\n",
       "      <td>0.140539</td>\n",
       "      <td>0.490275</td>\n",
       "      <td>0.803699</td>\n",
       "      <td>0.141933</td>\n",
       "      <td>0.564455</td>\n",
       "      <td>0.785835</td>\n",
       "      <td>0.999973</td>\n",
       "      <td>0.999985</td>\n",
       "      <td>...</td>\n",
       "      <td>0.183446</td>\n",
       "      <td>0.636962</td>\n",
       "      <td>0.450524</td>\n",
       "      <td>0.380403</td>\n",
       "      <td>0.181875</td>\n",
       "      <td>0.651546</td>\n",
       "      <td>0.198044</td>\n",
       "      <td>0.495306</td>\n",
       "      <td>0.460519</td>\n",
       "      <td>0.941602</td>\n",
       "    </tr>\n",
       "    <tr>\n",
       "      <th>4</th>\n",
       "      <td>0.622857</td>\n",
       "      <td>0.799721</td>\n",
       "      <td>0.131182</td>\n",
       "      <td>0.468474</td>\n",
       "      <td>0.795251</td>\n",
       "      <td>0.143994</td>\n",
       "      <td>0.542067</td>\n",
       "      <td>0.773802</td>\n",
       "      <td>0.999974</td>\n",
       "      <td>0.999985</td>\n",
       "      <td>...</td>\n",
       "      <td>0.243746</td>\n",
       "      <td>0.711678</td>\n",
       "      <td>0.483809</td>\n",
       "      <td>0.486708</td>\n",
       "      <td>0.260180</td>\n",
       "      <td>0.471683</td>\n",
       "      <td>0.233580</td>\n",
       "      <td>0.508367</td>\n",
       "      <td>0.500297</td>\n",
       "      <td>0.982786</td>\n",
       "    </tr>\n",
       "  </tbody>\n",
       "</table>\n",
       "<p>5 rows × 75 columns</p>\n",
       "</div>"
      ],
      "text/plain": [
       "         0         1         2         3         4         5         6   \\\n",
       "0  0.645981  0.833377  0.147518  0.484168  0.828999  0.151599  0.562146   \n",
       "1  0.640654  0.839265  0.148651  0.473654  0.829310  0.154038  0.553946   \n",
       "2  0.626557  0.778500  0.123944  0.480465  0.773122  0.131945  0.550101   \n",
       "3  0.644823  0.813580  0.140539  0.490275  0.803699  0.141933  0.564455   \n",
       "4  0.622857  0.799721  0.131182  0.468474  0.795251  0.143994  0.542067   \n",
       "\n",
       "         7         8         9   ...        65        66        67        68  \\\n",
       "0  0.810759  0.999973  0.999986  ...  0.229517  0.780941  0.549016  0.598014   \n",
       "1  0.814694  0.999974  0.999986  ...  0.250192  0.806479  0.526130  0.571989   \n",
       "2  0.748673  0.999974  0.999985  ...  0.267362  0.776339  0.546303  0.590342   \n",
       "3  0.785835  0.999973  0.999985  ...  0.183446  0.636962  0.450524  0.380403   \n",
       "4  0.773802  0.999974  0.999985  ...  0.243746  0.711678  0.483809  0.486708   \n",
       "\n",
       "         69        70        71        72        73        74  \n",
       "0  0.376694  0.284306  0.152088  0.502426  0.477369  0.971072  \n",
       "1  0.370488  0.270194  0.196848  0.422436  0.255733  0.995823  \n",
       "2  0.414493  0.320672  0.167681  0.584247  0.495970  0.944239  \n",
       "3  0.181875  0.651546  0.198044  0.495306  0.460519  0.941602  \n",
       "4  0.260180  0.471683  0.233580  0.508367  0.500297  0.982786  \n",
       "\n",
       "[5 rows x 75 columns]"
      ]
     },
     "execution_count": 47,
     "metadata": {},
     "output_type": "execute_result"
    }
   ],
   "source": [
    "X_mod_norm = normalize(frame_mod.iloc[:,0:75].values) #normalization\n",
    "X_mod_norm.head()"
   ]
  },
  {
   "cell_type": "code",
   "execution_count": 48,
   "metadata": {},
   "outputs": [],
   "source": [
    "Y_mod = encoder(frame_mod.iloc[:,75].values) #encoding the label\n",
    "X_train_mod, X_test_mod, Y_train_mod, Y_test_mod = data_Split(X_mod_norm, Y_mod) # spliting our data"
   ]
  },
  {
   "cell_type": "markdown",
   "metadata": {},
   "source": [
    "Applying RandomForestClassifier for gaze"
   ]
  },
  {
   "cell_type": "code",
   "execution_count": 49,
   "metadata": {},
   "outputs": [
    {
     "data": {
      "text/plain": [
       "RandomForestClassifier(bootstrap=True, ccp_alpha=0.0, class_weight=None,\n",
       "                       criterion='gini', max_depth=4, max_features='auto',\n",
       "                       max_leaf_nodes=None, max_samples=None,\n",
       "                       min_impurity_decrease=0.0, min_impurity_split=None,\n",
       "                       min_samples_leaf=1, min_samples_split=2,\n",
       "                       min_weight_fraction_leaf=0.0, n_estimators=100,\n",
       "                       n_jobs=None, oob_score=False, random_state=0, verbose=0,\n",
       "                       warm_start=False)"
      ]
     },
     "execution_count": 49,
     "metadata": {},
     "output_type": "execute_result"
    }
   ],
   "source": [
    "regressor_mod_gaze = RandomForestClassifier(n_estimators = 100 , max_depth = 4 , random_state=0)\n",
    "regressor_mod_gaze.fit(X_train_mod.iloc[:,0:8], Y_train_mod) "
   ]
  },
  {
   "cell_type": "code",
   "execution_count": 50,
   "metadata": {},
   "outputs": [
    {
     "name": "stdout",
     "output_type": "stream",
     "text": [
      "Mean Absolute Error: 0.39 degrees.\n",
      "Accuracy: 0.6060606060606061\n"
     ]
    }
   ],
   "source": [
    "y_pred_mod_gaze = regressor_mod_gaze.predict_proba(X_test_mod.iloc[:,0:8])\n",
    "y_pred_mod_gaze_1 = regressor_mod_gaze.predict(X_test_mod.iloc[:,0:8])\n",
    "\n",
    "errors = abs(y_pred_mod_gaze_1 - Y_test_mod)\n",
    "#Print out the mean absolute error (mae)\n",
    "print('Mean Absolute Error:', round(np.mean(errors), 2), 'degrees.')\n",
    "print(\"Accuracy:\",metrics.accuracy_score(Y_test_mod, y_pred_mod_gaze_1))\n",
    "\n"
   ]
  },
  {
   "cell_type": "markdown",
   "metadata": {},
   "source": [
    "RandomForest Classifier for mexp"
   ]
  },
  {
   "cell_type": "code",
   "execution_count": 51,
   "metadata": {},
   "outputs": [
    {
     "data": {
      "text/plain": [
       "RandomForestClassifier(bootstrap=True, ccp_alpha=0.0, class_weight=None,\n",
       "                       criterion='gini', max_depth=None, max_features='auto',\n",
       "                       max_leaf_nodes=None, max_samples=None,\n",
       "                       min_impurity_decrease=0.0, min_impurity_split=None,\n",
       "                       min_samples_leaf=1, min_samples_split=2,\n",
       "                       min_weight_fraction_leaf=0.0, n_estimators=100,\n",
       "                       n_jobs=None, oob_score=False, random_state=0, verbose=0,\n",
       "                       warm_start=False)"
      ]
     },
     "execution_count": 51,
     "metadata": {},
     "output_type": "execute_result"
    }
   ],
   "source": [
    "regressor_mod_mexp = RandomForestClassifier(n_estimators = 100, random_state = 0)\n",
    "regressor_mod_mexp.fit(X_train_mod.iloc[:,8:49], Y_train_mod) "
   ]
  },
  {
   "cell_type": "code",
   "execution_count": 52,
   "metadata": {},
   "outputs": [
    {
     "name": "stdout",
     "output_type": "stream",
     "text": [
      "Mean Absolute Error: 0.36 degrees.\n",
      "Accuracy: 0.6439393939393939\n"
     ]
    }
   ],
   "source": [
    "y_pred_mod_mexp = regressor_mod_mexp.predict_proba(X_test_mod.iloc[:,8:49])\n",
    "y_pred_mod_mexp_1 = regressor_mod_mexp.predict(X_test_mod.iloc[:,8:49])\n",
    "\n",
    "errors = abs(y_pred_mod_mexp_1 - Y_test_mod)\n",
    "# Print out the mean absolute error (mae)\n",
    "print('Mean Absolute Error:', round(np.mean(errors), 2), 'degrees.')\n",
    "print(\"Accuracy:\",metrics.accuracy_score(Y_test_mod, y_pred_mod_mexp_1))\n",
    "\n"
   ]
  },
  {
   "cell_type": "markdown",
   "metadata": {},
   "source": [
    "XGBClassifier for audio"
   ]
  },
  {
   "cell_type": "code",
   "execution_count": 53,
   "metadata": {},
   "outputs": [
    {
     "data": {
      "text/plain": [
       "XGBClassifier(base_score=0.5, booster='gbtree', colsample_bylevel=1,\n",
       "              colsample_bynode=1, colsample_bytree=1, gamma=0,\n",
       "              learning_rate=0.1, max_delta_step=0, max_depth=4,\n",
       "              min_child_weight=1, missing=None, n_estimators=20, n_jobs=1,\n",
       "              nthread=None, objective='binary:logistic', random_state=0,\n",
       "              reg_alpha=0, reg_lambda=1, scale_pos_weight=1, seed=None,\n",
       "              silent=None, subsample=1, verbosity=1)"
      ]
     },
     "execution_count": 53,
     "metadata": {},
     "output_type": "execute_result"
    }
   ],
   "source": [
    "regressor_mod_audio = XGBClassifier(n_estimators = 20, max_depth = 4, random_state = 0)\n",
    "regressor_mod_audio.fit(X_train_mod.iloc[:,49:75], Y_train_mod)"
   ]
  },
  {
   "cell_type": "code",
   "execution_count": 54,
   "metadata": {},
   "outputs": [
    {
     "name": "stdout",
     "output_type": "stream",
     "text": [
      "Mean Absolute Error: 0.39 degrees.\n",
      "Accuracy: 0.6136363636363636\n"
     ]
    }
   ],
   "source": [
    "y_pred_mod_audio = regressor_mod_audio.predict_proba(X_test_mod.iloc[:,49:75])\n",
    "y_pred_mod_audio_1 = regressor_mod_audio.predict(X_test_mod.iloc[:,49:75])\n",
    "\n",
    "errors = abs(y_pred_mod_audio_1 - Y_test_mod)\n",
    "# Print out the mean absolute error (mae)\n",
    "print('Mean Absolute Error:', round(np.mean(errors), 2), 'degrees.')\n",
    "print(\"Accuracy:\",metrics.accuracy_score(Y_test_mod, y_pred_mod_audio_1))"
   ]
  },
  {
   "cell_type": "markdown",
   "metadata": {},
   "source": [
    "Manual Late Fusion for the different combination of modalities"
   ]
  },
  {
   "cell_type": "code",
   "execution_count": 57,
   "metadata": {},
   "outputs": [],
   "source": [
    "li_prob = np.empty([y_pred_mod_gaze.shape[0],1])\n",
    "li_prob_1 = np.empty([y_pred_mod_gaze.shape[0],1])\n",
    "li_prob_2 = np.empty([y_pred_mod_gaze.shape[0],1])\n",
    "li_prob_3 = np.empty([y_pred_mod_gaze.shape[0],1])\n",
    "\n",
    "for i in range(0,y_pred_mod_gaze.shape[0]):\n",
    "    li_prob[i]= (0.3 * y_pred_mod_audio[i][1])+(0.2 * y_pred_mod_gaze[i][1])+(0.5 * y_pred_mod_mexp[i][1]) # gaze + audio + mexp\n",
    "    li_prob_1[i]= (0.4 * y_pred_mod_audio[i][1])+(0 * y_pred_mod_gaze[i][1])+(0.6 * y_pred_mod_mexp[i][1]) # audio + mexp\n",
    "    li_prob_2[i]= (0 * y_pred_mod_audio[i][1])+(0.4 * y_pred_mod_gaze[i][1])+(0.6 * y_pred_mod_mexp[i][1]) # gaze + mexp\n",
    "    li_prob_3[i]=(0.6 * y_pred_mod_audio[i][1])+(0.4 * y_pred_mod_gaze[i][1])+(0 * y_pred_mod_mexp[i][1])  # gaze + audio\n",
    "\n",
    "li_all = np.empty([li_prob.shape[0],1])\n",
    "li_1 = np.empty([li_prob_1.shape[0],1])\n",
    "li_2 = np.empty([li_prob_2.shape[0],1])\n",
    "li_3 = np.empty([li_prob_3.shape[0],1])\n",
    "for s in range(0,li_prob.shape[0]):\n",
    "    li_all[s] = round(float(li_prob[s]))\n",
    "for s in range(0,li_prob_1.shape[0]):\n",
    "    li_1[s] = round(float(li_prob_1[s]))\n",
    "for s in range(0,li_prob_2.shape[0]):\n",
    "    li_2[s] = round(float(li_prob_2[s]))\n",
    "for s in range(0,li_prob_3.shape[0]):\n",
    "    li_3[s] = round(float(li_prob_3[s]))"
   ]
  },
  {
   "cell_type": "markdown",
   "metadata": {},
   "source": [
    "mexp + audio"
   ]
  },
  {
   "cell_type": "code",
   "execution_count": 58,
   "metadata": {},
   "outputs": [
    {
     "name": "stdout",
     "output_type": "stream",
     "text": [
      "Mean Absolute Error: 0.49 degrees.\n",
      "Accuracy: 0.6666666666666666\n"
     ]
    }
   ],
   "source": [
    "errors = abs(li_1 - Y_test_mod)\n",
    "# Print out the mean absolute error (mae)\n",
    "print('Mean Absolute Error:', round(np.mean(errors), 2), 'degrees.')\n",
    "print(\"Accuracy:\",metrics.accuracy_score(Y_test_mod, li_1))"
   ]
  },
  {
   "cell_type": "markdown",
   "metadata": {},
   "source": [
    "gaze + mexp"
   ]
  },
  {
   "cell_type": "code",
   "execution_count": 63,
   "metadata": {},
   "outputs": [
    {
     "name": "stdout",
     "output_type": "stream",
     "text": [
      "Mean Absolute Error: 0.49 degrees.\n",
      "Accuracy: 0.6590909090909091\n"
     ]
    }
   ],
   "source": [
    "errors = abs(li_2 - Y_test_mod)\n",
    "# Print out the mean absolute error (mae)\n",
    "print('Mean Absolute Error:', round(np.mean(errors), 2), 'degrees.')\n",
    "print(\"Accuracy:\",metrics.accuracy_score(Y_test_mod, li_2))"
   ]
  },
  {
   "cell_type": "markdown",
   "metadata": {},
   "source": [
    "gaze + audio"
   ]
  },
  {
   "cell_type": "code",
   "execution_count": 64,
   "metadata": {},
   "outputs": [
    {
     "name": "stdout",
     "output_type": "stream",
     "text": [
      "Mean Absolute Error: 0.48 degrees.\n",
      "Accuracy: 0.6060606060606061\n"
     ]
    }
   ],
   "source": [
    "errors = abs(li_3 - Y_test_mod)\n",
    "# Print out the mean absolute error (mae)\n",
    "print('Mean Absolute Error:', round(np.mean(errors), 2), 'degrees.')\n",
    "print(\"Accuracy:\",metrics.accuracy_score(Y_test_mod, li_3))"
   ]
  },
  {
   "cell_type": "markdown",
   "metadata": {},
   "source": [
    "Gaze + mexp + audio"
   ]
  },
  {
   "cell_type": "code",
   "execution_count": 65,
   "metadata": {},
   "outputs": [
    {
     "name": "stdout",
     "output_type": "stream",
     "text": [
      "Mean Absolute Error: 0.49 degrees.\n",
      "Accuracy: 0.6742424242424242\n"
     ]
    }
   ],
   "source": [
    "errors = abs(li_all - Y_test_mod)\n",
    "# Print out the mean absolute error (mae)\n",
    "print('Mean Absolute Error:', round(np.mean(errors), 2), 'degrees.')\n",
    "print(\"Accuracy:\",metrics.accuracy_score(Y_test_mod, li_all))\n"
   ]
  },
  {
   "cell_type": "code",
   "execution_count": 66,
   "metadata": {},
   "outputs": [
    {
     "name": "stdout",
     "output_type": "stream",
     "text": [
      "0.7029239766081872\n"
     ]
    },
    {
     "data": {
      "image/png": "[encoded data removed]",
      "text/plain": [
       "<Figure size 432x288 with 1 Axes>"
      ]
     },
     "metadata": {
      "needs_background": "light"
     },
     "output_type": "display_data"
    }
   ],
   "source": [
    "from sklearn.metrics import roc_curve, auc\n",
    "fpr = dict()\n",
    "tpr = dict()\n",
    "roc_auc = dict()\n",
    "\n",
    "fpr, tpr, _ = roc_curve(Y_test_mod, li_prob)\n",
    "roc_auc = auc(fpr, tpr)\n",
    "print(roc_auc)    \n",
    "    \n",
    "    \n",
    "plt.figure()\n",
    "lw = 2\n",
    "\n",
    "plt.plot(fpr, tpr, color='blue',\n",
    "         lw=lw, label='Gaze + Mexp + Audio' )\n",
    "\n",
    "plt.plot(roc_curve(Y_test_mod, li_prob_1)[0], roc_curve(Y_test_mod, li_prob_1)[1], color='darkorange',\n",
    "         lw=lw,alpha=0.3, label='Mexp + Audio')\n",
    "\n",
    "plt.plot(roc_curve(Y_test_mod, li_prob_2)[0], roc_curve(Y_test_mod, li_prob_2)[1], color='red',\n",
    "         lw=lw,alpha=0.3, label='Gaze + Mexp')\n",
    "\n",
    "plt.plot(roc_curve(Y_test_mod, li_prob_3)[0], roc_curve(Y_test_mod, li_prob_3)[1], color='green',\n",
    "         lw=lw,alpha=0.3, label='Gaze + Audio')\n",
    "\n",
    "\n",
    "\n",
    "plt.plot([0, 1], [0, 1], color='navy', lw=lw, linestyle='--')\n",
    "plt.xlim([0.0, 1.0])\n",
    "plt.ylim([0.0, 1.05])\n",
    "plt.xlabel('False Positive Rate')\n",
    "plt.ylabel('True Positive Rate')\n",
    "plt.title('Receiver operating characteristic ')\n",
    "plt.legend(loc=\"lower right\")\n",
    "plt.show()"
   ]
  },
  {
   "cell_type": "code",
   "execution_count": null,
   "metadata": {},
   "outputs": [],
   "source": []
  }
 ],
 "metadata": {
  "kernelspec": {
   "display_name": "Python 3",
   "language": "python",
   "name": "python3"
  },
  "language_info": {
   "codemirror_mode": {
    "name": "ipython",
    "version": 3
   },
   "file_extension": ".py",
   "mimetype": "text/x-python",
   "name": "python",
   "nbconvert_exporter": "python",
   "pygments_lexer": "ipython3",
   "version": "3.7.6"
  }
 },
 "nbformat": 4,
 "nbformat_minor": 4
}
