{
 "cells": [
  {
   "cell_type": "markdown",
   "metadata": {},
   "source": [
    "## A Deep Learning approach to detect deception using Audio Features"
   ]
  },
  {
   "cell_type": "code",
   "execution_count": 8,
   "metadata": {},
   "outputs": [],
   "source": [
    "import sys\n",
    "sys.path.append('/home/adrikamukherjee/venv/lib/python3.6/site-packages')"
   ]
  },
  {
   "cell_type": "code",
   "execution_count": 9,
   "metadata": {},
   "outputs": [],
   "source": [
    "import os, sys, glob, csv, numpy as np, pandas as pd, matplotlib.pyplot as plt, tensorflow as tf, IPython.display as ipd, keras\n",
    "from sklearn import model_selection, preprocessing\n",
    "import sklearn\n",
    "from os import walk, path\n",
    "from keras import models, layers, optimizers, preprocessing as KRSpreps, utils as KRSutils\n",
    "#from tslearn import preprocessing as TSpreps, utils as TSutils"
   ]
  },
  {
   "cell_type": "markdown",
   "metadata": {},
   "source": [
    "### \"plot_acc_loss\" function plots the validation and training accuracy && validation and training loss"
   ]
  },
  {
   "cell_type": "code",
   "execution_count": 10,
   "metadata": {},
   "outputs": [],
   "source": [
    "def plot_acc_loss(history):\n",
    "    fig = plt.figure(figsize=(10,5))\n",
    "    plt.subplot(1, 2, 1)\n",
    "    plt.plot(history.history['acc'])\n",
    "    plt.plot(history.history['val_acc'])\n",
    "    plt.title('model accuracy')\n",
    "    plt.ylabel('accuracy')\n",
    "    plt.xlabel('epoch')\n",
    "    plt.legend(['train', 'validation'], loc='upper left')\n",
    "    \n",
    "    plt.subplot(1, 2, 2)\n",
    "    plt.plot(history.history['loss'])\n",
    "    plt.plot(history.history['val_loss'])\n",
    "    plt.title('model loss')\n",
    "    plt.ylabel('loss')\n",
    "    plt.xlabel('epoch')\n",
    "    plt.legend(['train', 'test'], loc='upper right')\n",
    "    plt.show()"
   ]
  },
  {
   "cell_type": "markdown",
   "metadata": {},
   "source": [
    "### Preparation of data before processing it\n",
    "\n",
    "\"direc\" contains the path of frame wise Audio Features per video extracted using opensmile\n",
    "\n",
    "Remove unnecesary columns\n",
    "\n",
    "Seperate data and labels"
   ]
  },
  {
   "cell_type": "code",
   "execution_count": 12,
   "metadata": {},
   "outputs": [],
   "source": [
    "direc = \"/home/adrikamukherjee/csv_frame_wise_fulldata\""
   ]
  },
  {
   "cell_type": "code",
   "execution_count": 13,
   "metadata": {},
   "outputs": [],
   "source": [
    "df_list, label_list = [], []\n",
    "for filename in glob.glob(os.path.join(direc, '*.csv')):\n",
    "            df_individualfile = pd.read_csv(filename)\n",
    "            count = len(df_individualfile.index)\n",
    "            if(count>0):\n",
    "                label = df_individualfile.loc[:, \"label\"].unique()[0]\n",
    "                df_individualfile.drop([\"name\", \"frameTime\", \"Unnamed: 0\", \"label\"], axis = 1, inplace = True)\n",
    "                df_individualfile.set_index(pd.date_range(start='2000-01-01', end='2020-01-12', \n",
    "                                                          periods = df_individualfile.shape[0]), inplace = True)\n",
    "                df_individualfile.drop_duplicates(inplace = True)\n",
    "                df_list.append(df_individualfile)\n",
    "                label_list.append(label)"
   ]
  },
  {
   "cell_type": "markdown",
   "metadata": {},
   "source": [
    "### Plot distribution of number of frames from each Audio File"
   ]
  },
  {
   "cell_type": "code",
   "execution_count": 14,
   "metadata": {},
   "outputs": [
    {
     "name": "stdout",
     "output_type": "stream",
     "text": [
      "count     8722.000000\n",
      "mean      1295.318505\n",
      "std       1043.412818\n",
      "min         99.000000\n",
      "25%        699.000000\n",
      "50%       1000.000000\n",
      "75%       1600.000000\n",
      "max      24400.000000\n",
      "dtype: float64\n",
      "[300.0, 400.0, 500.0, 599.0, 699.0, 700.0, 800.0, 899.0, 980.0500000000025, 1000.0, 1100.0, 1200.0, 1300.0, 1499.0, 1600.0, 1799.0, 2000.0, 2400.0, 3100.0]\n"
     ]
    },
    {
     "data": {
      "text/plain": [
       "<matplotlib.axes._subplots.AxesSubplot at 0x7fdce7e22400>"
      ]
     },
     "execution_count": 14,
     "metadata": {},
     "output_type": "execute_result"
    },
    {
     "data": {
      "image/png": "[encoded data removed]",
      "text/plain": [
       "<Figure size 432x288 with 1 Axes>"
      ]
     },
     "metadata": {
      "needs_background": "light"
     },
     "output_type": "display_data"
    }
   ],
   "source": [
    "# This is just an analysis of number of rows per audio\n",
    "### Find Min Max Mean number of frames\n",
    "len_sequences = []\n",
    "for one_seq in df_list:\n",
    "    len_sequences.append(len(one_seq))\n",
    "len_sequences = pd.Series(len_sequences)\n",
    "print(len_sequences.describe())\n",
    "print([val for val in [len_sequences.quantile(q = qtl) for qtl in np.arange(0.05, 1, 0.05)]])\n",
    "len_sequences.hist(bins = 100)"
   ]
  },
  {
   "cell_type": "markdown",
   "metadata": {},
   "source": [
    "### Upsample Data using linear method"
   ]
  },
  {
   "cell_type": "code",
   "execution_count": 15,
   "metadata": {},
   "outputs": [
    {
     "data": {
      "text/plain": [
       "Timedelta('4 days 13:48:31.069418')"
      ]
     },
     "execution_count": 15,
     "metadata": {},
     "output_type": "execute_result"
    }
   ],
   "source": [
    "import datetime\n",
    "deltatime = (pd.to_datetime(\"2020-01-12\") - pd.to_datetime(\"2000-01-01\"))/1599\n",
    "deltatime"
   ]
  },
  {
   "cell_type": "code",
   "execution_count": 16,
   "metadata": {},
   "outputs": [],
   "source": [
    "df_list_interpolated = []\n",
    "for df in df_list:\n",
    "    upsampled = df.resample(deltatime)\n",
    "    df_interpolated = upsampled.interpolate(method = 'linear')\n",
    "    #break\n",
    "    df_list_interpolated.append(df_interpolated)"
   ]
  },
  {
   "cell_type": "markdown",
   "metadata": {},
   "source": [
    "### Find those data which could not be sampled to 1600 frames && Remove them"
   ]
  },
  {
   "cell_type": "code",
   "execution_count": 18,
   "metadata": {},
   "outputs": [
    {
     "name": "stdout",
     "output_type": "stream",
     "text": [
      "(979, 26) 2404\n",
      "(979, 26) 2467\n"
     ]
    }
   ],
   "source": [
    "for i, df in zip(np.arange(len(df_list_interpolated)), df_list_interpolated):\n",
    "    if df.shape[0] != 1600:\n",
    "        print(df.shape, i)"
   ]
  },
  {
   "cell_type": "code",
   "execution_count": 21,
   "metadata": {},
   "outputs": [
    {
     "data": {
      "text/plain": [
       "'Truthful'"
      ]
     },
     "execution_count": 21,
     "metadata": {},
     "output_type": "execute_result"
    }
   ],
   "source": [
    "df_list_interpolated.pop(2466)\n",
    "label_list.pop(2466)"
   ]
  },
  {
   "cell_type": "markdown",
   "metadata": {},
   "source": [
    "### Check if all data is consistent and contains 1600 frames"
   ]
  },
  {
   "cell_type": "code",
   "execution_count": 22,
   "metadata": {},
   "outputs": [],
   "source": [
    "for i, df in zip(np.arange(len(df_list_interpolated)), df_list_interpolated):\n",
    "    if df.shape[0] != 1600:\n",
    "        print(df.shape, i)"
   ]
  },
  {
   "cell_type": "markdown",
   "metadata": {},
   "source": [
    "### Scale upsampled data"
   ]
  },
  {
   "cell_type": "code",
   "execution_count": null,
   "metadata": {},
   "outputs": [],
   "source": [
    "df_list_audio_interpolated_scaled=[]\n",
    "\n",
    "for df_individualfile_audio in df_list_interpolated:\n",
    "    X_d = df_individualfile_audio\n",
    "    temp = X_d.values \n",
    "    st_scaler = sklearn.preprocessing.StandardScaler()\n",
    "    temp_scaled = st_scaler.fit_transform(temp)\n",
    "    df_individualfile_audio=pd.DataFrame(temp_scaled)\n",
    "    feature_list=df_individualfile_audio.columns.tolist()\n",
    "    df_list_audio_interpolated_scaled.append(df_individualfile_audio)"
   ]
  },
  {
   "cell_type": "markdown",
   "metadata": {},
   "source": [
    "### Convert data to numpy array && Reshape it"
   ]
  },
  {
   "cell_type": "code",
   "execution_count": 23,
   "metadata": {},
   "outputs": [
    {
     "data": {
      "text/plain": [
       "(8720, 1600, 26)"
      ]
     },
     "execution_count": 23,
     "metadata": {},
     "output_type": "execute_result"
    }
   ],
   "source": [
    "data_X = np.array(pd.concat(df_list_interpolated, axis = 0)).reshape(-1, 1600, 26)\n",
    "data_X.shape"
   ]
  },
  {
   "cell_type": "markdown",
   "metadata": {},
   "source": [
    "### Encode lables"
   ]
  },
  {
   "cell_type": "code",
   "execution_count": 24,
   "metadata": {},
   "outputs": [],
   "source": [
    "data_y = pd.Series(label_list).apply(lambda y: 1 if y == \"Truthful\" else 0)"
   ]
  },
  {
   "cell_type": "markdown",
   "metadata": {},
   "source": [
    "### \"get_seq_model\" is the Initial Model"
   ]
  },
  {
   "cell_type": "code",
   "execution_count": 25,
   "metadata": {},
   "outputs": [],
   "source": [
    "def get_seq_model():\n",
    "    model = models.Sequential()\n",
    "    #model.add(layers.LSTM(units=64, recurrent_dropout=0.35, return_sequences=True, input_shape=(2048, 26)))\n",
    "    #model.add(layers.LSTM(units=64, recurrent_dropout=0.35))\n",
    "    model.add(layers.Flatten(input_shape=(1600, 26)))\n",
    "    model.add(layers.Dense(64, activation='relu'))\n",
    "    model.add(layers.Dropout(0.1))\n",
    "    model.add(layers.Dense(64, activation='relu'))\n",
    "    model.add(layers.Dropout(0.1))\n",
    "    model.add(layers.Dense(1, activation='sigmoid'))\n",
    "    model.compile(loss='binary_crossentropy', optimizer=optimizers.Adam(lr=0.0001, decay=0.00001), metrics=['accuracy'])\n",
    "    return model"
   ]
  },
  {
   "cell_type": "markdown",
   "metadata": {},
   "source": [
    "### \"get_seq_model1\" is the Final Model Structure, with reduced complexity and l2 Regularization"
   ]
  },
  {
   "cell_type": "code",
   "execution_count": 36,
   "metadata": {},
   "outputs": [],
   "source": [
    "from keras.regularizers import l2\n",
    "from keras.optimizers import SGD,Adam\n",
    "def get_seq_model1():\n",
    "    #opt=keras.optimizers.Adam(lr=0.001, beta_1=0.9, beta_2=0.999, amsgrad=False)\n",
    "    opt=SGD(lr=0.0001, momentum=0.9)\n",
    "    model = models.Sequential()\n",
    "    model.add(layers.LSTM(units=64, recurrent_dropout=0.35, return_sequences=True, input_shape=(1600, 26)))\n",
    "    #model.add(layers.LSTM(units=64, recurrent_dropout=0.35))\n",
    "    model.add(layers.Flatten())\n",
    "    model.add(layers.Dense(64, activation='relu',kernel_regularizer=l2(0.001)))\n",
    "    model.add(layers.Dropout(0.2))\n",
    "    model.add(layers.Dense(64, activation='relu',kernel_regularizer=l2(0.001)))\n",
    "    model.add(layers.Dropout(0.2))\n",
    "    model.add(layers.Dense(1, activation='sigmoid'))\n",
    "    model.compile(loss='binary_crossentropy', optimizer=opt, metrics=['accuracy'])\n",
    "    return model"
   ]
  },
  {
   "cell_type": "code",
   "execution_count": 27,
   "metadata": {},
   "outputs": [
    {
     "data": {
      "text/plain": [
       "numpy.ndarray"
      ]
     },
     "execution_count": 27,
     "metadata": {},
     "output_type": "execute_result"
    }
   ],
   "source": [
    "data_y=data_y.to_numpy()\n",
    "type(data_y)"
   ]
  },
  {
   "cell_type": "markdown",
   "metadata": {},
   "source": [
    "### Split Train and Test data"
   ]
  },
  {
   "cell_type": "code",
   "execution_count": 28,
   "metadata": {},
   "outputs": [
    {
     "data": {
      "text/plain": [
       "(7848, 1600, 26)"
      ]
     },
     "execution_count": 28,
     "metadata": {},
     "output_type": "execute_result"
    }
   ],
   "source": [
    "X_train, X_test, y_train, y_test = model_selection.train_test_split(data_X, data_y, test_size=0.1, random_state=1)\n",
    "X_train.shape\n"
   ]
  },
  {
   "cell_type": "markdown",
   "metadata": {},
   "source": [
    "### Early Stopping used && save the best model"
   ]
  },
  {
   "cell_type": "code",
   "execution_count": 29,
   "metadata": {},
   "outputs": [],
   "source": [
    "import tensorflow"
   ]
  },
  {
   "cell_type": "code",
   "execution_count": 37,
   "metadata": {
    "scrolled": false
   },
   "outputs": [
    {
     "name": "stdout",
     "output_type": "stream",
     "text": [
      "Train on 7063 samples, validate on 785 samples\n",
      "Epoch 1/200\n",
      "7063/7063 [==============================] - 281s 40ms/step - loss: 0.8854 - acc: 0.5605 - val_loss: 0.8841 - val_acc: 0.5682\n",
      "\n",
      "Epoch 00001: val_acc improved from -inf to 0.56815, saving model to best_model.h5\n",
      "Epoch 2/200\n",
      "7063/7063 [==============================] - 279s 39ms/step - loss: 0.8673 - acc: 0.5904 - val_loss: 0.8825 - val_acc: 0.5732\n",
      "\n",
      "Epoch 00002: val_acc improved from 0.56815 to 0.57325, saving model to best_model.h5\n",
      "Epoch 3/200\n",
      "7063/7063 [==============================] - 278s 39ms/step - loss: 0.8604 - acc: 0.5988 - val_loss: 0.8808 - val_acc: 0.5771\n",
      "\n",
      "Epoch 00003: val_acc improved from 0.57325 to 0.57707, saving model to best_model.h5\n",
      "Epoch 4/200\n",
      "7063/7063 [==============================] - 278s 39ms/step - loss: 0.8516 - acc: 0.6116 - val_loss: 0.8791 - val_acc: 0.5720\n",
      "\n",
      "Epoch 00004: val_acc did not improve from 0.57707\n",
      "Epoch 5/200\n",
      "7063/7063 [==============================] - 278s 39ms/step - loss: 0.8525 - acc: 0.6099 - val_loss: 0.8808 - val_acc: 0.5694\n",
      "\n",
      "Epoch 00005: val_acc did not improve from 0.57707\n",
      "Epoch 6/200\n",
      "7063/7063 [==============================] - 278s 39ms/step - loss: 0.8477 - acc: 0.6167 - val_loss: 0.8806 - val_acc: 0.5694\n",
      "\n",
      "Epoch 00006: val_acc did not improve from 0.57707\n",
      "Epoch 7/200\n",
      "7063/7063 [==============================] - 278s 39ms/step - loss: 0.8467 - acc: 0.6204 - val_loss: 0.8822 - val_acc: 0.5732\n",
      "\n",
      "Epoch 00007: val_acc did not improve from 0.57707\n",
      "Epoch 8/200\n",
      "7063/7063 [==============================] - 278s 39ms/step - loss: 0.8438 - acc: 0.6155 - val_loss: 0.8833 - val_acc: 0.5745\n",
      "\n",
      "Epoch 00008: val_acc did not improve from 0.57707\n",
      "Epoch 9/200\n",
      "7063/7063 [==============================] - 278s 39ms/step - loss: 0.8420 - acc: 0.6201 - val_loss: 0.8807 - val_acc: 0.5809\n",
      "\n",
      "Epoch 00009: val_acc improved from 0.57707 to 0.58089, saving model to best_model.h5\n",
      "Epoch 00009: early stopping\n"
     ]
    },
    {
     "data": {
      "image/png": "[encoded data removed]",
      "text/plain": [
       "<Figure size 720x360 with 2 Axes>"
      ]
     },
     "metadata": {
      "needs_background": "light"
     },
     "output_type": "display_data"
    },
    {
     "data": {
      "text/plain": [
       "<Figure size 432x288 with 0 Axes>"
      ]
     },
     "metadata": {},
     "output_type": "display_data"
    }
   ],
   "source": [
    "from keras.callbacks import EarlyStopping\n",
    "from keras.callbacks import ModelCheckpoint\n",
    "\n",
    "es = EarlyStopping(monitor='val_loss', mode='min', verbose=1, patience=5)\n",
    "mc = ModelCheckpoint('best_model.h5', monitor='val_acc', mode='max', verbose=1, save_best_only=True)\n",
    "# fit model\n",
    "model = get_seq_model1()\n",
    "history = model.fit(X_train, y_train, batch_size=60, validation_split=0.1, epochs=200, verbose=1, callbacks=[es, mc])\n",
    "plot_acc_loss(history)\n",
    "plt.savefig('Loss_plot_Audio.png')\n",
    "plt.show()"
   ]
  },
  {
   "cell_type": "markdown",
   "metadata": {},
   "source": [
    "### Load the best model and calculate the test loss, test accuracy && Print Confusion Matrix"
   ]
  },
  {
   "cell_type": "code",
   "execution_count": 38,
   "metadata": {},
   "outputs": [
    {
     "name": "stdout",
     "output_type": "stream",
     "text": [
      "872/872 [==============================] - 12s 14ms/step\n",
      "test loss, test acc: [0.855948015637354, 0.6295871559633027]\n",
      "[[256  81]\n",
      " [386 149]]\n"
     ]
    }
   ],
   "source": [
    "from keras.models import load_model\n",
    "model = load_model('best_model.h5')\n",
    "y_true = preprocessing.label_binarize(y_test, classes = [0, 1])\n",
    "y_pred = model.predict(X_test)\n",
    "results = model.evaluate(X_test, y_test)\n",
    "print('test loss, test acc:', results)\n",
    "y_pred_det = preprocessing.label_binarize(pd.Series(y_pred[:, 0]).apply(lambda y: 0 if y<0.65 else 1), classes = [0, 1])\n",
    "\n",
    "conf = sklearn.metrics.confusion_matrix\n",
    "print(conf(y_true, y_pred_det))\n",
    "target_names = ['0', '1']"
   ]
  },
  {
   "cell_type": "markdown",
   "metadata": {},
   "source": [
    "### Calculate Metric Scores"
   ]
  },
  {
   "cell_type": "code",
   "execution_count": 44,
   "metadata": {},
   "outputs": [
    {
     "name": "stdout",
     "output_type": "stream",
     "text": [
      "Cohens kappa: 0.082350\n",
      "ROC AUC: 0.535048\n",
      "Precision: 0.618787\n",
      "Recall: 0.535048\n",
      "Fscore: 0.478823\n",
      "Accuracy: 0.629587\n"
     ]
    }
   ],
   "source": [
    "from sklearn.metrics import f1_score, precision_score, recall_score, confusion_matrix,cohen_kappa_score,roc_auc_score, accuracy_score\n",
    "# Print f1, precision, and recall scores\n",
    "y_pred_det = preprocessing.label_binarize(pd.Series(y_pred[:, 0]).apply(lambda y: 0 if y<0.5 else 1), classes = [0, 1])\n",
    "\n",
    "prec = precision_score(y_true, y_pred_det , average=\"macro\")\n",
    "rec = recall_score(y_true, y_pred_det , average=\"macro\")\n",
    "fsc= f1_score(y_true, y_pred_det , average=\"macro\")\n",
    "# kappa\n",
    "kappa = cohen_kappa_score(y_true, y_pred_det)\n",
    "print('Cohens kappa: %f' % kappa)\n",
    "# ROC AUC\n",
    "auc = roc_auc_score(y_true, y_pred_det)\n",
    "print('ROC AUC: %f' % auc)\n",
    "accu = accuracy_score(y_true, y_pred_det)\n",
    "\n",
    "print('Precision: %f' % prec)\n",
    "print('Recall: %f' % rec)\n",
    "print('Fscore: %f' % fsc)\n",
    "print('Accuracy: %f' % accu)"
   ]
  },
  {
   "cell_type": "code",
   "execution_count": null,
   "metadata": {},
   "outputs": [],
   "source": [
    "print(sklearn.metrics.classification_report(y_true, y_pred_det,target_names=target_names))\n",
    "conf_res = conf(y_true, y_pred_det)\n",
    "print(\"Precision in Detecting Deception: \", conf_res[1][1]/(conf_res[1][1]+conf_res[0][1]))\n",
    "print(\"Recall in Detecting Deception: \", conf_res[1][1]/(conf_res[1][1]+conf_res[1][0]))"
   ]
  },
  {
   "cell_type": "markdown",
   "metadata": {},
   "source": [
    "### Plot ROC Curve"
   ]
  },
  {
   "cell_type": "code",
   "execution_count": 40,
   "metadata": {},
   "outputs": [
    {
     "data": {
      "image/png": "[encoded data removed]",
      "text/plain": [
       "<Figure size 648x432 with 1 Axes>"
      ]
     },
     "metadata": {
      "needs_background": "light"
     },
     "output_type": "display_data"
    }
   ],
   "source": [
    "from sklearn.metrics import roc_curve, auc\n",
    "fpr = dict()\n",
    "tpr = dict()\n",
    "roc_auc = dict()\n",
    "i=0\n",
    "fpr[i], tpr[i], _ = roc_curve(y_true[:, i], y_pred[:, i])\n",
    "roc_auc[i] = auc(fpr[i], tpr[i])\n",
    "\n",
    "plt.figure(figsize=(9, 6))\n",
    "lw = 2\n",
    "plt.plot(fpr[0], tpr[0], color='darkorange',\n",
    "         lw=lw, label='ROC curve (area = %0.2f)' % roc_auc[0])\n",
    "plt.plot([0, 1], [0, 1], color='navy', lw=lw, linestyle='--')\n",
    "plt.xlim([0.0, 1.0])\n",
    "plt.ylim([0.0, 1.05])\n",
    "plt.xlabel('False Positive Rate')\n",
    "plt.ylabel('True Positive Rate')\n",
    "plt.title('Receiver operating characteristic example')\n",
    "plt.legend(loc=\"lower right\")\n",
    "plt.show()"
   ]
  },
  {
   "cell_type": "code",
   "execution_count": null,
   "metadata": {},
   "outputs": [],
   "source": []
  }
 ],
 "metadata": {
  "kernelspec": {
   "display_name": "Python 3",
   "language": "python",
   "name": "python3"
  },
  "language_info": {
   "codemirror_mode": {
    "name": "ipython",
    "version": 3
   },
   "file_extension": ".py",
   "mimetype": "text/x-python",
   "name": "python",
   "nbconvert_exporter": "python",
   "pygments_lexer": "ipython3",
   "version": "3.7.5"
  }
 },
 "nbformat": 4,
 "nbformat_minor": 4
}
