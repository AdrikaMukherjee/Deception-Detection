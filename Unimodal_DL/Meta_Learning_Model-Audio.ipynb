{
 "cells": [
  {
   "cell_type": "markdown",
   "metadata": {},
   "source": [
    "## Siamese Network on Audio Data\n",
    "Meta-learning model is used to compensate for lack of data\n",
    "### Import all necessary packages"
   ]
  },
  {
   "cell_type": "code",
   "execution_count": 1,
   "metadata": {},
   "outputs": [],
   "source": [
    "import sys\n",
    "sys.path.append('/home/adrikamukherjee/venv/lib/python3.6/site-packages')"
   ]
  },
  {
   "cell_type": "code",
   "execution_count": 4,
   "metadata": {},
   "outputs": [
    {
     "name": "stderr",
     "output_type": "stream",
     "text": [
      "Using TensorFlow backend.\n"
     ]
    }
   ],
   "source": [
    "import glob\n",
    "import IPython\n",
    "from random import randint\n",
    "\n",
    "#data processing\n",
    "import librosa\n",
    "import numpy as np\n",
    "\n",
    "#modelling\n",
    "from sklearn.model_selection import train_test_split\n",
    "\n",
    "from keras import backend as K\n",
    "from keras.layers import Activation\n",
    "from keras.layers import Input, Lambda, Dense, Dropout, Flatten\n",
    "from keras.models import Model\n",
    "from keras.optimizers import RMSprop\n",
    "import os"
   ]
  },
  {
   "cell_type": "markdown",
   "metadata": {},
   "source": [
    "### Librosa is used to extract mfcc features from Audio Files\n",
    "### Calculate max Shape(audio file having number of frames) from the audio files\n",
    "list_dir contains path of three folders each containing Truthful,Deceptive(half of decevtive wavfiles), Sub_Deceptive(other half of decevtive wavfiles) files"
   ]
  },
  {
   "cell_type": "code",
   "execution_count": 5,
   "metadata": {},
   "outputs": [
    {
     "name": "stdout",
     "output_type": "stream",
     "text": [
      "3508\n"
     ]
    }
   ],
   "source": [
    "list_dir=[\"/home/adrikamukherjee/Wavfiles/Truthful\",\n",
    "          \"/home/adrikamukherjee/Wavfiles/Deceptive\",\n",
    "          \"/home/adrikamukherjee/Wavfiles/Sub_Deceptive\"]\n",
    "max=0\n",
    "for dir in list_dir:\n",
    "    for file in glob.glob(os.path.join(dir, '*.wav')):\n",
    "        audio, sr = librosa.load(file)\n",
    "        shape=0\n",
    "        #extract the audio embeddings using MFCC\n",
    "        mfcc = librosa.feature.mfcc(audio, sr=sr) \n",
    "        no= int(mfcc.shape[1])\n",
    "        if(no > max):\n",
    "            max=no\n",
    "\n",
    "print(max)        "
   ]
  },
  {
   "cell_type": "markdown",
   "metadata": {},
   "source": [
    "### \"audio2vector\" function is used to extract mfcc features and pad Audio files with max pad lenhth obtained in previous step"
   ]
  },
  {
   "cell_type": "code",
   "execution_count": 6,
   "metadata": {},
   "outputs": [],
   "source": [
    "def audio2vector(file_path, max_pad_len=3508):\n",
    "    \n",
    "    #read the audio file\n",
    "    audio, sr = librosa.load(file_path, mono=True)\n",
    "    \n",
    "    #extract the audio embeddings using MFCC\n",
    "    mfcc = librosa.feature.mfcc(audio, sr=sr) \n",
    "    shape=mfcc.shape[1]\n",
    "    #as the audio embeddings length varies for different audio, we keep the maximum length as 400\n",
    "    #pad them with zeros\n",
    "    pad_width = max_pad_len - mfcc.shape[1]\n",
    "    mfcc = np.pad(mfcc, pad_width=((0, 0), (0, pad_width)), mode='constant')\n",
    "    return mfcc"
   ]
  },
  {
   "cell_type": "markdown",
   "metadata": {},
   "source": [
    "### \"get_training_data\" function is used to generate training data such that Two deceptive audio vectors are labeled as 1; one deceptive and one truthful vector are labeled as 0."
   ]
  },
  {
   "cell_type": "code",
   "execution_count": 2,
   "metadata": {},
   "outputs": [],
   "source": [
    "def get_training_data():\n",
    "    \n",
    "    pairs = []\n",
    "    labels = []\n",
    "    \n",
    "    Deceptive = glob.glob('/home/adrikamukherjee/Wavfiles/Deceptive/*.wav')\n",
    "    Sub_Deceptive = glob.glob('/home/adrikamukherjee/Wavfiles/Sub_Deceptive/*.wav')\n",
    "    Truthful = glob.glob('/home/adrikamukherjee/Wavfiles/Truthful/*.wav')\n",
    "    \n",
    "    \n",
    "    #np.random.shuffle(Sub_Deceptive).astype(np.int64)\n",
    "    #np.random.shuffle(Truthful).astype(np.int64)\n",
    "    \n",
    "    for i in range(min(len(Truthful),len(Sub_Deceptive))):\n",
    "        #imposite pair\n",
    "        if (i % 2) == 0:\n",
    "            pairs.append([audio2vector(Deceptive[randint(0,3)]),audio2vector(Truthful[i])])\n",
    "            labels.append(0)\n",
    "            \n",
    "        #genuine pair\n",
    "        else:\n",
    "            pairs.append([audio2vector(Deceptive[randint(0,3)]),audio2vector(Sub_Deceptive[i])])\n",
    "            labels.append(1)\n",
    "            \n",
    "            \n",
    "    return np.array(pairs), np.array(labels)"
   ]
  },
  {
   "cell_type": "markdown",
   "metadata": {},
   "source": [
    "### Calculate data and Ground truths and store in X and Y"
   ]
  },
  {
   "cell_type": "code",
   "execution_count": 10,
   "metadata": {},
   "outputs": [],
   "source": [
    "X, Y = get_training_data()"
   ]
  },
  {
   "cell_type": "markdown",
   "metadata": {},
   "source": [
    "### Convert Ground truth type to float 32"
   ]
  },
  {
   "cell_type": "code",
   "execution_count": 11,
   "metadata": {},
   "outputs": [],
   "source": [
    "import pandas as pd\n",
    "Y=pd.Series(Y).astype('float32')\n",
    "Y=Y.to_numpy()"
   ]
  },
  {
   "cell_type": "markdown",
   "metadata": {},
   "source": [
    "### Split Train and Test Data"
   ]
  },
  {
   "cell_type": "code",
   "execution_count": 27,
   "metadata": {},
   "outputs": [],
   "source": [
    "X_train, X_test, y_train, y_test = train_test_split(X, Y, test_size=0.2)"
   ]
  },
  {
   "cell_type": "markdown",
   "metadata": {},
   "source": [
    "### Base Model with two simple dense layer for feature extraction is built."
   ]
  },
  {
   "cell_type": "code",
   "execution_count": 78,
   "metadata": {},
   "outputs": [],
   "source": [
    "def build_base_network(input_shape):\n",
    "    input = Input(shape=input_shape)\n",
    "    x = Flatten()(input)\n",
    "    x = Dense(150, activation='relu')(x)\n",
    "    #x = Dropout(0.1)(x)\n",
    "    x = Dense(150, activation='relu')(x)\n",
    "    #x = Dropout(0.1)(x)\n",
    "    return Model(input, x)"
   ]
  },
  {
   "cell_type": "markdown",
   "metadata": {},
   "source": [
    "### Audio pair is fed into the base network, which will return the features."
   ]
  },
  {
   "cell_type": "code",
   "execution_count": 79,
   "metadata": {},
   "outputs": [],
   "source": [
    "input_dim = X_train.shape[2:]\n",
    "\n",
    "audio_a = Input(shape=input_dim)\n",
    "audio_b = Input(shape=input_dim)"
   ]
  },
  {
   "cell_type": "code",
   "execution_count": 80,
   "metadata": {},
   "outputs": [],
   "source": [
    "base_network = build_base_network(input_dim)\n",
    "\n",
    "feat_vecs_a = base_network(audio_a)\n",
    "feat_vecs_b = base_network(audio_b)"
   ]
  },
  {
   "cell_type": "markdown",
   "metadata": {},
   "source": [
    "### 'feat_vecs_a' and 'feat_vecs_b' are the feature vectors of audio pair;these feature vectors is fed into  the energy function to compute a distance between them,  Euclidean distance is used as energy function:"
   ]
  },
  {
   "cell_type": "code",
   "execution_count": 81,
   "metadata": {},
   "outputs": [],
   "source": [
    "def euclidean_distance(vects):\n",
    "    x, y = vects\n",
    "    return K.sqrt(K.sum(K.square(x - y), axis=1, keepdims=True))\n",
    "\n",
    "\n",
    "def eucl_dist_output_shape(shapes):\n",
    "    shape1, shape2 = shapes\n",
    "    return (shape1[0], 1)"
   ]
  },
  {
   "cell_type": "code",
   "execution_count": 82,
   "metadata": {},
   "outputs": [],
   "source": [
    "distance = Lambda(euclidean_distance, output_shape=eucl_dist_output_shape)([feat_vecs_a, feat_vecs_b])"
   ]
  },
  {
   "cell_type": "markdown",
   "metadata": {},
   "source": [
    "### epoch length is set to 15 and  RMS prop is used for optimization."
   ]
  },
  {
   "cell_type": "code",
   "execution_count": 83,
   "metadata": {},
   "outputs": [],
   "source": [
    "epochs = 15\n",
    "rms = RMSprop()"
   ]
  },
  {
   "cell_type": "code",
   "execution_count": 84,
   "metadata": {},
   "outputs": [],
   "source": [
    "model = Model(inputs=[audio_a, audio_b], outputs=distance)"
   ]
  },
  {
   "cell_type": "markdown",
   "metadata": {},
   "source": [
    "### distance based Contrastive loss is defined"
   ]
  },
  {
   "cell_type": "code",
   "execution_count": 85,
   "metadata": {},
   "outputs": [],
   "source": [
    "def contrastive_loss(y_true, y_pred):\n",
    "    margin = 1\n",
    "    return K.mean(y_true * K.square(y_pred) + (1 - y_true) * K.square(K.maximum(margin - y_pred, 0)))"
   ]
  },
  {
   "cell_type": "markdown",
   "metadata": {},
   "source": [
    "### Model is compiled"
   ]
  },
  {
   "cell_type": "code",
   "execution_count": 86,
   "metadata": {},
   "outputs": [],
   "source": [
    "model.compile(loss=contrastive_loss, optimizer=rms)"
   ]
  },
  {
   "cell_type": "markdown",
   "metadata": {},
   "source": [
    "### Train and Test data is seperated\n",
    "\n",
    "\"audio_1\" and \"audio_2\" is used for training the model.\n",
    "\"audio_3\" and \"audio_4\" is used for training the model.\n",
    "The input of final model requires two videos, one from each pair is fed into the model."
   ]
  },
  {
   "cell_type": "code",
   "execution_count": 87,
   "metadata": {},
   "outputs": [],
   "source": [
    "audio_1 = X_train[:, 0]\n",
    "audio_2 = X_train[:, 1]\n",
    "audio_3 = X_test[:, 0]\n",
    "audio_4 = X_test[:, 1]"
   ]
  },
  {
   "cell_type": "code",
   "execution_count": null,
   "metadata": {},
   "outputs": [],
   "source": [
    "history=model.fit([audio_1, audio_2], y_train, validation_data=[[audio_3, audio_4], y_test],\n",
    "          batch_size=128, verbose=2, nb_epoch=epochs)"
   ]
  },
  {
   "cell_type": "markdown",
   "metadata": {},
   "source": [
    "### Plot Meta Model loss"
   ]
  },
  {
   "cell_type": "code",
   "execution_count": 89,
   "metadata": {},
   "outputs": [
    {
     "data": {
      "image/png": "[encoded data removed]",
      "text/plain": [
       "<Figure size 720x360 with 1 Axes>"
      ]
     },
     "metadata": {
      "needs_background": "light"
     },
     "output_type": "display_data"
    }
   ],
   "source": [
    "import matplotlib.pyplot as plt\n",
    "def plot_acc_loss(history):\n",
    "\n",
    "    fig = plt.figure(figsize=(10,5))\n",
    "    plt.plot(history.history['loss'])\n",
    "    plt.plot(history.history['val_loss'])\n",
    "    plt.title('Meta Model Loss')\n",
    "    plt.ylabel('loss')\n",
    "    plt.xlabel('epoch')\n",
    "    plt.legend(['train', 'test'], loc='upper right')\n",
    "    plt.show()\n",
    "\n",
    "\n",
    "plot_acc_loss(history)"
   ]
  },
  {
   "cell_type": "markdown",
   "metadata": {},
   "source": [
    "### Predict on Test Data"
   ]
  },
  {
   "cell_type": "code",
   "execution_count": 93,
   "metadata": {},
   "outputs": [
    {
     "data": {
      "text/plain": [
       "array([[ 94.31826 ],\n",
       "       [ 59.188847],\n",
       "       [134.29796 ],\n",
       "       [141.26561 ],\n",
       "       [ 48.01951 ],\n",
       "       [ 54.701214],\n",
       "       [ 38.206955],\n",
       "       [ 53.208294],\n",
       "       [136.95374 ],\n",
       "       [113.37364 ],\n",
       "       [ 53.626595],\n",
       "       [112.48914 ],\n",
       "       [202.36497 ],\n",
       "       [ 93.757904],\n",
       "       [152.17255 ],\n",
       "       [142.35106 ],\n",
       "       [115.84941 ],\n",
       "       [135.06813 ],\n",
       "       [ 97.60394 ],\n",
       "       [ 74.84391 ],\n",
       "       [141.09123 ],\n",
       "       [105.17844 ],\n",
       "       [ 75.029724]], dtype=float32)"
      ]
     },
     "execution_count": 93,
     "metadata": {},
     "output_type": "execute_result"
    }
   ],
   "source": [
    "y_pred = model.predict([audio_3, audio_4])\n",
    "y_pred"
   ]
  },
  {
   "cell_type": "markdown",
   "metadata": {},
   "source": [
    "### Display Confusion Matrix"
   ]
  },
  {
   "cell_type": "code",
   "execution_count": 97,
   "metadata": {},
   "outputs": [
    {
     "data": {
      "text/plain": [
       "array([[ 5,  5],\n",
       "       [ 3, 10]])"
      ]
     },
     "execution_count": 97,
     "metadata": {},
     "output_type": "execute_result"
    }
   ],
   "source": [
    "import sklearn\n",
    "from sklearn.preprocessing import label_binarize\n",
    "y_true = label_binarize(y_test, classes = [0, 1]) # y_test --> You get it from train_test_split\n",
    "\n",
    "y_pred = model.predict([audio_3, audio_4])\n",
    "y_pred_det = label_binarize(pd.Series(y_pred[:, 0]).apply(lambda y: 0 if y<80 else 1), classes = [0, 1])\n",
    "\n",
    "conf = sklearn.metrics.confusion_matrix\n",
    "conf = sklearn.metrics.confusion_matrix\n",
    "conf(y_true, y_pred_det)"
   ]
  },
  {
   "cell_type": "markdown",
   "metadata": {},
   "source": [
    "### Calculate Precision and Recall and other Metrics"
   ]
  },
  {
   "cell_type": "code",
   "execution_count": 101,
   "metadata": {},
   "outputs": [
    {
     "name": "stdout",
     "output_type": "stream",
     "text": [
      "Precision in predicting two deceptive videos:  0.6666666666666666\n",
      "Recall in in predicting two deceptive videos:  0.7692307692307693\n"
     ]
    }
   ],
   "source": [
    "conf_res = conf(y_true, y_pred_det)\n",
    "print(\"Precision in predicting two deceptive videos: \", conf_res[1][1]/(conf_res[1][1]+conf_res[0][1]))\n",
    "print(\"Recall in in predicting two deceptive videos: \", conf_res[1][1]/(conf_res[1][1]+conf_res[1][0]))"
   ]
  },
  {
   "cell_type": "code",
   "execution_count": 102,
   "metadata": {},
   "outputs": [
    {
     "name": "stdout",
     "output_type": "stream",
     "text": [
      "Cohens kappa: 0.275591\n",
      "ROC AUC: 0.634615\n",
      "Precision: 0.645833\n",
      "Recall: 0.634615\n",
      "Accuracy: 0.652174\n",
      "fsc: 0.634921\n"
     ]
    }
   ],
   "source": [
    "from sklearn.metrics import f1_score, precision_score, recall_score, confusion_matrix,cohen_kappa_score,roc_auc_score, accuracy_score\n",
    "\n",
    "\n",
    "# Print f1, precision, and recall scores\n",
    "prec = precision_score(y_true, y_pred_det , average=\"macro\")\n",
    "rec = recall_score(y_true, y_pred_det , average=\"macro\")\n",
    "fsc= f1_score(y_true, y_pred_det , average=\"macro\")\n",
    "# kappa\n",
    "kappa = cohen_kappa_score(y_true, y_pred_det)\n",
    "print('Cohens kappa: %f' % kappa)\n",
    "# ROC AUC\n",
    "auc = roc_auc_score(y_true, y_pred_det)\n",
    "print('ROC AUC: %f' % auc)\n",
    "accu = accuracy_score(y_true, y_pred_det)\n",
    "print('Precision: %f' % prec)\n",
    "print('Recall: %f' % rec)\n",
    "print('Accuracy: %f' % accu)\n",
    "print('fsc: %f' % fsc)"
   ]
  },
  {
   "cell_type": "markdown",
   "metadata": {},
   "source": [
    "### Plot ROC Curve"
   ]
  },
  {
   "cell_type": "code",
   "execution_count": 103,
   "metadata": {},
   "outputs": [
    {
     "data": {
      "image/png": "[encoded data removed]",
      "text/plain": [
       "<Figure size 648x432 with 1 Axes>"
      ]
     },
     "metadata": {
      "needs_background": "light"
     },
     "output_type": "display_data"
    }
   ],
   "source": [
    "from sklearn.metrics import roc_curve, auc\n",
    "fpr = dict()\n",
    "tpr = dict()\n",
    "roc_auc = dict()\n",
    "i=0\n",
    "fpr[i], tpr[i], _ = roc_curve(y_true[:, i], y_pred_det[:, i])\n",
    "roc_auc[i] = auc(fpr[i], tpr[i])\n",
    "\n",
    "plt.figure(figsize=(9, 6))\n",
    "lw = 2\n",
    "plt.plot(fpr[0], tpr[0], color='darkorange',\n",
    "         lw=lw, label='ROC curve (area = %0.2f)' % roc_auc[0])\n",
    "plt.plot([0, 1], [0, 1], color='navy', lw=lw, linestyle='--')\n",
    "plt.xlim([0.0, 1.0])\n",
    "plt.ylim([0.0, 1.05])\n",
    "plt.xlabel('False Positive Rate')\n",
    "plt.ylabel('True Positive Rate')\n",
    "plt.title('Receiver operating characteristic example')\n",
    "plt.legend(loc=\"lower right\")\n",
    "plt.show()"
   ]
  },
  {
   "cell_type": "code",
   "execution_count": null,
   "metadata": {},
   "outputs": [],
   "source": []
  }
 ],
 "metadata": {
  "kernelspec": {
   "display_name": "Python 3",
   "language": "python",
   "name": "python3"
  },
  "language_info": {
   "codemirror_mode": {
    "name": "ipython",
    "version": 3
   },
   "file_extension": ".py",
   "mimetype": "text/x-python",
   "name": "python",
   "nbconvert_exporter": "python",
   "pygments_lexer": "ipython3",
   "version": "3.7.5"
  }
 },
 "nbformat": 4,
 "nbformat_minor": 2
}
