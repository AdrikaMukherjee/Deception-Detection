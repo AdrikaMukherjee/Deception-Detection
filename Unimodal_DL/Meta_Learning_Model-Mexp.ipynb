{
 "cells": [
  {
   "cell_type": "markdown",
   "metadata": {},
   "source": [
    "## Siamese Network on Micro-Expression Data\n",
    "### Import all necessary packages"
   ]
  },
  {
   "cell_type": "code",
   "execution_count": 1,
   "metadata": {},
   "outputs": [],
   "source": [
    "import sys\n",
    "sys.path.append('/home/adrikamukherjee/venv/lib/python3.6/site-packages')"
   ]
  },
  {
   "cell_type": "code",
   "execution_count": null,
   "metadata": {},
   "outputs": [],
   "source": [
    "#basic imports\n",
    "import glob\n",
    "import IPython\n",
    "from random import randint\n",
    "\n",
    "#data processing\n",
    "import librosa\n",
    "import numpy as np\n",
    "import pandas as pd\n",
    "#modelling\n",
    "from sklearn.model_selection import train_test_split\n",
    "\n",
    "from keras import backend as K\n",
    "from keras.layers import Activation\n",
    "from keras.layers import Input, Lambda, Dense, Dropout, Flatten\n",
    "from keras.models import Model\n",
    "from keras.optimizers import RMSprop\n",
    "import os"
   ]
  },
  {
   "cell_type": "markdown",
   "metadata": {},
   "source": [
    "### Store data from three folders each containing Truthful ,Deceptive(half of decevtive videos), Sub_Deceptive(other half of decevtive videos) files in a list\n",
    "\n",
    "\"list_dir\" contains path of the three folders  \n",
    "\n",
    "These folders have .csv files for each video containing the micro-expression features extracted using open face\n",
    "\n",
    "mean vector from each file is calculated"
   ]
  },
  {
   "cell_type": "code",
   "execution_count": 5,
   "metadata": {},
   "outputs": [
    {
     "name": "stdout",
     "output_type": "stream",
     "text": [
      "358\n",
      "149\n",
      "149\n"
     ]
    }
   ],
   "source": [
    "list_dir=[\"/home/adrikamukherjee/Mexp_Truthful\",\n",
    "          \"/home/adrikamukherjee/Mexp_Deceptive\",\n",
    "          \"/home/adrikamukherjee/Mexp_Sub_Deceptive\"]\n",
    "\n",
    "Mexp_Truthful = []\n",
    "Mexp_Sub_Deceptive = []\n",
    "Mexp_Deceptive = []\n",
    "\n",
    "max=0\n",
    "for dir in list_dir:\n",
    "    for file in glob.glob(os.path.join(dir, '*.csv')):\n",
    "        ind=pd.DataFrame()\n",
    "        if 'Mexp_Truthful' in file:\n",
    "            ind=pd.read_csv(file)\n",
    "            ind.drop(['frame', 'Unnamed: 0', 'label',' face_id',' timestamp', ' confidence', ' success'], axis = 1, inplace = True)\n",
    "            ind=ind.mean(axis=0)\n",
    "            ind=pd.Series.tolist(ind)\n",
    "            Mexp_Truthful.append(ind)\n",
    "        if 'Mexp_Deceptive' in file:\n",
    "             ind=pd.read_csv(file)\n",
    "             ind.drop(['frame', 'Unnamed: 0', 'label',' face_id',' timestamp', ' confidence', ' success'], axis = 1, inplace = True)\n",
    "             ind=ind.mean(axis=0)\n",
    "             ind=pd.Series.tolist(ind)\n",
    "             Mexp_Deceptive.append(ind)\n",
    "        if 'Mexp_Sub_Deceptive' in file:\n",
    "             ind=pd.read_csv(file)\n",
    "             ind.drop(['frame', 'Unnamed: 0', 'label',' face_id',' timestamp', ' confidence', ' success'], axis = 1, inplace = True)\n",
    "             ind=ind.mean(axis=0)\n",
    "             ind=pd.Series.tolist(ind)\n",
    "             Mexp_Sub_Deceptive.append(ind)\n",
    "\n",
    "print(len(Mexp_Truthful))\n",
    "print(len(Mexp_Deceptive))\n",
    "print(len(Mexp_Sub_Deceptive))        "
   ]
  },
  {
   "cell_type": "markdown",
   "metadata": {},
   "source": [
    "### \"get_training_data\" function is used to generate training data such that two deceptive vectors are labeled as 1; one deceptive and one truthful vector are labeled as 0."
   ]
  },
  {
   "cell_type": "code",
   "execution_count": 8,
   "metadata": {},
   "outputs": [],
   "source": [
    "def get_training_data():\n",
    "    \n",
    "    pairs = []\n",
    "    labels = []\n",
    "    \n",
    "    for i in range(min(len(Mexp_Truthful),len(Mexp_Sub_Deceptive))):\n",
    "        #imposite pair\n",
    "        if (i % 2) == 0:\n",
    "            pairs.append([(Mexp_Deceptive[randint(0,3)]),(Mexp_Truthful[i])])\n",
    "            labels.append(0)\n",
    "            \n",
    "        #genuine pair\n",
    "        else:\n",
    "            pairs.append([(Mexp_Deceptive[randint(0,3)]),(Mexp_Sub_Deceptive[i])])\n",
    "            labels.append(1)\n",
    "        \n",
    "    \n",
    "    return np.array(pairs), np.array(labels)"
   ]
  },
  {
   "cell_type": "markdown",
   "metadata": {},
   "source": [
    "### Calculate data and Ground truths and store in X and Y"
   ]
  },
  {
   "cell_type": "code",
   "execution_count": 9,
   "metadata": {},
   "outputs": [],
   "source": [
    "X, Y = get_training_data()"
   ]
  },
  {
   "cell_type": "markdown",
   "metadata": {},
   "source": [
    "### Convert Ground truth type to float 32"
   ]
  },
  {
   "cell_type": "code",
   "execution_count": null,
   "metadata": {},
   "outputs": [],
   "source": [
    "import pandas as pd\n",
    "Y=pd.Series(Y).astype('float32')\n",
    "Y=Y.to_numpy()"
   ]
  },
  {
   "cell_type": "markdown",
   "metadata": {},
   "source": [
    "### Split Train and Test Data"
   ]
  },
  {
   "cell_type": "code",
   "execution_count": 11,
   "metadata": {},
   "outputs": [],
   "source": [
    "X_train, X_test, y_train, y_test = train_test_split(X, Y, test_size=0.2)"
   ]
  },
  {
   "cell_type": "markdown",
   "metadata": {},
   "source": [
    "### Base Model with two simple dense layer used for feature extraction is built."
   ]
  },
  {
   "cell_type": "code",
   "execution_count": 44,
   "metadata": {},
   "outputs": [],
   "source": [
    "def build_base_network(input_shape):\n",
    "    input = Input(shape=input_shape)\n",
    "    #x = Flatten()(input)\n",
    "    x = Dense(128, activation='relu')(input)\n",
    "    #x = Dropout(0.1)(x)\n",
    "    x = Dense(128, activation='relu')(x)\n",
    "    #x = Dropout(0.1)(x)\n",
    "    return Model(input, x)"
   ]
  },
  {
   "cell_type": "markdown",
   "metadata": {},
   "source": [
    "### Next, mexp pair is fed into the base network, which will return the features:"
   ]
  },
  {
   "cell_type": "code",
   "execution_count": 45,
   "metadata": {},
   "outputs": [],
   "source": [
    "input_dim = X_train.shape[2:]\n",
    "\n",
    "mexp_a = Input(shape=input_dim)\n",
    "mexp_b = Input(shape=input_dim)"
   ]
  },
  {
   "cell_type": "code",
   "execution_count": 46,
   "metadata": {},
   "outputs": [],
   "source": [
    "base_network = build_base_network(input_dim)\n",
    "\n",
    "feat_vecs_a = base_network(mexp_a)\n",
    "feat_vecs_b = base_network(mexp_b)"
   ]
  },
  {
   "cell_type": "markdown",
   "metadata": {},
   "source": [
    "### feat_vecs_a and feat_vecs_b are the feature vectors of mexp pair; these feature vectors is fed into  the energy function to compute a distance between them,  Euclidean distance is used as energy function:"
   ]
  },
  {
   "cell_type": "code",
   "execution_count": 47,
   "metadata": {},
   "outputs": [],
   "source": [
    "def euclidean_distance(vects):\n",
    "    x, y = vects\n",
    "    return K.sqrt(K.sum(K.square(x - y), axis=1, keepdims=True))\n",
    "\n",
    "\n",
    "def eucl_dist_output_shape(shapes):\n",
    "    shape1, shape2 = shapes\n",
    "    return (shape1[0], 1)"
   ]
  },
  {
   "cell_type": "code",
   "execution_count": 48,
   "metadata": {},
   "outputs": [],
   "source": [
    "distance = Lambda(euclidean_distance, output_shape=eucl_dist_output_shape)([feat_vecs_a, feat_vecs_b])"
   ]
  },
  {
   "cell_type": "markdown",
   "metadata": {},
   "source": [
    "### set the epoch length to 12 and  RMS prop is used for optimization."
   ]
  },
  {
   "cell_type": "code",
   "execution_count": 49,
   "metadata": {},
   "outputs": [],
   "source": [
    "epochs = 12\n",
    "rms = RMSprop()"
   ]
  },
  {
   "cell_type": "code",
   "execution_count": 50,
   "metadata": {},
   "outputs": [],
   "source": [
    "model = Model(inputs=[mexp_a, mexp_b], outputs=distance)"
   ]
  },
  {
   "cell_type": "markdown",
   "metadata": {},
   "source": [
    "### distance based Contrastive loss is defined"
   ]
  },
  {
   "cell_type": "code",
   "execution_count": 51,
   "metadata": {},
   "outputs": [],
   "source": [
    "def contrastive_loss(y_true, y_pred):\n",
    "    margin = 1\n",
    "    return K.mean(y_true * K.square(y_pred) + (1 - y_true) * K.square(K.maximum(margin - y_pred, 0)))"
   ]
  },
  {
   "cell_type": "markdown",
   "metadata": {},
   "source": [
    "### Compiling model"
   ]
  },
  {
   "cell_type": "code",
   "execution_count": 52,
   "metadata": {},
   "outputs": [],
   "source": [
    "model.compile(loss=contrastive_loss, optimizer=rms)"
   ]
  },
  {
   "cell_type": "markdown",
   "metadata": {},
   "source": [
    "### Train and Test data is seperated\n",
    "\n",
    "Each mexp_x (where x={1,2,3,4}) vector has one video(either deceptive or truthful).mexp_1 and mexp_2 is used for training. One video from each list is fed into the final model. Similarly, mexp_3 and mexp_4 is used for testing."
   ]
  },
  {
   "cell_type": "code",
   "execution_count": 53,
   "metadata": {},
   "outputs": [],
   "source": [
    "mexp_1 = X_train[:, 0]\n",
    "mexp_2 = X_train[:, 1]\n",
    "mexp_3 = X_test[:, 0]\n",
    "mexp_4 = X_test[:, 1]"
   ]
  },
  {
   "cell_type": "code",
   "execution_count": null,
   "metadata": {},
   "outputs": [],
   "source": [
    "history=model.fit([mexp_1, mexp_2], y_train, validation_data=[[mexp_3, mexp_4], y_test],\n",
    "          batch_size=128, verbose=2, nb_epoch=epochs)"
   ]
  },
  {
   "cell_type": "markdown",
   "metadata": {},
   "source": [
    "### Predict on Test Data"
   ]
  },
  {
   "cell_type": "code",
   "execution_count": 56,
   "metadata": {},
   "outputs": [
    {
     "data": {
      "text/plain": [
       "array([[ 50.35117  ],\n",
       "       [ 92.07148  ],\n",
       "       [ 21.071135 ],\n",
       "       [ 65.38318  ],\n",
       "       [ 57.151657 ],\n",
       "       [ 35.081448 ],\n",
       "       [ 31.337528 ],\n",
       "       [ 28.368048 ],\n",
       "       [107.368065 ],\n",
       "       [ 51.288666 ],\n",
       "       [ 16.562193 ],\n",
       "       [ 90.649254 ],\n",
       "       [ 51.93757  ],\n",
       "       [ 32.571712 ],\n",
       "       [ 50.74991  ],\n",
       "       [  4.7684007],\n",
       "       [ 28.299114 ],\n",
       "       [ 28.61923  ],\n",
       "       [ 43.66343  ],\n",
       "       [ 18.464552 ],\n",
       "       [ 45.885067 ],\n",
       "       [ 50.459084 ],\n",
       "       [ 47.64403  ],\n",
       "       [ 65.12779  ],\n",
       "       [127.41618  ],\n",
       "       [ 56.64179  ],\n",
       "       [ 40.86855  ],\n",
       "       [ 19.880322 ],\n",
       "       [ 38.41249  ],\n",
       "       [ 63.58576  ]], dtype=float32)"
      ]
     },
     "execution_count": 56,
     "metadata": {},
     "output_type": "execute_result"
    }
   ],
   "source": [
    "y_pred = model.predict([mexp_3, mexp_4])\n",
    "y_pred"
   ]
  },
  {
   "cell_type": "markdown",
   "metadata": {},
   "source": [
    "### Display Confusion Matrix"
   ]
  },
  {
   "cell_type": "code",
   "execution_count": 74,
   "metadata": {},
   "outputs": [
    {
     "data": {
      "text/plain": [
       "array([[12,  8],\n",
       "       [ 4,  6]])"
      ]
     },
     "execution_count": 74,
     "metadata": {},
     "output_type": "execute_result"
    }
   ],
   "source": [
    "import sklearn\n",
    "from sklearn.preprocessing import label_binarize\n",
    "y_true = label_binarize(y_test, classes = [0, 1]) # y_test --> You get it from train_test_split\n",
    "\n",
    "y_pred = model.predict([mexp_3, mexp_4])\n",
    "y_pred_det = label_binarize(pd.Series(y_pred[:, 0]).apply(lambda y: 0 if y<50 else 1), classes = [0, 1])\n",
    "\n",
    "conf = sklearn.metrics.confusion_matrix\n",
    "conf = sklearn.metrics.confusion_matrix\n",
    "conf(y_true, y_pred_det)"
   ]
  },
  {
   "cell_type": "markdown",
   "metadata": {},
   "source": [
    "### Calculate Precision and Recall and other Metrics"
   ]
  },
  {
   "cell_type": "code",
   "execution_count": 75,
   "metadata": {},
   "outputs": [
    {
     "name": "stdout",
     "output_type": "stream",
     "text": [
      "Precision in predicting two deceptive videos:  0.42857142857142855\n",
      "Recall in in predicting two deceptive videos:  0.6\n"
     ]
    }
   ],
   "source": [
    "conf_res = conf(y_true, y_pred_det)\n",
    "print(\"Precision in predicting two deceptive videos: \", conf_res[1][1]/(conf_res[1][1]+conf_res[0][1]))\n",
    "print(\"Recall in in predicting two deceptive videos: \", conf_res[1][1]/(conf_res[1][1]+conf_res[1][0]))"
   ]
  },
  {
   "cell_type": "code",
   "execution_count": 76,
   "metadata": {},
   "outputs": [
    {
     "name": "stdout",
     "output_type": "stream",
     "text": [
      "Cohens kappa: 0.181818\n",
      "ROC AUC: 0.600000\n",
      "Precision: 0.589286\n",
      "Recall: 0.600000\n",
      "Accuracy: 0.600000\n",
      "fsc: 0.583333\n"
     ]
    }
   ],
   "source": [
    "from sklearn.metrics import f1_score, precision_score, recall_score, confusion_matrix,cohen_kappa_score,roc_auc_score, accuracy_score\n",
    "\n",
    "\n",
    "# Print f1, precision, and recall scores\n",
    "prec = precision_score(y_true, y_pred_det , average=\"macro\")\n",
    "rec = recall_score(y_true, y_pred_det , average=\"macro\")\n",
    "fsc= f1_score(y_true, y_pred_det , average=\"macro\")\n",
    "# kappa\n",
    "kappa = cohen_kappa_score(y_true, y_pred_det)\n",
    "print('Cohens kappa: %f' % kappa)\n",
    "# ROC AUC\n",
    "auc = roc_auc_score(y_true, y_pred_det)\n",
    "print('ROC AUC: %f' % auc)\n",
    "accu = accuracy_score(y_true, y_pred_det)\n",
    "print('Precision: %f' % prec)\n",
    "print('Recall: %f' % rec)\n",
    "print('Accuracy: %f' % accu)\n",
    "print('fsc: %f' % fsc)"
   ]
  },
  {
   "cell_type": "markdown",
   "metadata": {},
   "source": [
    "### Plot ROC Curve"
   ]
  },
  {
   "cell_type": "code",
   "execution_count": 67,
   "metadata": {},
   "outputs": [
    {
     "data": {
      "image/png": "[encoded data removed]",
      "text/plain": [
       "<Figure size 648x432 with 1 Axes>"
      ]
     },
     "metadata": {
      "needs_background": "light"
     },
     "output_type": "display_data"
    }
   ],
   "source": [
    "from sklearn.metrics import roc_curve, auc\n",
    "fpr = dict()\n",
    "tpr = dict()\n",
    "roc_auc = dict()\n",
    "i=0\n",
    "fpr[i], tpr[i], _ = roc_curve(y_true[:, i], y_pred_det[:, i])\n",
    "roc_auc[i] = auc(fpr[i], tpr[i])\n",
    "\n",
    "plt.figure(figsize=(9, 6))\n",
    "lw = 2\n",
    "plt.plot(fpr[0], tpr[0], color='darkorange',\n",
    "         lw=lw, label='ROC curve (area = %0.2f)' % roc_auc[0])\n",
    "plt.plot([0, 1], [0, 1], color='navy', lw=lw, linestyle='--')\n",
    "plt.xlim([0.0, 1.0])\n",
    "plt.ylim([0.0, 1.05])\n",
    "plt.xlabel('False Positive Rate')\n",
    "plt.ylabel('True Positive Rate')\n",
    "plt.title('Receiver operating characteristic example')\n",
    "plt.legend(loc=\"lower right\")\n",
    "plt.show()"
   ]
  },
  {
   "cell_type": "code",
   "execution_count": null,
   "metadata": {},
   "outputs": [],
   "source": []
  }
 ],
 "metadata": {
  "kernelspec": {
   "display_name": "Python 3",
   "language": "python",
   "name": "python3"
  },
  "language_info": {
   "codemirror_mode": {
    "name": "ipython",
    "version": 3
   },
   "file_extension": ".py",
   "mimetype": "text/x-python",
   "name": "python",
   "nbconvert_exporter": "python",
   "pygments_lexer": "ipython3",
   "version": "3.7.5"
  }
 },
 "nbformat": 4,
 "nbformat_minor": 2
}
