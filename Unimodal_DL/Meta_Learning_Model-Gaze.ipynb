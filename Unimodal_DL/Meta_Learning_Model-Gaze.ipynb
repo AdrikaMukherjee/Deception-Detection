{
 "cells": [
  {
   "cell_type": "markdown",
   "metadata": {},
   "source": [
    "## Siamese Network on Gaze Data\n",
    "### Import all necessary packages"
   ]
  },
  {
   "cell_type": "code",
   "execution_count": 1,
   "metadata": {},
   "outputs": [],
   "source": [
    "import sys\n",
    "sys.path.append('/home/adrikamukherjee/venv/lib/python3.6/site-packages')"
   ]
  },
  {
   "cell_type": "code",
   "execution_count": 4,
   "metadata": {},
   "outputs": [],
   "source": [
    "#basic imports\n",
    "import glob\n",
    "import IPython\n",
    "from random import randint\n",
    "\n",
    "#data processing\n",
    "import librosa\n",
    "import numpy as np\n",
    "import pandas as pd\n",
    "#modelling\n",
    "from sklearn.model_selection import train_test_split\n",
    "\n",
    "from keras import backend as K\n",
    "from keras.layers import Activation\n",
    "from keras.layers import Input, Lambda, Dense, Dropout, Flatten\n",
    "from keras.models import Model\n",
    "from keras.optimizers import RMSprop\n",
    "import os"
   ]
  },
  {
   "cell_type": "markdown",
   "metadata": {},
   "source": [
    "### Store data from three folders each containing Truthful ,Deceptive(half of decevtive videos), Sub_Deceptive(other half of decevtive videos) files in a list\n",
    "\n",
    "\"list_dir\" contains path of the three folders  \n",
    "\n",
    "These folders have .csv files for each video containing the gaze features extracted using open face\n",
    "\n",
    "mean vector from each file is calculated"
   ]
  },
  {
   "cell_type": "code",
   "execution_count": 71,
   "metadata": {},
   "outputs": [
    {
     "name": "stdout",
     "output_type": "stream",
     "text": [
      "358\n",
      "299\n",
      "149\n"
     ]
    }
   ],
   "source": [
    "list_dir=[\"/home/adrikamukherjee/Gaze_Truthful\",\n",
    "          \"/home/adrikamukherjee/Gaze_Deceptive\",\n",
    "          \"/home/adrikamukherjee/Gaze_Sub_Deceptive\"]\n",
    "\n",
    "Gaze_Deceptive = []\n",
    "Gaze_Sub_Deceptive = []\n",
    "Gaze_Truthful = []\n",
    "\n",
    "max=0\n",
    "for dir in list_dir:\n",
    "    for file in glob.glob(os.path.join(dir, '*.csv')):\n",
    "        ind=pd.DataFrame()\n",
    "        if 'Gaze_Truthful' in file:\n",
    "            ind=pd.read_csv(file)\n",
    "            ind.drop(['frame', 'Unnamed: 0', 'label',' face_id',' timestamp', ' confidence', ' success'], axis = 1, inplace = True)\n",
    "            ind=ind.mean(axis=0)\n",
    "            ind=pd.Series.tolist(ind)\n",
    "            Gaze_Truthful.append(ind)\n",
    "        if 'Gaze_Deceptive' in file:\n",
    "             ind=pd.read_csv(file) \n",
    "             ind.drop(['frame', 'Unnamed: 0', 'label',' face_id',' timestamp', ' confidence', ' success'], axis = 1, inplace = True)\n",
    "             ind=ind.mean(axis=0)\n",
    "             ind=pd.Series.tolist(ind)\n",
    "             Gaze_Deceptive.append(ind)\n",
    "        if 'Gaze_Sub_Deceptive' in file:\n",
    "             ind=pd.read_csv(file)\n",
    "             ind.drop(['frame', 'Unnamed: 0', 'label',' face_id',' timestamp', ' confidence', ' success'], axis = 1, inplace = True)\n",
    "             ind=ind.mean(axis=0)\n",
    "             ind=pd.Series.tolist(ind)\n",
    "             Gaze_Sub_Deceptive.append(ind)\n",
    "\n",
    "print(len(Gaze_Truthful))\n",
    "print(len(Gaze_Deceptive))\n",
    "print(len(Gaze_Sub_Deceptive))        "
   ]
  },
  {
   "cell_type": "markdown",
   "metadata": {},
   "source": [
    "### \"get_training_data\" function is used to generate training data such that two deceptive vectors are labeled as 1; one deceptive and one truthful vector are labeled as 0."
   ]
  },
  {
   "cell_type": "code",
   "execution_count": 88,
   "metadata": {},
   "outputs": [],
   "source": [
    "def get_training_data():\n",
    "    \n",
    "    pairs = []\n",
    "    labels = []\n",
    "    \n",
    "    for i in range(min(len(Gaze_Truthful),len(Gaze_Sub_Deceptive))):\n",
    "        #imposite pair\n",
    "        if (i % 2) == 0:\n",
    "            pairs.append([(Gaze_Deceptive[randint(0,3)]),(Gaze_Truthful[i])])\n",
    "            labels.append(0)\n",
    "            \n",
    "        #genuine pair\n",
    "        else:\n",
    "            pairs.append([(Gaze_Deceptive[randint(0,3)]),(Gaze_Sub_Deceptive[i])])\n",
    "            labels.append(1)\n",
    "        \n",
    "    \n",
    "    return np.array(pairs), np.array(labels)"
   ]
  },
  {
   "cell_type": "markdown",
   "metadata": {},
   "source": [
    "### Calculate data and Ground truths and store in X and Y"
   ]
  },
  {
   "cell_type": "code",
   "execution_count": 89,
   "metadata": {},
   "outputs": [],
   "source": [
    "X, Y = get_training_data()"
   ]
  },
  {
   "cell_type": "code",
   "execution_count": null,
   "metadata": {},
   "outputs": [],
   "source": [
    "### Convert Ground truth type to float 32"
   ]
  },
  {
   "cell_type": "code",
   "execution_count": null,
   "metadata": {},
   "outputs": [],
   "source": [
    "import pandas as pd\n",
    "Y=pd.Series(Y).astype('float32')\n",
    "Y=Y.to_numpy()"
   ]
  },
  {
   "cell_type": "markdown",
   "metadata": {},
   "source": [
    "### Split Train and Test Data"
   ]
  },
  {
   "cell_type": "code",
   "execution_count": 204,
   "metadata": {},
   "outputs": [],
   "source": [
    "X_train, X_test, y_train, y_test = train_test_split(X, Y, test_size=0.2)"
   ]
  },
  {
   "cell_type": "markdown",
   "metadata": {},
   "source": [
    "### Base Model with two simple dense layer used for feature extraction is built."
   ]
  },
  {
   "cell_type": "code",
   "execution_count": 253,
   "metadata": {},
   "outputs": [],
   "source": [
    "def build_base_network(input_shape):\n",
    "    input = Input(shape=input_shape)\n",
    "    #x = Flatten()(input)\n",
    "    x = Dense(128, activation='relu')(input)\n",
    "    x = Dropout(0.1)(x)\n",
    "    x = Dense(128, activation='relu')(x)\n",
    "    x = Dropout(0.1)(x)\n",
    "    return Model(input, x)"
   ]
  },
  {
   "cell_type": "code",
   "execution_count": 254,
   "metadata": {},
   "outputs": [],
   "source": [
    "input_dim = X_train.shape[2:]\n",
    "\n",
    "gaze_a = Input(shape=input_dim)\n",
    "gaze_b = Input(shape=input_dim)"
   ]
  },
  {
   "cell_type": "code",
   "execution_count": 255,
   "metadata": {},
   "outputs": [],
   "source": [
    "base_network = build_base_network(input_dim)\n",
    "\n",
    "feat_vecs_a = base_network(gaze_a)\n",
    "feat_vecs_b = base_network(gaze_b)"
   ]
  },
  {
   "cell_type": "markdown",
   "metadata": {},
   "source": [
    "### \"feat_vecs_a\" and \"feat_vecs_b\" are the feature vectors of gaze pair; these feature vectors is fed into  the energy function to compute a distance between them,  Euclidean distance is used as energy function:"
   ]
  },
  {
   "cell_type": "code",
   "execution_count": 256,
   "metadata": {},
   "outputs": [],
   "source": [
    "def euclidean_distance(vects):\n",
    "    x, y = vects\n",
    "    return K.sqrt(K.sum(K.square(x - y), axis=1, keepdims=True))\n",
    "\n",
    "\n",
    "def eucl_dist_output_shape(shapes):\n",
    "    shape1, shape2 = shapes\n",
    "    return (shape1[0], 1)"
   ]
  },
  {
   "cell_type": "code",
   "execution_count": 257,
   "metadata": {},
   "outputs": [],
   "source": [
    "distance = Lambda(euclidean_distance, output_shape=eucl_dist_output_shape)([feat_vecs_a, feat_vecs_b])"
   ]
  },
  {
   "cell_type": "markdown",
   "metadata": {},
   "source": [
    "### RMS prop is used for optimization and  epch length is set to 12  "
   ]
  },
  {
   "cell_type": "code",
   "execution_count": 258,
   "metadata": {},
   "outputs": [],
   "source": [
    "epochs = 12\n",
    "rms = RMSprop()"
   ]
  },
  {
   "cell_type": "code",
   "execution_count": 259,
   "metadata": {},
   "outputs": [],
   "source": [
    "model = Model(inputs=[gaze_a, gaze_b], outputs=distance)"
   ]
  },
  {
   "cell_type": "markdown",
   "metadata": {},
   "source": [
    "### Distance based Contrastive loss is defined"
   ]
  },
  {
   "cell_type": "code",
   "execution_count": 260,
   "metadata": {},
   "outputs": [],
   "source": [
    "def contrastive_loss(y_true, y_pred):\n",
    "    margin = 1\n",
    "    return K.mean(y_true * K.square(y_pred) + (1 - y_true) * K.square(K.maximum(margin - y_pred, 0)))"
   ]
  },
  {
   "cell_type": "markdown",
   "metadata": {},
   "source": [
    "### Compile model"
   ]
  },
  {
   "cell_type": "code",
   "execution_count": 261,
   "metadata": {},
   "outputs": [],
   "source": [
    "model.compile(loss=contrastive_loss, optimizer=rms)"
   ]
  },
  {
   "cell_type": "markdown",
   "metadata": {},
   "source": [
    "### Train and Test data is seperated\n",
    "\n",
    "Each gaze_x (where x={1,2,3,4}) vector has one video(either deceptive or truthful).gaze_1 and gaze_2 is used for training. One video from each list is fed into the final model. Similarly, gaze_3 and gaze_4 is used for testing."
   ]
  },
  {
   "cell_type": "code",
   "execution_count": 262,
   "metadata": {},
   "outputs": [],
   "source": [
    "gaze_1 = X_train[:, 0]\n",
    "gaze_2 = X_train[:, 1]\n",
    "gaze_3 = X_test[:, 0]\n",
    "gaze_4 = X_test[:, 1]"
   ]
  },
  {
   "cell_type": "code",
   "execution_count": null,
   "metadata": {},
   "outputs": [],
   "source": [
    "history=model.fit([gaze_1, gaze_2], y_train, validation_data=[[gaze_3, gaze_4], y_test],\n",
    "          batch_size=128, verbose=2, nb_epoch=epochs)"
   ]
  },
  {
   "cell_type": "code",
   "execution_count": null,
   "metadata": {},
   "outputs": [],
   "source": [
    "import matplotlib.pyplot as plt\n",
    "def plot_acc_loss(history):\n",
    "\n",
    "    fig = plt.figure(figsize=(10,5))\n",
    "    plt.plot(history.history['loss'])\n",
    "    plt.plot(history.history['val_loss'])\n",
    "    plt.title('Meta Model Loss')\n",
    "    plt.ylabel('loss')\n",
    "    plt.xlabel('epoch')\n",
    "    plt.legend(['train', 'test'], loc='upper right')\n",
    "    plt.show()\n",
    "\n",
    "\n",
    "plot_acc_loss(history)"
   ]
  },
  {
   "cell_type": "markdown",
   "metadata": {},
   "source": [
    "### Predict on Test Data"
   ]
  },
  {
   "cell_type": "code",
   "execution_count": 241,
   "metadata": {},
   "outputs": [
    {
     "data": {
      "text/plain": [
       "array([[281.21774 ],\n",
       "       [439.87576 ],\n",
       "       [304.50797 ],\n",
       "       [283.47803 ],\n",
       "       [302.8762  ],\n",
       "       [426.58664 ],\n",
       "       [451.76578 ],\n",
       "       [525.16895 ],\n",
       "       [473.0363  ],\n",
       "       [331.55048 ],\n",
       "       [352.11893 ],\n",
       "       [723.76074 ],\n",
       "       [216.57956 ],\n",
       "       [388.85358 ],\n",
       "       [ 65.985016],\n",
       "       [220.0312  ],\n",
       "       [368.96622 ],\n",
       "       [281.9089  ],\n",
       "       [375.481   ],\n",
       "       [400.9699  ],\n",
       "       [348.89825 ],\n",
       "       [280.37326 ],\n",
       "       [348.15427 ],\n",
       "       [353.47092 ],\n",
       "       [214.24992 ],\n",
       "       [505.1001  ],\n",
       "       [412.71725 ],\n",
       "       [438.62656 ],\n",
       "       [384.67853 ],\n",
       "       [328.15402 ]], dtype=float32)"
      ]
     },
     "execution_count": 241,
     "metadata": {},
     "output_type": "execute_result"
    }
   ],
   "source": [
    "y_pred = model.predict([gaze_3, gaze_4])\n",
    "y_pred"
   ]
  },
  {
   "cell_type": "markdown",
   "metadata": {},
   "source": [
    "### Display Confusion Matrix"
   ]
  },
  {
   "cell_type": "code",
   "execution_count": 290,
   "metadata": {},
   "outputs": [
    {
     "data": {
      "text/plain": [
       "array([[ 8,  7],\n",
       "       [ 4, 11]])"
      ]
     },
     "execution_count": 290,
     "metadata": {},
     "output_type": "execute_result"
    }
   ],
   "source": [
    "import sklearn\n",
    "from sklearn.preprocessing import label_binarize\n",
    "y_true = label_binarize(y_test, classes = [0, 1]) # y_test --> You get it from train_test_split\n",
    "\n",
    "y_pred = model.predict([gaze_3, gaze_4])\n",
    "y_pred_det = label_binarize(pd.Series(y_pred[:, 0]).apply(lambda y: 1 if y<220 else 0), classes = [0, 1])\n",
    "\n",
    "conf = sklearn.metrics.confusion_matrix\n",
    "conf = sklearn.metrics.confusion_matrix\n",
    "conf(y_true, y_pred_det)"
   ]
  },
  {
   "cell_type": "markdown",
   "metadata": {},
   "source": [
    "### Calculate Precision and Recall and other Metrics"
   ]
  },
  {
   "cell_type": "code",
   "execution_count": 291,
   "metadata": {},
   "outputs": [
    {
     "name": "stdout",
     "output_type": "stream",
     "text": [
      "Precision in predicting two deceptive videos:  0.6111111111111112\n",
      "Recall in in predicting two deceptive videos:  0.7333333333333333\n"
     ]
    }
   ],
   "source": [
    "conf_res = conf(y_true, y_pred_det)\n",
    "print(\"Precision in predicting two deceptive videos: \", conf_res[1][1]/(conf_res[1][1]+conf_res[0][1]))\n",
    "print(\"Recall in in predicting two deceptive videos: \", conf_res[1][1]/(conf_res[1][1]+conf_res[1][0]))"
   ]
  },
  {
   "cell_type": "code",
   "execution_count": 292,
   "metadata": {},
   "outputs": [
    {
     "name": "stdout",
     "output_type": "stream",
     "text": [
      "Cohens kappa: 0.266667\n",
      "ROC AUC: 0.633333\n",
      "Precision: 0.638889\n",
      "Recall: 0.633333\n",
      "Accuracy: 0.633333\n",
      "fsc: 0.629630\n"
     ]
    }
   ],
   "source": [
    "from sklearn.metrics import f1_score, precision_score, recall_score, confusion_matrix,cohen_kappa_score,roc_auc_score, accuracy_score\n",
    "\n",
    "\n",
    "# Print f1, precision, and recall scores\n",
    "prec = precision_score(y_true, y_pred_det , average=\"macro\")\n",
    "rec = recall_score(y_true, y_pred_det , average=\"macro\")\n",
    "fsc= f1_score(y_true, y_pred_det , average=\"macro\")\n",
    "# kappa\n",
    "kappa = cohen_kappa_score(y_true, y_pred_det)\n",
    "print('Cohens kappa: %f' % kappa)\n",
    "# ROC AUC\n",
    "auc = roc_auc_score(y_true, y_pred_det)\n",
    "print('ROC AUC: %f' % auc)\n",
    "accu = accuracy_score(y_true, y_pred_det)\n",
    "print('Precision: %f' % prec)\n",
    "print('Recall: %f' % rec)\n",
    "print('Accuracy: %f' % accu)\n",
    "print('fsc: %f' % fsc)"
   ]
  },
  {
   "cell_type": "markdown",
   "metadata": {},
   "source": [
    "### Plot ROC Curve"
   ]
  },
  {
   "cell_type": "code",
   "execution_count": 293,
   "metadata": {},
   "outputs": [
    {
     "data": {
      "image/png": "[encoded data removed]",
      "text/plain": [
       "<Figure size 648x432 with 1 Axes>"
      ]
     },
     "metadata": {
      "needs_background": "light"
     },
     "output_type": "display_data"
    }
   ],
   "source": [
    "from sklearn.metrics import roc_curve, auc\n",
    "fpr = dict()\n",
    "tpr = dict()\n",
    "roc_auc = dict()\n",
    "i=0\n",
    "fpr[i], tpr[i], _ = roc_curve(y_true[:, i], y_pred_det[:, i])\n",
    "roc_auc[i] = auc(fpr[i], tpr[i])\n",
    "\n",
    "plt.figure(figsize=(9, 6))\n",
    "lw = 2\n",
    "plt.plot(fpr[0], tpr[0], color='darkorange',\n",
    "         lw=lw, label='ROC curve (area = %0.2f)' % roc_auc[0])\n",
    "plt.plot([0, 1], [0, 1], color='navy', lw=lw, linestyle='--')\n",
    "plt.xlim([0.0, 1.0])\n",
    "plt.ylim([0.0, 1.05])\n",
    "plt.xlabel('False Positive Rate')\n",
    "plt.ylabel('True Positive Rate')\n",
    "plt.title('Receiver operating characteristic example')\n",
    "plt.legend(loc=\"lower right\")\n",
    "plt.show()"
   ]
  },
  {
   "cell_type": "code",
   "execution_count": null,
   "metadata": {},
   "outputs": [],
   "source": []
  }
 ],
 "metadata": {
  "kernelspec": {
   "display_name": "Python 3",
   "language": "python",
   "name": "python3"
  },
  "language_info": {
   "codemirror_mode": {
    "name": "ipython",
    "version": 3
   },
   "file_extension": ".py",
   "mimetype": "text/x-python",
   "name": "python",
   "nbconvert_exporter": "python",
   "pygments_lexer": "ipython3",
   "version": "3.7.5"
  }
 },
 "nbformat": 4,
 "nbformat_minor": 2
}
